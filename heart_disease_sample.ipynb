{
 "cells": [
  {
   "cell_type": "markdown",
   "id": "9bce06ae-be23-4aba-aab8-f22d9377932f",
   "metadata": {},
   "source": [
    "# <b>1<span style='color:#0386f7de'>|</span> Importing libraries</b>"
   ]
  },
  {
   "cell_type": "code",
   "execution_count": 1,
   "id": "4a584ea2-7ac7-4da4-a486-1daefe95658b",
   "metadata": {},
   "outputs": [],
   "source": [
    "import pandas as pd\n",
    "import seaborn as sns\n",
    "import matplotlib.pyplot as plt\n",
    "%matplotlib inline\n",
    "import numpy as np"
   ]
  },
  {
   "cell_type": "code",
   "execution_count": 2,
   "id": "58cf5f4e-ebd1-4c3c-affb-20952e08b6a1",
   "metadata": {},
   "outputs": [],
   "source": [
    "from sklearn.linear_model import LogisticRegression \n",
    "from sklearn.preprocessing import OneHotEncoder \n",
    "from sklearn import metrics"
   ]
  },
  {
   "cell_type": "code",
   "execution_count": 3,
   "id": "651d42db",
   "metadata": {},
   "outputs": [],
   "source": [
    "# from sklearn.model_selection import train_test_split\n",
    "# from sklearn.neighbors import KNeighborsClassifier\n",
    "# from sklearn.linear_model import LogisticRegression\n",
    "# from sklearn.compose import make_column_transformer\n",
    "# from sklearn.preprocessing import OneHotEncoder\n",
    "# from sklearn import metrics"
   ]
  },
  {
   "cell_type": "markdown",
   "id": "3b0047fc",
   "metadata": {},
   "source": [
    "# <b>2<span style='color:#0386f7de'>|</span> Exploratory Data </b>\n"
   ]
  },
  {
   "cell_type": "code",
   "execution_count": 4,
   "id": "43049a9c",
   "metadata": {
    "scrolled": true
   },
   "outputs": [
    {
     "data": {
      "text/html": [
       "<div>\n",
       "<style scoped>\n",
       "    .dataframe tbody tr th:only-of-type {\n",
       "        vertical-align: middle;\n",
       "    }\n",
       "\n",
       "    .dataframe tbody tr th {\n",
       "        vertical-align: top;\n",
       "    }\n",
       "\n",
       "    .dataframe thead th {\n",
       "        text-align: right;\n",
       "    }\n",
       "</style>\n",
       "<table border=\"1\" class=\"dataframe\">\n",
       "  <thead>\n",
       "    <tr style=\"text-align: right;\">\n",
       "      <th></th>\n",
       "      <th>HeartDisease</th>\n",
       "      <th>BMI</th>\n",
       "      <th>Smoking</th>\n",
       "      <th>AlcoholDrinking</th>\n",
       "      <th>Stroke</th>\n",
       "      <th>PhysicalHealth</th>\n",
       "      <th>MentalHealth</th>\n",
       "      <th>DiffWalking</th>\n",
       "      <th>Sex</th>\n",
       "      <th>AgeCategory</th>\n",
       "      <th>Race</th>\n",
       "      <th>Diabetic</th>\n",
       "      <th>PhysicalActivity</th>\n",
       "      <th>GenHealth</th>\n",
       "      <th>SleepTime</th>\n",
       "      <th>Asthma</th>\n",
       "      <th>KidneyDisease</th>\n",
       "      <th>SkinCancer</th>\n",
       "    </tr>\n",
       "  </thead>\n",
       "  <tbody>\n",
       "    <tr>\n",
       "      <th>0</th>\n",
       "      <td>No</td>\n",
       "      <td>16.60</td>\n",
       "      <td>Yes</td>\n",
       "      <td>No</td>\n",
       "      <td>No</td>\n",
       "      <td>3.0</td>\n",
       "      <td>30.0</td>\n",
       "      <td>No</td>\n",
       "      <td>Female</td>\n",
       "      <td>55-59</td>\n",
       "      <td>White</td>\n",
       "      <td>Yes</td>\n",
       "      <td>Yes</td>\n",
       "      <td>Very good</td>\n",
       "      <td>5.0</td>\n",
       "      <td>Yes</td>\n",
       "      <td>No</td>\n",
       "      <td>Yes</td>\n",
       "    </tr>\n",
       "    <tr>\n",
       "      <th>1</th>\n",
       "      <td>No</td>\n",
       "      <td>20.34</td>\n",
       "      <td>No</td>\n",
       "      <td>No</td>\n",
       "      <td>Yes</td>\n",
       "      <td>0.0</td>\n",
       "      <td>0.0</td>\n",
       "      <td>No</td>\n",
       "      <td>Female</td>\n",
       "      <td>80 or older</td>\n",
       "      <td>White</td>\n",
       "      <td>No</td>\n",
       "      <td>Yes</td>\n",
       "      <td>Very good</td>\n",
       "      <td>7.0</td>\n",
       "      <td>No</td>\n",
       "      <td>No</td>\n",
       "      <td>No</td>\n",
       "    </tr>\n",
       "    <tr>\n",
       "      <th>2</th>\n",
       "      <td>No</td>\n",
       "      <td>26.58</td>\n",
       "      <td>Yes</td>\n",
       "      <td>No</td>\n",
       "      <td>No</td>\n",
       "      <td>20.0</td>\n",
       "      <td>30.0</td>\n",
       "      <td>No</td>\n",
       "      <td>Male</td>\n",
       "      <td>65-69</td>\n",
       "      <td>White</td>\n",
       "      <td>Yes</td>\n",
       "      <td>Yes</td>\n",
       "      <td>Fair</td>\n",
       "      <td>8.0</td>\n",
       "      <td>Yes</td>\n",
       "      <td>No</td>\n",
       "      <td>No</td>\n",
       "    </tr>\n",
       "    <tr>\n",
       "      <th>3</th>\n",
       "      <td>No</td>\n",
       "      <td>24.21</td>\n",
       "      <td>No</td>\n",
       "      <td>No</td>\n",
       "      <td>No</td>\n",
       "      <td>0.0</td>\n",
       "      <td>0.0</td>\n",
       "      <td>No</td>\n",
       "      <td>Female</td>\n",
       "      <td>75-79</td>\n",
       "      <td>White</td>\n",
       "      <td>No</td>\n",
       "      <td>No</td>\n",
       "      <td>Good</td>\n",
       "      <td>6.0</td>\n",
       "      <td>No</td>\n",
       "      <td>No</td>\n",
       "      <td>Yes</td>\n",
       "    </tr>\n",
       "    <tr>\n",
       "      <th>4</th>\n",
       "      <td>No</td>\n",
       "      <td>23.71</td>\n",
       "      <td>No</td>\n",
       "      <td>No</td>\n",
       "      <td>No</td>\n",
       "      <td>28.0</td>\n",
       "      <td>0.0</td>\n",
       "      <td>Yes</td>\n",
       "      <td>Female</td>\n",
       "      <td>40-44</td>\n",
       "      <td>White</td>\n",
       "      <td>No</td>\n",
       "      <td>Yes</td>\n",
       "      <td>Very good</td>\n",
       "      <td>8.0</td>\n",
       "      <td>No</td>\n",
       "      <td>No</td>\n",
       "      <td>No</td>\n",
       "    </tr>\n",
       "    <tr>\n",
       "      <th>...</th>\n",
       "      <td>...</td>\n",
       "      <td>...</td>\n",
       "      <td>...</td>\n",
       "      <td>...</td>\n",
       "      <td>...</td>\n",
       "      <td>...</td>\n",
       "      <td>...</td>\n",
       "      <td>...</td>\n",
       "      <td>...</td>\n",
       "      <td>...</td>\n",
       "      <td>...</td>\n",
       "      <td>...</td>\n",
       "      <td>...</td>\n",
       "      <td>...</td>\n",
       "      <td>...</td>\n",
       "      <td>...</td>\n",
       "      <td>...</td>\n",
       "      <td>...</td>\n",
       "    </tr>\n",
       "    <tr>\n",
       "      <th>319790</th>\n",
       "      <td>Yes</td>\n",
       "      <td>27.41</td>\n",
       "      <td>Yes</td>\n",
       "      <td>No</td>\n",
       "      <td>No</td>\n",
       "      <td>7.0</td>\n",
       "      <td>0.0</td>\n",
       "      <td>Yes</td>\n",
       "      <td>Male</td>\n",
       "      <td>60-64</td>\n",
       "      <td>Hispanic</td>\n",
       "      <td>Yes</td>\n",
       "      <td>No</td>\n",
       "      <td>Fair</td>\n",
       "      <td>6.0</td>\n",
       "      <td>Yes</td>\n",
       "      <td>No</td>\n",
       "      <td>No</td>\n",
       "    </tr>\n",
       "    <tr>\n",
       "      <th>319791</th>\n",
       "      <td>No</td>\n",
       "      <td>29.84</td>\n",
       "      <td>Yes</td>\n",
       "      <td>No</td>\n",
       "      <td>No</td>\n",
       "      <td>0.0</td>\n",
       "      <td>0.0</td>\n",
       "      <td>No</td>\n",
       "      <td>Male</td>\n",
       "      <td>35-39</td>\n",
       "      <td>Hispanic</td>\n",
       "      <td>No</td>\n",
       "      <td>Yes</td>\n",
       "      <td>Very good</td>\n",
       "      <td>5.0</td>\n",
       "      <td>Yes</td>\n",
       "      <td>No</td>\n",
       "      <td>No</td>\n",
       "    </tr>\n",
       "    <tr>\n",
       "      <th>319792</th>\n",
       "      <td>No</td>\n",
       "      <td>24.24</td>\n",
       "      <td>No</td>\n",
       "      <td>No</td>\n",
       "      <td>No</td>\n",
       "      <td>0.0</td>\n",
       "      <td>0.0</td>\n",
       "      <td>No</td>\n",
       "      <td>Female</td>\n",
       "      <td>45-49</td>\n",
       "      <td>Hispanic</td>\n",
       "      <td>No</td>\n",
       "      <td>Yes</td>\n",
       "      <td>Good</td>\n",
       "      <td>6.0</td>\n",
       "      <td>No</td>\n",
       "      <td>No</td>\n",
       "      <td>No</td>\n",
       "    </tr>\n",
       "    <tr>\n",
       "      <th>319793</th>\n",
       "      <td>No</td>\n",
       "      <td>32.81</td>\n",
       "      <td>No</td>\n",
       "      <td>No</td>\n",
       "      <td>No</td>\n",
       "      <td>0.0</td>\n",
       "      <td>0.0</td>\n",
       "      <td>No</td>\n",
       "      <td>Female</td>\n",
       "      <td>25-29</td>\n",
       "      <td>Hispanic</td>\n",
       "      <td>No</td>\n",
       "      <td>No</td>\n",
       "      <td>Good</td>\n",
       "      <td>12.0</td>\n",
       "      <td>No</td>\n",
       "      <td>No</td>\n",
       "      <td>No</td>\n",
       "    </tr>\n",
       "    <tr>\n",
       "      <th>319794</th>\n",
       "      <td>No</td>\n",
       "      <td>46.56</td>\n",
       "      <td>No</td>\n",
       "      <td>No</td>\n",
       "      <td>No</td>\n",
       "      <td>0.0</td>\n",
       "      <td>0.0</td>\n",
       "      <td>No</td>\n",
       "      <td>Female</td>\n",
       "      <td>80 or older</td>\n",
       "      <td>Hispanic</td>\n",
       "      <td>No</td>\n",
       "      <td>Yes</td>\n",
       "      <td>Good</td>\n",
       "      <td>8.0</td>\n",
       "      <td>No</td>\n",
       "      <td>No</td>\n",
       "      <td>No</td>\n",
       "    </tr>\n",
       "  </tbody>\n",
       "</table>\n",
       "<p>319795 rows × 18 columns</p>\n",
       "</div>"
      ],
      "text/plain": [
       "       HeartDisease    BMI Smoking AlcoholDrinking Stroke  PhysicalHealth  \\\n",
       "0                No  16.60     Yes              No     No             3.0   \n",
       "1                No  20.34      No              No    Yes             0.0   \n",
       "2                No  26.58     Yes              No     No            20.0   \n",
       "3                No  24.21      No              No     No             0.0   \n",
       "4                No  23.71      No              No     No            28.0   \n",
       "...             ...    ...     ...             ...    ...             ...   \n",
       "319790          Yes  27.41     Yes              No     No             7.0   \n",
       "319791           No  29.84     Yes              No     No             0.0   \n",
       "319792           No  24.24      No              No     No             0.0   \n",
       "319793           No  32.81      No              No     No             0.0   \n",
       "319794           No  46.56      No              No     No             0.0   \n",
       "\n",
       "        MentalHealth DiffWalking     Sex  AgeCategory      Race Diabetic  \\\n",
       "0               30.0          No  Female        55-59     White      Yes   \n",
       "1                0.0          No  Female  80 or older     White       No   \n",
       "2               30.0          No    Male        65-69     White      Yes   \n",
       "3                0.0          No  Female        75-79     White       No   \n",
       "4                0.0         Yes  Female        40-44     White       No   \n",
       "...              ...         ...     ...          ...       ...      ...   \n",
       "319790           0.0         Yes    Male        60-64  Hispanic      Yes   \n",
       "319791           0.0          No    Male        35-39  Hispanic       No   \n",
       "319792           0.0          No  Female        45-49  Hispanic       No   \n",
       "319793           0.0          No  Female        25-29  Hispanic       No   \n",
       "319794           0.0          No  Female  80 or older  Hispanic       No   \n",
       "\n",
       "       PhysicalActivity  GenHealth  SleepTime Asthma KidneyDisease SkinCancer  \n",
       "0                   Yes  Very good        5.0    Yes            No        Yes  \n",
       "1                   Yes  Very good        7.0     No            No         No  \n",
       "2                   Yes       Fair        8.0    Yes            No         No  \n",
       "3                    No       Good        6.0     No            No        Yes  \n",
       "4                   Yes  Very good        8.0     No            No         No  \n",
       "...                 ...        ...        ...    ...           ...        ...  \n",
       "319790               No       Fair        6.0    Yes            No         No  \n",
       "319791              Yes  Very good        5.0    Yes            No         No  \n",
       "319792              Yes       Good        6.0     No            No         No  \n",
       "319793               No       Good       12.0     No            No         No  \n",
       "319794              Yes       Good        8.0     No            No         No  \n",
       "\n",
       "[319795 rows x 18 columns]"
      ]
     },
     "execution_count": 4,
     "metadata": {},
     "output_type": "execute_result"
    }
   ],
   "source": [
    "#Loading CSV file \"Dataset\"\n",
    "heart_database = pd.read_csv(\"Resources/heart_2020_cleaned.csv\")\n",
    "heart_database"
   ]
  },
  {
   "cell_type": "markdown",
   "id": "0ae2e8b0-63e1-4eed-b899-204b526612e0",
   "metadata": {
    "tags": []
   },
   "source": [
    "# <b>3<span style='color:#0386f7de'>|</span> Explanation of the variables of the dataset </b> \n",
    "\n",
    "1. HeartDisease : Respondents that have ever reported having coronary heart disease (CHD) or myocardial infarction (MI).\n",
    "2. BMI : Body Mass Index (BMI).\n",
    "3. Smoking : Have you smoked at least 100 cigarettes in your entire life? ( The answer Yes or No ).\n",
    "4. AlcoholDrinking : Heavy drinkers (adult men having more than 14 drinks per week and adult women having more than 7 drinks per week\n",
    "5. Stroke : (Ever told) (you had) a stroke?\n",
    "6. PhysicalHealth : Now thinking about your physical health, which includes physical illness and injury, for how many days during the past 30 days was your physical health not good? (0-30 days).\n",
    "7. MentalHealth : Thinking about your mental health, for how many days during the past 30 days was your mental health not good? (0-30 days).\n",
    "8. DiffWalking : Do you have serious difficulty walking or climbing stairs?\n",
    "9. Sex : Are you male or female?\n",
    "10. AgeCategory: Fourteen-level age category.\n",
    "11. Race : Imputed race/ethnicity value.\n",
    "12. Diabetic : (Ever told) (you had) diabetes?\n",
    "13. PhysicalActivity : Adults who reported doing physical activity or exercise during the past 30 days other than their regular job.\n",
    "14. GenHealth : Would you say that in general your health is...\n",
    "15. SleepTime : On average, how many hours of sleep do you get in a 24-hour period?\n",
    "16. Asthma : (Ever told) (you had) asthma?\n",
    "17. KidneyDisease : Not including kidney stones, bladder infection or incontinence, were you ever told you had kidney disease?\n",
    "18. SkinCancer : (Ever told) (you had) skin cancer?\n"
   ]
  },
  {
   "cell_type": "markdown",
   "id": "3d7f5a9e-8de5-43fb-9da2-6f9a196bedc6",
   "metadata": {},
   "source": [
    "# <b>4<span style='color:#0386f7de'>|</span> Exploring and evaluating the variables of the dataset </b>\n"
   ]
  },
  {
   "cell_type": "code",
   "execution_count": 5,
   "id": "724d899e",
   "metadata": {},
   "outputs": [
    {
     "name": "stdout",
     "output_type": "stream",
     "text": [
      "<class 'pandas.core.frame.DataFrame'>\n",
      "RangeIndex: 319795 entries, 0 to 319794\n",
      "Data columns (total 18 columns):\n",
      " #   Column            Non-Null Count   Dtype  \n",
      "---  ------            --------------   -----  \n",
      " 0   HeartDisease      319795 non-null  object \n",
      " 1   BMI               319795 non-null  float64\n",
      " 2   Smoking           319795 non-null  object \n",
      " 3   AlcoholDrinking   319795 non-null  object \n",
      " 4   Stroke            319795 non-null  object \n",
      " 5   PhysicalHealth    319795 non-null  float64\n",
      " 6   MentalHealth      319795 non-null  float64\n",
      " 7   DiffWalking       319795 non-null  object \n",
      " 8   Sex               319795 non-null  object \n",
      " 9   AgeCategory       319795 non-null  object \n",
      " 10  Race              319795 non-null  object \n",
      " 11  Diabetic          319795 non-null  object \n",
      " 12  PhysicalActivity  319795 non-null  object \n",
      " 13  GenHealth         319795 non-null  object \n",
      " 14  SleepTime         319795 non-null  float64\n",
      " 15  Asthma            319795 non-null  object \n",
      " 16  KidneyDisease     319795 non-null  object \n",
      " 17  SkinCancer        319795 non-null  object \n",
      "dtypes: float64(4), object(14)\n",
      "memory usage: 43.9+ MB\n"
     ]
    }
   ],
   "source": [
    "# Explore Data types\n",
    "heart_database.info()"
   ]
  },
  {
   "cell_type": "markdown",
   "id": "f8d743a3-b28e-422d-9f96-be80a3ad4fef",
   "metadata": {},
   "source": [
    "We have roughly 319795 records with 18 columns, according to the result. There are no null values, and there are 14 numeric and four categorical features. We can convert the string properties that only have two unique values, but first let's make sure there aren't any aberrant values."
   ]
  },
  {
   "cell_type": "code",
   "execution_count": 6,
   "id": "d726b976",
   "metadata": {},
   "outputs": [
    {
     "name": "stdout",
     "output_type": "stream",
     "text": [
      "(319795, 18)\n"
     ]
    }
   ],
   "source": [
    "# Exploring data sample size\n",
    "print(heart_database.shape)"
   ]
  },
  {
   "cell_type": "code",
   "execution_count": 7,
   "id": "38aab481",
   "metadata": {
    "scrolled": true
   },
   "outputs": [
    {
     "data": {
      "text/plain": [
       "No     292422\n",
       "Yes     27373\n",
       "Name: HeartDisease, dtype: int64"
      ]
     },
     "execution_count": 7,
     "metadata": {},
     "output_type": "execute_result"
    }
   ],
   "source": [
    "# Review number of Positive heart disease cases\n",
    "heart_database['HeartDisease'].value_counts()"
   ]
  },
  {
   "cell_type": "code",
   "execution_count": 8,
   "id": "d07cdfaf",
   "metadata": {},
   "outputs": [
    {
     "data": {
      "text/plain": [
       "HeartDisease           2\n",
       "BMI                 3604\n",
       "Smoking                2\n",
       "AlcoholDrinking        2\n",
       "Stroke                 2\n",
       "PhysicalHealth        31\n",
       "MentalHealth          31\n",
       "DiffWalking            2\n",
       "Sex                    2\n",
       "AgeCategory           13\n",
       "Race                   6\n",
       "Diabetic               4\n",
       "PhysicalActivity       2\n",
       "GenHealth              5\n",
       "SleepTime             24\n",
       "Asthma                 2\n",
       "KidneyDisease          2\n",
       "SkinCancer             2\n",
       "dtype: int64"
      ]
     },
     "execution_count": 8,
     "metadata": {},
     "output_type": "execute_result"
    }
   ],
   "source": [
    "heart_database.nunique()"
   ]
  },
  {
   "cell_type": "code",
   "execution_count": 9,
   "id": "4a55a371",
   "metadata": {},
   "outputs": [
    {
     "name": "stdout",
     "output_type": "stream",
     "text": [
      "Columnn HeartDisease has 0 null values\n",
      "Columnn BMI has 0 null values\n",
      "Columnn Smoking has 0 null values\n",
      "Columnn AlcoholDrinking has 0 null values\n",
      "Columnn Stroke has 0 null values\n",
      "Columnn PhysicalHealth has 0 null values\n",
      "Columnn MentalHealth has 0 null values\n",
      "Columnn DiffWalking has 0 null values\n",
      "Columnn Sex has 0 null values\n",
      "Columnn AgeCategory has 0 null values\n",
      "Columnn Race has 0 null values\n",
      "Columnn Diabetic has 0 null values\n",
      "Columnn PhysicalActivity has 0 null values\n",
      "Columnn GenHealth has 0 null values\n",
      "Columnn SleepTime has 0 null values\n",
      "Columnn Asthma has 0 null values\n",
      "Columnn KidneyDisease has 0 null values\n",
      "Columnn SkinCancer has 0 null values\n"
     ]
    }
   ],
   "source": [
    "# Find null values\n",
    "for column in heart_database.columns:\n",
    "    print(f\"Columnn {column} has {heart_database[column].isnull().sum()} null values\")"
   ]
  },
  {
   "cell_type": "code",
   "execution_count": 10,
   "id": "d72a2a0e-d1bf-478a-90ca-67518148ed0c",
   "metadata": {},
   "outputs": [],
   "source": [
    "# Replacing Bolean variables by 1 and 0\n",
    "heart_database =  heart_database[heart_database.columns].replace({'Yes':1, 'No':0, 'Male':1,'Female':0})"
   ]
  },
  {
   "cell_type": "markdown",
   "id": "45d0ec11-dd2a-4371-a25a-8a5f6175badd",
   "metadata": {},
   "source": [
    "We'll utilize OneHotEncoder in the preprocessing stage later for some variables that have more than two unique values."
   ]
  },
  {
   "cell_type": "markdown",
   "id": "da8795f7-a21d-44e9-8dad-67f830e1687c",
   "metadata": {},
   "source": [
    "# <b>5<span style='color:#0386f7de'>|</span>Analysis of Numeric Variables</b>"
   ]
  },
  {
   "cell_type": "code",
   "execution_count": 11,
   "id": "698b4327",
   "metadata": {},
   "outputs": [
    {
     "data": {
      "text/html": [
       "<style type=\"text/css\">\n",
       "#T_07cae_row0_col0, #T_07cae_row0_col1, #T_07cae_row0_col2, #T_07cae_row0_col3, #T_07cae_row0_col4, #T_07cae_row0_col5, #T_07cae_row0_col6, #T_07cae_row0_col7, #T_07cae_row1_col0, #T_07cae_row1_col1, #T_07cae_row1_col2, #T_07cae_row1_col3, #T_07cae_row1_col4, #T_07cae_row1_col5, #T_07cae_row1_col6, #T_07cae_row1_col7, #T_07cae_row2_col0, #T_07cae_row2_col1, #T_07cae_row2_col2, #T_07cae_row2_col3, #T_07cae_row2_col4, #T_07cae_row2_col5, #T_07cae_row2_col6, #T_07cae_row2_col7, #T_07cae_row3_col0, #T_07cae_row3_col1, #T_07cae_row3_col2, #T_07cae_row3_col3, #T_07cae_row3_col4, #T_07cae_row3_col5, #T_07cae_row3_col6, #T_07cae_row3_col7, #T_07cae_row4_col0, #T_07cae_row4_col1, #T_07cae_row4_col2, #T_07cae_row4_col3, #T_07cae_row4_col4, #T_07cae_row4_col5, #T_07cae_row4_col6, #T_07cae_row4_col7, #T_07cae_row5_col0, #T_07cae_row5_col1, #T_07cae_row5_col2, #T_07cae_row5_col3, #T_07cae_row5_col4, #T_07cae_row5_col5, #T_07cae_row5_col6, #T_07cae_row5_col7, #T_07cae_row6_col0, #T_07cae_row6_col1, #T_07cae_row6_col2, #T_07cae_row6_col3, #T_07cae_row6_col4, #T_07cae_row6_col5, #T_07cae_row6_col6, #T_07cae_row6_col7, #T_07cae_row7_col0, #T_07cae_row7_col1, #T_07cae_row7_col2, #T_07cae_row7_col3, #T_07cae_row7_col4, #T_07cae_row7_col5, #T_07cae_row7_col6, #T_07cae_row7_col7, #T_07cae_row8_col0, #T_07cae_row8_col1, #T_07cae_row8_col2, #T_07cae_row8_col3, #T_07cae_row8_col4, #T_07cae_row8_col5, #T_07cae_row8_col6, #T_07cae_row8_col7, #T_07cae_row9_col0, #T_07cae_row9_col1, #T_07cae_row9_col2, #T_07cae_row9_col3, #T_07cae_row9_col4, #T_07cae_row9_col5, #T_07cae_row9_col6, #T_07cae_row9_col7, #T_07cae_row10_col0, #T_07cae_row10_col1, #T_07cae_row10_col2, #T_07cae_row10_col3, #T_07cae_row10_col4, #T_07cae_row10_col5, #T_07cae_row10_col6, #T_07cae_row10_col7, #T_07cae_row11_col0, #T_07cae_row11_col1, #T_07cae_row11_col2, #T_07cae_row11_col3, #T_07cae_row11_col4, #T_07cae_row11_col5, #T_07cae_row11_col6, #T_07cae_row11_col7, #T_07cae_row12_col0, #T_07cae_row12_col1, #T_07cae_row12_col2, #T_07cae_row12_col3, #T_07cae_row12_col4, #T_07cae_row12_col5, #T_07cae_row12_col6, #T_07cae_row12_col7, #T_07cae_row13_col0, #T_07cae_row13_col1, #T_07cae_row13_col2, #T_07cae_row13_col3, #T_07cae_row13_col4, #T_07cae_row13_col5, #T_07cae_row13_col6, #T_07cae_row13_col7 {\n",
       "  background-color: grey;\n",
       "  color: white;\n",
       "  border-color: white;\n",
       "}\n",
       "</style>\n",
       "<table id=\"T_07cae_\">\n",
       "  <thead>\n",
       "    <tr>\n",
       "      <th class=\"blank level0\" >&nbsp;</th>\n",
       "      <th class=\"col_heading level0 col0\" >count</th>\n",
       "      <th class=\"col_heading level0 col1\" >mean</th>\n",
       "      <th class=\"col_heading level0 col2\" >std</th>\n",
       "      <th class=\"col_heading level0 col3\" >min</th>\n",
       "      <th class=\"col_heading level0 col4\" >25%</th>\n",
       "      <th class=\"col_heading level0 col5\" >50%</th>\n",
       "      <th class=\"col_heading level0 col6\" >75%</th>\n",
       "      <th class=\"col_heading level0 col7\" >max</th>\n",
       "    </tr>\n",
       "  </thead>\n",
       "  <tbody>\n",
       "    <tr>\n",
       "      <th id=\"T_07cae_level0_row0\" class=\"row_heading level0 row0\" >HeartDisease</th>\n",
       "      <td id=\"T_07cae_row0_col0\" class=\"data row0 col0\" >319795.000000</td>\n",
       "      <td id=\"T_07cae_row0_col1\" class=\"data row0 col1\" >0.085595</td>\n",
       "      <td id=\"T_07cae_row0_col2\" class=\"data row0 col2\" >0.279766</td>\n",
       "      <td id=\"T_07cae_row0_col3\" class=\"data row0 col3\" >0.000000</td>\n",
       "      <td id=\"T_07cae_row0_col4\" class=\"data row0 col4\" >0.000000</td>\n",
       "      <td id=\"T_07cae_row0_col5\" class=\"data row0 col5\" >0.000000</td>\n",
       "      <td id=\"T_07cae_row0_col6\" class=\"data row0 col6\" >0.000000</td>\n",
       "      <td id=\"T_07cae_row0_col7\" class=\"data row0 col7\" >1.000000</td>\n",
       "    </tr>\n",
       "    <tr>\n",
       "      <th id=\"T_07cae_level0_row1\" class=\"row_heading level0 row1\" >BMI</th>\n",
       "      <td id=\"T_07cae_row1_col0\" class=\"data row1 col0\" >319795.000000</td>\n",
       "      <td id=\"T_07cae_row1_col1\" class=\"data row1 col1\" >28.325399</td>\n",
       "      <td id=\"T_07cae_row1_col2\" class=\"data row1 col2\" >6.356100</td>\n",
       "      <td id=\"T_07cae_row1_col3\" class=\"data row1 col3\" >12.020000</td>\n",
       "      <td id=\"T_07cae_row1_col4\" class=\"data row1 col4\" >24.030000</td>\n",
       "      <td id=\"T_07cae_row1_col5\" class=\"data row1 col5\" >27.340000</td>\n",
       "      <td id=\"T_07cae_row1_col6\" class=\"data row1 col6\" >31.420000</td>\n",
       "      <td id=\"T_07cae_row1_col7\" class=\"data row1 col7\" >94.850000</td>\n",
       "    </tr>\n",
       "    <tr>\n",
       "      <th id=\"T_07cae_level0_row2\" class=\"row_heading level0 row2\" >Smoking</th>\n",
       "      <td id=\"T_07cae_row2_col0\" class=\"data row2 col0\" >319795.000000</td>\n",
       "      <td id=\"T_07cae_row2_col1\" class=\"data row2 col1\" >0.412477</td>\n",
       "      <td id=\"T_07cae_row2_col2\" class=\"data row2 col2\" >0.492281</td>\n",
       "      <td id=\"T_07cae_row2_col3\" class=\"data row2 col3\" >0.000000</td>\n",
       "      <td id=\"T_07cae_row2_col4\" class=\"data row2 col4\" >0.000000</td>\n",
       "      <td id=\"T_07cae_row2_col5\" class=\"data row2 col5\" >0.000000</td>\n",
       "      <td id=\"T_07cae_row2_col6\" class=\"data row2 col6\" >1.000000</td>\n",
       "      <td id=\"T_07cae_row2_col7\" class=\"data row2 col7\" >1.000000</td>\n",
       "    </tr>\n",
       "    <tr>\n",
       "      <th id=\"T_07cae_level0_row3\" class=\"row_heading level0 row3\" >AlcoholDrinking</th>\n",
       "      <td id=\"T_07cae_row3_col0\" class=\"data row3 col0\" >319795.000000</td>\n",
       "      <td id=\"T_07cae_row3_col1\" class=\"data row3 col1\" >0.068097</td>\n",
       "      <td id=\"T_07cae_row3_col2\" class=\"data row3 col2\" >0.251912</td>\n",
       "      <td id=\"T_07cae_row3_col3\" class=\"data row3 col3\" >0.000000</td>\n",
       "      <td id=\"T_07cae_row3_col4\" class=\"data row3 col4\" >0.000000</td>\n",
       "      <td id=\"T_07cae_row3_col5\" class=\"data row3 col5\" >0.000000</td>\n",
       "      <td id=\"T_07cae_row3_col6\" class=\"data row3 col6\" >0.000000</td>\n",
       "      <td id=\"T_07cae_row3_col7\" class=\"data row3 col7\" >1.000000</td>\n",
       "    </tr>\n",
       "    <tr>\n",
       "      <th id=\"T_07cae_level0_row4\" class=\"row_heading level0 row4\" >Stroke</th>\n",
       "      <td id=\"T_07cae_row4_col0\" class=\"data row4 col0\" >319795.000000</td>\n",
       "      <td id=\"T_07cae_row4_col1\" class=\"data row4 col1\" >0.037740</td>\n",
       "      <td id=\"T_07cae_row4_col2\" class=\"data row4 col2\" >0.190567</td>\n",
       "      <td id=\"T_07cae_row4_col3\" class=\"data row4 col3\" >0.000000</td>\n",
       "      <td id=\"T_07cae_row4_col4\" class=\"data row4 col4\" >0.000000</td>\n",
       "      <td id=\"T_07cae_row4_col5\" class=\"data row4 col5\" >0.000000</td>\n",
       "      <td id=\"T_07cae_row4_col6\" class=\"data row4 col6\" >0.000000</td>\n",
       "      <td id=\"T_07cae_row4_col7\" class=\"data row4 col7\" >1.000000</td>\n",
       "    </tr>\n",
       "    <tr>\n",
       "      <th id=\"T_07cae_level0_row5\" class=\"row_heading level0 row5\" >PhysicalHealth</th>\n",
       "      <td id=\"T_07cae_row5_col0\" class=\"data row5 col0\" >319795.000000</td>\n",
       "      <td id=\"T_07cae_row5_col1\" class=\"data row5 col1\" >3.371710</td>\n",
       "      <td id=\"T_07cae_row5_col2\" class=\"data row5 col2\" >7.950850</td>\n",
       "      <td id=\"T_07cae_row5_col3\" class=\"data row5 col3\" >0.000000</td>\n",
       "      <td id=\"T_07cae_row5_col4\" class=\"data row5 col4\" >0.000000</td>\n",
       "      <td id=\"T_07cae_row5_col5\" class=\"data row5 col5\" >0.000000</td>\n",
       "      <td id=\"T_07cae_row5_col6\" class=\"data row5 col6\" >2.000000</td>\n",
       "      <td id=\"T_07cae_row5_col7\" class=\"data row5 col7\" >30.000000</td>\n",
       "    </tr>\n",
       "    <tr>\n",
       "      <th id=\"T_07cae_level0_row6\" class=\"row_heading level0 row6\" >MentalHealth</th>\n",
       "      <td id=\"T_07cae_row6_col0\" class=\"data row6 col0\" >319795.000000</td>\n",
       "      <td id=\"T_07cae_row6_col1\" class=\"data row6 col1\" >3.898366</td>\n",
       "      <td id=\"T_07cae_row6_col2\" class=\"data row6 col2\" >7.955235</td>\n",
       "      <td id=\"T_07cae_row6_col3\" class=\"data row6 col3\" >0.000000</td>\n",
       "      <td id=\"T_07cae_row6_col4\" class=\"data row6 col4\" >0.000000</td>\n",
       "      <td id=\"T_07cae_row6_col5\" class=\"data row6 col5\" >0.000000</td>\n",
       "      <td id=\"T_07cae_row6_col6\" class=\"data row6 col6\" >3.000000</td>\n",
       "      <td id=\"T_07cae_row6_col7\" class=\"data row6 col7\" >30.000000</td>\n",
       "    </tr>\n",
       "    <tr>\n",
       "      <th id=\"T_07cae_level0_row7\" class=\"row_heading level0 row7\" >DiffWalking</th>\n",
       "      <td id=\"T_07cae_row7_col0\" class=\"data row7 col0\" >319795.000000</td>\n",
       "      <td id=\"T_07cae_row7_col1\" class=\"data row7 col1\" >0.138870</td>\n",
       "      <td id=\"T_07cae_row7_col2\" class=\"data row7 col2\" >0.345812</td>\n",
       "      <td id=\"T_07cae_row7_col3\" class=\"data row7 col3\" >0.000000</td>\n",
       "      <td id=\"T_07cae_row7_col4\" class=\"data row7 col4\" >0.000000</td>\n",
       "      <td id=\"T_07cae_row7_col5\" class=\"data row7 col5\" >0.000000</td>\n",
       "      <td id=\"T_07cae_row7_col6\" class=\"data row7 col6\" >0.000000</td>\n",
       "      <td id=\"T_07cae_row7_col7\" class=\"data row7 col7\" >1.000000</td>\n",
       "    </tr>\n",
       "    <tr>\n",
       "      <th id=\"T_07cae_level0_row8\" class=\"row_heading level0 row8\" >Sex</th>\n",
       "      <td id=\"T_07cae_row8_col0\" class=\"data row8 col0\" >319795.000000</td>\n",
       "      <td id=\"T_07cae_row8_col1\" class=\"data row8 col1\" >0.475273</td>\n",
       "      <td id=\"T_07cae_row8_col2\" class=\"data row8 col2\" >0.499389</td>\n",
       "      <td id=\"T_07cae_row8_col3\" class=\"data row8 col3\" >0.000000</td>\n",
       "      <td id=\"T_07cae_row8_col4\" class=\"data row8 col4\" >0.000000</td>\n",
       "      <td id=\"T_07cae_row8_col5\" class=\"data row8 col5\" >0.000000</td>\n",
       "      <td id=\"T_07cae_row8_col6\" class=\"data row8 col6\" >1.000000</td>\n",
       "      <td id=\"T_07cae_row8_col7\" class=\"data row8 col7\" >1.000000</td>\n",
       "    </tr>\n",
       "    <tr>\n",
       "      <th id=\"T_07cae_level0_row9\" class=\"row_heading level0 row9\" >PhysicalActivity</th>\n",
       "      <td id=\"T_07cae_row9_col0\" class=\"data row9 col0\" >319795.000000</td>\n",
       "      <td id=\"T_07cae_row9_col1\" class=\"data row9 col1\" >0.775362</td>\n",
       "      <td id=\"T_07cae_row9_col2\" class=\"data row9 col2\" >0.417344</td>\n",
       "      <td id=\"T_07cae_row9_col3\" class=\"data row9 col3\" >0.000000</td>\n",
       "      <td id=\"T_07cae_row9_col4\" class=\"data row9 col4\" >1.000000</td>\n",
       "      <td id=\"T_07cae_row9_col5\" class=\"data row9 col5\" >1.000000</td>\n",
       "      <td id=\"T_07cae_row9_col6\" class=\"data row9 col6\" >1.000000</td>\n",
       "      <td id=\"T_07cae_row9_col7\" class=\"data row9 col7\" >1.000000</td>\n",
       "    </tr>\n",
       "    <tr>\n",
       "      <th id=\"T_07cae_level0_row10\" class=\"row_heading level0 row10\" >SleepTime</th>\n",
       "      <td id=\"T_07cae_row10_col0\" class=\"data row10 col0\" >319795.000000</td>\n",
       "      <td id=\"T_07cae_row10_col1\" class=\"data row10 col1\" >7.097075</td>\n",
       "      <td id=\"T_07cae_row10_col2\" class=\"data row10 col2\" >1.436007</td>\n",
       "      <td id=\"T_07cae_row10_col3\" class=\"data row10 col3\" >1.000000</td>\n",
       "      <td id=\"T_07cae_row10_col4\" class=\"data row10 col4\" >6.000000</td>\n",
       "      <td id=\"T_07cae_row10_col5\" class=\"data row10 col5\" >7.000000</td>\n",
       "      <td id=\"T_07cae_row10_col6\" class=\"data row10 col6\" >8.000000</td>\n",
       "      <td id=\"T_07cae_row10_col7\" class=\"data row10 col7\" >24.000000</td>\n",
       "    </tr>\n",
       "    <tr>\n",
       "      <th id=\"T_07cae_level0_row11\" class=\"row_heading level0 row11\" >Asthma</th>\n",
       "      <td id=\"T_07cae_row11_col0\" class=\"data row11 col0\" >319795.000000</td>\n",
       "      <td id=\"T_07cae_row11_col1\" class=\"data row11 col1\" >0.134061</td>\n",
       "      <td id=\"T_07cae_row11_col2\" class=\"data row11 col2\" >0.340718</td>\n",
       "      <td id=\"T_07cae_row11_col3\" class=\"data row11 col3\" >0.000000</td>\n",
       "      <td id=\"T_07cae_row11_col4\" class=\"data row11 col4\" >0.000000</td>\n",
       "      <td id=\"T_07cae_row11_col5\" class=\"data row11 col5\" >0.000000</td>\n",
       "      <td id=\"T_07cae_row11_col6\" class=\"data row11 col6\" >0.000000</td>\n",
       "      <td id=\"T_07cae_row11_col7\" class=\"data row11 col7\" >1.000000</td>\n",
       "    </tr>\n",
       "    <tr>\n",
       "      <th id=\"T_07cae_level0_row12\" class=\"row_heading level0 row12\" >KidneyDisease</th>\n",
       "      <td id=\"T_07cae_row12_col0\" class=\"data row12 col0\" >319795.000000</td>\n",
       "      <td id=\"T_07cae_row12_col1\" class=\"data row12 col1\" >0.036833</td>\n",
       "      <td id=\"T_07cae_row12_col2\" class=\"data row12 col2\" >0.188352</td>\n",
       "      <td id=\"T_07cae_row12_col3\" class=\"data row12 col3\" >0.000000</td>\n",
       "      <td id=\"T_07cae_row12_col4\" class=\"data row12 col4\" >0.000000</td>\n",
       "      <td id=\"T_07cae_row12_col5\" class=\"data row12 col5\" >0.000000</td>\n",
       "      <td id=\"T_07cae_row12_col6\" class=\"data row12 col6\" >0.000000</td>\n",
       "      <td id=\"T_07cae_row12_col7\" class=\"data row12 col7\" >1.000000</td>\n",
       "    </tr>\n",
       "    <tr>\n",
       "      <th id=\"T_07cae_level0_row13\" class=\"row_heading level0 row13\" >SkinCancer</th>\n",
       "      <td id=\"T_07cae_row13_col0\" class=\"data row13 col0\" >319795.000000</td>\n",
       "      <td id=\"T_07cae_row13_col1\" class=\"data row13 col1\" >0.093244</td>\n",
       "      <td id=\"T_07cae_row13_col2\" class=\"data row13 col2\" >0.290775</td>\n",
       "      <td id=\"T_07cae_row13_col3\" class=\"data row13 col3\" >0.000000</td>\n",
       "      <td id=\"T_07cae_row13_col4\" class=\"data row13 col4\" >0.000000</td>\n",
       "      <td id=\"T_07cae_row13_col5\" class=\"data row13 col5\" >0.000000</td>\n",
       "      <td id=\"T_07cae_row13_col6\" class=\"data row13 col6\" >0.000000</td>\n",
       "      <td id=\"T_07cae_row13_col7\" class=\"data row13 col7\" >1.000000</td>\n",
       "    </tr>\n",
       "  </tbody>\n",
       "</table>\n"
      ],
      "text/plain": [
       "<pandas.io.formats.style.Styler at 0x7f94b8840510>"
      ]
     },
     "execution_count": 11,
     "metadata": {},
     "output_type": "execute_result"
    }
   ],
   "source": [
    "heart_database.describe().T.style.set_properties(**{'background-color': 'grey','color': 'white','border-color': 'white'})"
   ]
  },
  {
   "cell_type": "code",
   "execution_count": 12,
   "id": "ae80c7a8",
   "metadata": {},
   "outputs": [
    {
     "data": {
      "text/html": [
       "<div>\n",
       "<style scoped>\n",
       "    .dataframe tbody tr th:only-of-type {\n",
       "        vertical-align: middle;\n",
       "    }\n",
       "\n",
       "    .dataframe tbody tr th {\n",
       "        vertical-align: top;\n",
       "    }\n",
       "\n",
       "    .dataframe thead tr th {\n",
       "        text-align: left;\n",
       "    }\n",
       "\n",
       "    .dataframe thead tr:last-of-type th {\n",
       "        text-align: right;\n",
       "    }\n",
       "</style>\n",
       "<table border=\"1\" class=\"dataframe\">\n",
       "  <thead>\n",
       "    <tr>\n",
       "      <th></th>\n",
       "      <th colspan=\"8\" halign=\"left\">HeartDisease</th>\n",
       "      <th colspan=\"2\" halign=\"left\">BMI</th>\n",
       "      <th>...</th>\n",
       "      <th colspan=\"2\" halign=\"left\">KidneyDisease</th>\n",
       "      <th colspan=\"8\" halign=\"left\">SkinCancer</th>\n",
       "    </tr>\n",
       "    <tr>\n",
       "      <th></th>\n",
       "      <th>count</th>\n",
       "      <th>mean</th>\n",
       "      <th>std</th>\n",
       "      <th>min</th>\n",
       "      <th>25%</th>\n",
       "      <th>50%</th>\n",
       "      <th>75%</th>\n",
       "      <th>max</th>\n",
       "      <th>count</th>\n",
       "      <th>mean</th>\n",
       "      <th>...</th>\n",
       "      <th>75%</th>\n",
       "      <th>max</th>\n",
       "      <th>count</th>\n",
       "      <th>mean</th>\n",
       "      <th>std</th>\n",
       "      <th>min</th>\n",
       "      <th>25%</th>\n",
       "      <th>50%</th>\n",
       "      <th>75%</th>\n",
       "      <th>max</th>\n",
       "    </tr>\n",
       "    <tr>\n",
       "      <th>Sex</th>\n",
       "      <th></th>\n",
       "      <th></th>\n",
       "      <th></th>\n",
       "      <th></th>\n",
       "      <th></th>\n",
       "      <th></th>\n",
       "      <th></th>\n",
       "      <th></th>\n",
       "      <th></th>\n",
       "      <th></th>\n",
       "      <th></th>\n",
       "      <th></th>\n",
       "      <th></th>\n",
       "      <th></th>\n",
       "      <th></th>\n",
       "      <th></th>\n",
       "      <th></th>\n",
       "      <th></th>\n",
       "      <th></th>\n",
       "      <th></th>\n",
       "      <th></th>\n",
       "    </tr>\n",
       "  </thead>\n",
       "  <tbody>\n",
       "    <tr>\n",
       "      <th>0</th>\n",
       "      <td>167805.0</td>\n",
       "      <td>0.066947</td>\n",
       "      <td>0.249931</td>\n",
       "      <td>0.0</td>\n",
       "      <td>0.0</td>\n",
       "      <td>0.0</td>\n",
       "      <td>0.0</td>\n",
       "      <td>1.0</td>\n",
       "      <td>167805.0</td>\n",
       "      <td>28.162436</td>\n",
       "      <td>...</td>\n",
       "      <td>0.0</td>\n",
       "      <td>1.0</td>\n",
       "      <td>167805.0</td>\n",
       "      <td>0.089527</td>\n",
       "      <td>0.285503</td>\n",
       "      <td>0.0</td>\n",
       "      <td>0.0</td>\n",
       "      <td>0.0</td>\n",
       "      <td>0.0</td>\n",
       "      <td>1.0</td>\n",
       "    </tr>\n",
       "    <tr>\n",
       "      <th>1</th>\n",
       "      <td>151990.0</td>\n",
       "      <td>0.106185</td>\n",
       "      <td>0.308075</td>\n",
       "      <td>0.0</td>\n",
       "      <td>0.0</td>\n",
       "      <td>0.0</td>\n",
       "      <td>0.0</td>\n",
       "      <td>1.0</td>\n",
       "      <td>151990.0</td>\n",
       "      <td>28.505317</td>\n",
       "      <td>...</td>\n",
       "      <td>0.0</td>\n",
       "      <td>1.0</td>\n",
       "      <td>151990.0</td>\n",
       "      <td>0.097349</td>\n",
       "      <td>0.296433</td>\n",
       "      <td>0.0</td>\n",
       "      <td>0.0</td>\n",
       "      <td>0.0</td>\n",
       "      <td>0.0</td>\n",
       "      <td>1.0</td>\n",
       "    </tr>\n",
       "  </tbody>\n",
       "</table>\n",
       "<p>2 rows × 104 columns</p>\n",
       "</div>"
      ],
      "text/plain": [
       "    HeartDisease                                                    BMI  \\\n",
       "           count      mean       std  min  25%  50%  75%  max     count   \n",
       "Sex                                                                       \n",
       "0       167805.0  0.066947  0.249931  0.0  0.0  0.0  0.0  1.0  167805.0   \n",
       "1       151990.0  0.106185  0.308075  0.0  0.0  0.0  0.0  1.0  151990.0   \n",
       "\n",
       "                ... KidneyDisease      SkinCancer                           \\\n",
       "          mean  ...           75%  max      count      mean       std  min   \n",
       "Sex             ...                                                          \n",
       "0    28.162436  ...           0.0  1.0   167805.0  0.089527  0.285503  0.0   \n",
       "1    28.505317  ...           0.0  1.0   151990.0  0.097349  0.296433  0.0   \n",
       "\n",
       "                         \n",
       "     25%  50%  75%  max  \n",
       "Sex                      \n",
       "0    0.0  0.0  0.0  1.0  \n",
       "1    0.0  0.0  0.0  1.0  \n",
       "\n",
       "[2 rows x 104 columns]"
      ]
     },
     "execution_count": 12,
     "metadata": {},
     "output_type": "execute_result"
    }
   ],
   "source": [
    "# Descriptive statistics of BMI, Physical Health, Mental Health, SleepTime by sex\n",
    "heart_database.groupby('Sex').describe()"
   ]
  },
  {
   "cell_type": "code",
   "execution_count": 43,
   "id": "1bae9557",
   "metadata": {},
   "outputs": [
    {
     "data": {
      "image/png": "[encoded data removed]",
      "text/plain": [
       "<Figure size 936x432 with 1 Axes>"
      ]
     },
     "metadata": {
      "needs_background": "light"
     },
     "output_type": "display_data"
    }
   ],
   "source": [
    "#order= ['18-24','25-29','30-34','35-39','40-44','45-49','50-54','55-59','60-64','65-69','70-74','75-79','80 or older']\n",
    "# Distribution of heart disease by sex\n",
    "fig, ax = plt.subplots(figsize = (13,6))\n",
    "ax.hist(heart_database[heart_database[\"HeartDisease\"]==1][\"AgeCategory\"], bins=15, alpha=0.5, color=\"red\", label=\"HeartDisease\")\n",
    "ax.hist(heart_database[heart_database[\"HeartDisease\"]==0][\"AgeCategory\"], bins=15, alpha=0.5, color=\"#FCCC79\", label=\"Normal\")\n",
    "ax.set_xlabel(\"Age Category\")\n",
    "ax.set_ylabel(\"Frequency\")\n",
    "ax.invert_xaxis()\n",
    "fig.suptitle(\"Distribution of Heart Disease cases with Yes/No heartdisease according to Age Category\")\n",
    "#ax.set_xticklabels(['18-24','25-29','30-34','35-39','40-44','45-49','50-54','55-59','60-64','65-69','70-74','75-79','80 or older'])\n",
    "ax.legend();"
   ]
  },
  {
   "cell_type": "code",
   "execution_count": null,
   "id": "d6eec6dc",
   "metadata": {},
   "outputs": [],
   "source": [
    "# Categorizing age categories\n",
    "\n",
    "heart_database(\"AgeCatNum\")=np.where(heart_database['AgeCategory'].str.contains('25-29'),1)\n"
   ]
  },
  {
   "cell_type": "code",
   "execution_count": 23,
   "id": "70602389",
   "metadata": {},
   "outputs": [
    {
     "data": {
      "image/png": "[encoded data removed]",
      "text/plain": [
       "<Figure size 936x432 with 1 Axes>"
      ]
     },
     "metadata": {
      "needs_background": "light"
     },
     "output_type": "display_data"
    }
   ],
   "source": [
    "# Distribution of heart disease by age category\n",
    "fig, ax = plt.subplots(figsize = (13,6))\n",
    "ax.hist(heart_database[heart_database[\"HeartDisease\"]==1][\"Sex\"], bins=15, alpha=0.5, color=\"red\", label=\"HeartDisease\")\n",
    "ax.hist(heart_database[heart_database[\"HeartDisease\"]==0][\"Sex\"], bins=15, alpha=0.5, color=\"#FCCC79\", label=\"Normal\")\n",
    "ax.set_xlabel(\"Sex\")\n",
    "ax.set_ylabel(\"Frequency\")\n",
    "fig.suptitle(\"Distribution of Cases with Yes/No heartdisease according to Sex\")\n",
    "ax.legend();"
   ]
  },
  {
   "cell_type": "code",
   "execution_count": 14,
   "id": "7ce5dfe7",
   "metadata": {},
   "outputs": [
    {
     "data": {
      "text/plain": [
       "65-69          34151\n",
       "60-64          33686\n",
       "70-74          31065\n",
       "55-59          29757\n",
       "50-54          25382\n",
       "80 or older    24153\n",
       "45-49          21791\n",
       "75-79          21482\n",
       "18-24          21064\n",
       "40-44          21006\n",
       "35-39          20550\n",
       "30-34          18753\n",
       "25-29          16955\n",
       "Name: AgeCategory, dtype: int64"
      ]
     },
     "execution_count": 14,
     "metadata": {},
     "output_type": "execute_result"
    }
   ],
   "source": [
    "# Tabulating AgeCatory\n",
    "heart_database[\"AgeCategory\"].value_counts()"
   ]
  },
  {
   "cell_type": "code",
   "execution_count": null,
   "id": "3ad09d02",
   "metadata": {},
   "outputs": [],
   "source": []
  },
  {
   "cell_type": "code",
   "execution_count": 15,
   "id": "e07aa81a",
   "metadata": {},
   "outputs": [],
   "source": [
    "# Checking distribution of BMI, Physical Health, Mental Health, SleepTime\n"
   ]
  },
  {
   "cell_type": "code",
   "execution_count": null,
   "id": "19f672d2",
   "metadata": {},
   "outputs": [],
   "source": []
  },
  {
   "cell_type": "markdown",
   "id": "4eabe6eb-7ce3-42a8-b9aa-e4cd0f24a6d7",
   "metadata": {},
   "source": [
    "# <b>6<span style='color:#0386f7de'>|</span>Exploratory AnalysisExplanation of the variables of the dataset</b>"
   ]
  },
  {
   "cell_type": "code",
   "execution_count": 16,
   "id": "511441d6-4ff4-4bbc-bbd3-b9c2eaa32ab6",
   "metadata": {},
   "outputs": [],
   "source": [
    "# Analisis and comparing the different varaibles agains heart disease."
   ]
  },
  {
   "cell_type": "markdown",
   "id": "4f55e852-c3e4-4bbf-9c10-5efd86b5eed5",
   "metadata": {},
   "source": [
    "# <b>7<span style='color:#0386f7de'>|</span> Data Preprocessing</b>\n"
   ]
  },
  {
   "cell_type": "code",
   "execution_count": 17,
   "id": "b88707d2-be14-436a-a231-709176dd82fb",
   "metadata": {},
   "outputs": [],
   "source": [
    "# Standarize and encode the data in order to be ready for building up the Training and testing data sets."
   ]
  },
  {
   "cell_type": "markdown",
   "id": "8d3c184a-6c3c-4a6f-9306-b6375038dab6",
   "metadata": {},
   "source": [
    "# <b>8<span style='color:#0386f7de'>|</span> Split Dataset for Training and Testing</b>"
   ]
  },
  {
   "cell_type": "code",
   "execution_count": 18,
   "id": "0549d728-dc64-4545-8fe0-bdb907406d62",
   "metadata": {},
   "outputs": [],
   "source": [
    "# Split the dataset in training and testing to perform then Maching learning process."
   ]
  },
  {
   "cell_type": "markdown",
   "id": "594b18f8-93fc-4320-8604-f483c6b89c81",
   "metadata": {},
   "source": [
    "# <b>9<span style='color:#0386f7de'>|</span> Modelling</b>"
   ]
  },
  {
   "cell_type": "code",
   "execution_count": 19,
   "id": "90b07fd8-a337-4cc0-80b5-08ed55d0cadf",
   "metadata": {},
   "outputs": [],
   "source": [
    "# We are going to perform a Classifier Analysis and a Tree decission Model to evaluate the best model to predict the heart dissiesa variable."
   ]
  },
  {
   "cell_type": "markdown",
   "id": "df98b610-8e9e-46f3-93ef-d47213656fd6",
   "metadata": {},
   "source": [
    "# <b>10<span style='color:#0386f7de'>|</span> Modelling Comparison and Conclusions</b>"
   ]
  },
  {
   "cell_type": "code",
   "execution_count": 20,
   "id": "a9ec3101-4a1c-423e-837d-2ff0a69c4576",
   "metadata": {},
   "outputs": [],
   "source": [
    "# We are going to compare the model built in 9 to reach the conclusions. "
   ]
  },
  {
   "cell_type": "code",
   "execution_count": null,
   "id": "c72dba6c-4633-4e5c-9292-c694c13b0084",
   "metadata": {},
   "outputs": [],
   "source": []
  }
 ],
 "metadata": {
  "kernelspec": {
   "display_name": "mlenv",
   "language": "python",
   "name": "mlenv"
  },
  "language_info": {
   "codemirror_mode": {
    "name": "ipython",
    "version": 3
   },
   "file_extension": ".py",
   "mimetype": "text/x-python",
   "name": "python",
   "nbconvert_exporter": "python",
   "pygments_lexer": "ipython3",
   "version": "3.7.11"
  }
 },
 "nbformat": 4,
 "nbformat_minor": 5
}
