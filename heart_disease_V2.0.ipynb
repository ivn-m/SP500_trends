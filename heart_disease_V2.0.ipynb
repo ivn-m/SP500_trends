{
 "cells": [
  {
   "cell_type": "markdown",
   "id": "9bce06ae-be23-4aba-aab8-f22d9377932f",
   "metadata": {},
   "source": [
    "# <b>1<span style='color:#0386f7de'>|</span> Importing libraries</b>"
   ]
  },
  {
   "cell_type": "code",
   "execution_count": 1,
   "id": "4a584ea2-7ac7-4da4-a486-1daefe95658b",
   "metadata": {},
   "outputs": [],
   "source": [
    "import pandas as pd\n",
    "import seaborn as sns\n",
    "import matplotlib.pyplot as plt\n",
    "%matplotlib inline\n",
    "import numpy as np\n",
    "\n",
    "from matplotlib import ticker\n",
    "import warnings\n",
    "warnings.filterwarnings('ignore')\n",
    "import time\n",
    "from scipy.stats import norm"
   ]
  },
  {
   "cell_type": "code",
   "execution_count": 2,
   "id": "58cf5f4e-ebd1-4c3c-affb-20952e08b6a1",
   "metadata": {},
   "outputs": [],
   "source": [
    "from sklearn.linear_model import LogisticRegression \n",
    "from sklearn.preprocessing import OneHotEncoder \n",
    "from sklearn import metrics"
   ]
  },
  {
   "cell_type": "code",
   "execution_count": 3,
   "id": "651d42db",
   "metadata": {},
   "outputs": [],
   "source": [
    "from imblearn.metrics import classification_report_imbalanced\n",
    "from sklearn.model_selection import train_test_split\n",
    "from sklearn.neighbors import KNeighborsClassifier\n",
    "from sklearn.linear_model import LogisticRegression\n",
    "from sklearn.compose import make_column_transformer\n",
    "from sklearn.preprocessing import OneHotEncoder\n",
    "from sklearn import metrics\n",
    "from sklearn.metrics import confusion_matrix, accuracy_score, classification_report\n",
    "from sklearn.metrics import balanced_accuracy_score\n",
    "from sklearn.preprocessing import StandardScaler\n",
    "from sklearn.metrics import ConfusionMatrixDisplay\n",
    "from imblearn.ensemble import BalancedRandomForestClassifier\n",
    "from imblearn.ensemble import EasyEnsembleClassifier\n",
    "from sklearn import tree"
   ]
  },
  {
   "cell_type": "markdown",
   "id": "3b0047fc",
   "metadata": {},
   "source": [
    "# <b>2<span style='color:#0386f7de'>|</span> Importing the Data </b>\n"
   ]
  },
  {
   "cell_type": "markdown",
   "id": "0ae2e8b0-63e1-4eed-b899-204b526612e0",
   "metadata": {
    "tags": []
   },
   "source": [
    "\n",
    "\n",
    "1. HeartDisease : Respondents that have ever reported having coronary heart disease (CHD) or myocardial infarction (MI).\n",
    "2. BMI : Body Mass Index (BMI).\n",
    "3. Smoking : Have you smoked at least 100 cigarettes in your entire life? ( The answer Yes or No ).\n",
    "4. AlcoholDrinking : Heavy drinkers (adult men having more than 14 drinks per week and adult women having more than 7 drinks per week\n",
    "5. Stroke : (Ever told) (you had) a stroke?\n",
    "6. PhysicalHealth : Now thinking about your physical health, which includes physical illness and injury, for how many days during the past 30 days was your physical health not good? (0-30 days).\n",
    "7. MentalHealth : Thinking about your mental health, for how many days during the past 30 days was your mental health not good? (0-30 days).\n",
    "8. DiffWalking : Do you have serious difficulty walking or climbing stairs?\n",
    "9. Sex : Are you male or female?\n",
    "10. AgeCategory: Fourteen-level age category.\n",
    "11. Race : Imputed race/ethnicity value.\n",
    "12. Diabetic : (Ever told) (you had) diabetes?\n",
    "13. PhysicalActivity : Adults who reported doing physical activity or exercise during the past 30 days other than their regular job.\n",
    "14. GenHealth : Would you say that in general your health is...\n",
    "15. SleepTime : On average, how many hours of sleep do you get in a 24-hour period?\n",
    "16. Asthma : (Ever told) (you had) asthma?\n",
    "17. KidneyDisease : Not including kidney stones, bladder infection or incontinence, were you ever told you had kidney disease?\n",
    "18. SkinCancer : (Ever told) (you had) skin cancer?\n"
   ]
  },
  {
   "cell_type": "code",
   "execution_count": 4,
   "id": "43049a9c",
   "metadata": {
    "scrolled": true
   },
   "outputs": [
    {
     "data": {
      "text/html": [
       "<div>\n",
       "<style scoped>\n",
       "    .dataframe tbody tr th:only-of-type {\n",
       "        vertical-align: middle;\n",
       "    }\n",
       "\n",
       "    .dataframe tbody tr th {\n",
       "        vertical-align: top;\n",
       "    }\n",
       "\n",
       "    .dataframe thead th {\n",
       "        text-align: right;\n",
       "    }\n",
       "</style>\n",
       "<table border=\"1\" class=\"dataframe\">\n",
       "  <thead>\n",
       "    <tr style=\"text-align: right;\">\n",
       "      <th></th>\n",
       "      <th>HeartDisease</th>\n",
       "      <th>BMI</th>\n",
       "      <th>Smoking</th>\n",
       "      <th>AlcoholDrinking</th>\n",
       "      <th>Stroke</th>\n",
       "      <th>PhysicalHealth</th>\n",
       "      <th>MentalHealth</th>\n",
       "      <th>DiffWalking</th>\n",
       "      <th>Sex</th>\n",
       "      <th>AgeCategory</th>\n",
       "      <th>Race</th>\n",
       "      <th>Diabetic</th>\n",
       "      <th>PhysicalActivity</th>\n",
       "      <th>GenHealth</th>\n",
       "      <th>SleepTime</th>\n",
       "      <th>Asthma</th>\n",
       "      <th>KidneyDisease</th>\n",
       "      <th>SkinCancer</th>\n",
       "    </tr>\n",
       "  </thead>\n",
       "  <tbody>\n",
       "    <tr>\n",
       "      <th>0</th>\n",
       "      <td>No</td>\n",
       "      <td>16.60</td>\n",
       "      <td>Yes</td>\n",
       "      <td>No</td>\n",
       "      <td>No</td>\n",
       "      <td>3.0</td>\n",
       "      <td>30.0</td>\n",
       "      <td>No</td>\n",
       "      <td>Female</td>\n",
       "      <td>55-59</td>\n",
       "      <td>White</td>\n",
       "      <td>Yes</td>\n",
       "      <td>Yes</td>\n",
       "      <td>Very good</td>\n",
       "      <td>5.0</td>\n",
       "      <td>Yes</td>\n",
       "      <td>No</td>\n",
       "      <td>Yes</td>\n",
       "    </tr>\n",
       "    <tr>\n",
       "      <th>1</th>\n",
       "      <td>No</td>\n",
       "      <td>20.34</td>\n",
       "      <td>No</td>\n",
       "      <td>No</td>\n",
       "      <td>Yes</td>\n",
       "      <td>0.0</td>\n",
       "      <td>0.0</td>\n",
       "      <td>No</td>\n",
       "      <td>Female</td>\n",
       "      <td>80 or older</td>\n",
       "      <td>White</td>\n",
       "      <td>No</td>\n",
       "      <td>Yes</td>\n",
       "      <td>Very good</td>\n",
       "      <td>7.0</td>\n",
       "      <td>No</td>\n",
       "      <td>No</td>\n",
       "      <td>No</td>\n",
       "    </tr>\n",
       "    <tr>\n",
       "      <th>2</th>\n",
       "      <td>No</td>\n",
       "      <td>26.58</td>\n",
       "      <td>Yes</td>\n",
       "      <td>No</td>\n",
       "      <td>No</td>\n",
       "      <td>20.0</td>\n",
       "      <td>30.0</td>\n",
       "      <td>No</td>\n",
       "      <td>Male</td>\n",
       "      <td>65-69</td>\n",
       "      <td>White</td>\n",
       "      <td>Yes</td>\n",
       "      <td>Yes</td>\n",
       "      <td>Fair</td>\n",
       "      <td>8.0</td>\n",
       "      <td>Yes</td>\n",
       "      <td>No</td>\n",
       "      <td>No</td>\n",
       "    </tr>\n",
       "    <tr>\n",
       "      <th>3</th>\n",
       "      <td>No</td>\n",
       "      <td>24.21</td>\n",
       "      <td>No</td>\n",
       "      <td>No</td>\n",
       "      <td>No</td>\n",
       "      <td>0.0</td>\n",
       "      <td>0.0</td>\n",
       "      <td>No</td>\n",
       "      <td>Female</td>\n",
       "      <td>75-79</td>\n",
       "      <td>White</td>\n",
       "      <td>No</td>\n",
       "      <td>No</td>\n",
       "      <td>Good</td>\n",
       "      <td>6.0</td>\n",
       "      <td>No</td>\n",
       "      <td>No</td>\n",
       "      <td>Yes</td>\n",
       "    </tr>\n",
       "    <tr>\n",
       "      <th>4</th>\n",
       "      <td>No</td>\n",
       "      <td>23.71</td>\n",
       "      <td>No</td>\n",
       "      <td>No</td>\n",
       "      <td>No</td>\n",
       "      <td>28.0</td>\n",
       "      <td>0.0</td>\n",
       "      <td>Yes</td>\n",
       "      <td>Female</td>\n",
       "      <td>40-44</td>\n",
       "      <td>White</td>\n",
       "      <td>No</td>\n",
       "      <td>Yes</td>\n",
       "      <td>Very good</td>\n",
       "      <td>8.0</td>\n",
       "      <td>No</td>\n",
       "      <td>No</td>\n",
       "      <td>No</td>\n",
       "    </tr>\n",
       "    <tr>\n",
       "      <th>...</th>\n",
       "      <td>...</td>\n",
       "      <td>...</td>\n",
       "      <td>...</td>\n",
       "      <td>...</td>\n",
       "      <td>...</td>\n",
       "      <td>...</td>\n",
       "      <td>...</td>\n",
       "      <td>...</td>\n",
       "      <td>...</td>\n",
       "      <td>...</td>\n",
       "      <td>...</td>\n",
       "      <td>...</td>\n",
       "      <td>...</td>\n",
       "      <td>...</td>\n",
       "      <td>...</td>\n",
       "      <td>...</td>\n",
       "      <td>...</td>\n",
       "      <td>...</td>\n",
       "    </tr>\n",
       "    <tr>\n",
       "      <th>319790</th>\n",
       "      <td>Yes</td>\n",
       "      <td>27.41</td>\n",
       "      <td>Yes</td>\n",
       "      <td>No</td>\n",
       "      <td>No</td>\n",
       "      <td>7.0</td>\n",
       "      <td>0.0</td>\n",
       "      <td>Yes</td>\n",
       "      <td>Male</td>\n",
       "      <td>60-64</td>\n",
       "      <td>Hispanic</td>\n",
       "      <td>Yes</td>\n",
       "      <td>No</td>\n",
       "      <td>Fair</td>\n",
       "      <td>6.0</td>\n",
       "      <td>Yes</td>\n",
       "      <td>No</td>\n",
       "      <td>No</td>\n",
       "    </tr>\n",
       "    <tr>\n",
       "      <th>319791</th>\n",
       "      <td>No</td>\n",
       "      <td>29.84</td>\n",
       "      <td>Yes</td>\n",
       "      <td>No</td>\n",
       "      <td>No</td>\n",
       "      <td>0.0</td>\n",
       "      <td>0.0</td>\n",
       "      <td>No</td>\n",
       "      <td>Male</td>\n",
       "      <td>35-39</td>\n",
       "      <td>Hispanic</td>\n",
       "      <td>No</td>\n",
       "      <td>Yes</td>\n",
       "      <td>Very good</td>\n",
       "      <td>5.0</td>\n",
       "      <td>Yes</td>\n",
       "      <td>No</td>\n",
       "      <td>No</td>\n",
       "    </tr>\n",
       "    <tr>\n",
       "      <th>319792</th>\n",
       "      <td>No</td>\n",
       "      <td>24.24</td>\n",
       "      <td>No</td>\n",
       "      <td>No</td>\n",
       "      <td>No</td>\n",
       "      <td>0.0</td>\n",
       "      <td>0.0</td>\n",
       "      <td>No</td>\n",
       "      <td>Female</td>\n",
       "      <td>45-49</td>\n",
       "      <td>Hispanic</td>\n",
       "      <td>No</td>\n",
       "      <td>Yes</td>\n",
       "      <td>Good</td>\n",
       "      <td>6.0</td>\n",
       "      <td>No</td>\n",
       "      <td>No</td>\n",
       "      <td>No</td>\n",
       "    </tr>\n",
       "    <tr>\n",
       "      <th>319793</th>\n",
       "      <td>No</td>\n",
       "      <td>32.81</td>\n",
       "      <td>No</td>\n",
       "      <td>No</td>\n",
       "      <td>No</td>\n",
       "      <td>0.0</td>\n",
       "      <td>0.0</td>\n",
       "      <td>No</td>\n",
       "      <td>Female</td>\n",
       "      <td>25-29</td>\n",
       "      <td>Hispanic</td>\n",
       "      <td>No</td>\n",
       "      <td>No</td>\n",
       "      <td>Good</td>\n",
       "      <td>12.0</td>\n",
       "      <td>No</td>\n",
       "      <td>No</td>\n",
       "      <td>No</td>\n",
       "    </tr>\n",
       "    <tr>\n",
       "      <th>319794</th>\n",
       "      <td>No</td>\n",
       "      <td>46.56</td>\n",
       "      <td>No</td>\n",
       "      <td>No</td>\n",
       "      <td>No</td>\n",
       "      <td>0.0</td>\n",
       "      <td>0.0</td>\n",
       "      <td>No</td>\n",
       "      <td>Female</td>\n",
       "      <td>80 or older</td>\n",
       "      <td>Hispanic</td>\n",
       "      <td>No</td>\n",
       "      <td>Yes</td>\n",
       "      <td>Good</td>\n",
       "      <td>8.0</td>\n",
       "      <td>No</td>\n",
       "      <td>No</td>\n",
       "      <td>No</td>\n",
       "    </tr>\n",
       "  </tbody>\n",
       "</table>\n",
       "<p>319795 rows × 18 columns</p>\n",
       "</div>"
      ],
      "text/plain": [
       "       HeartDisease    BMI Smoking AlcoholDrinking Stroke  PhysicalHealth  \\\n",
       "0                No  16.60     Yes              No     No             3.0   \n",
       "1                No  20.34      No              No    Yes             0.0   \n",
       "2                No  26.58     Yes              No     No            20.0   \n",
       "3                No  24.21      No              No     No             0.0   \n",
       "4                No  23.71      No              No     No            28.0   \n",
       "...             ...    ...     ...             ...    ...             ...   \n",
       "319790          Yes  27.41     Yes              No     No             7.0   \n",
       "319791           No  29.84     Yes              No     No             0.0   \n",
       "319792           No  24.24      No              No     No             0.0   \n",
       "319793           No  32.81      No              No     No             0.0   \n",
       "319794           No  46.56      No              No     No             0.0   \n",
       "\n",
       "        MentalHealth DiffWalking     Sex  AgeCategory      Race Diabetic  \\\n",
       "0               30.0          No  Female        55-59     White      Yes   \n",
       "1                0.0          No  Female  80 or older     White       No   \n",
       "2               30.0          No    Male        65-69     White      Yes   \n",
       "3                0.0          No  Female        75-79     White       No   \n",
       "4                0.0         Yes  Female        40-44     White       No   \n",
       "...              ...         ...     ...          ...       ...      ...   \n",
       "319790           0.0         Yes    Male        60-64  Hispanic      Yes   \n",
       "319791           0.0          No    Male        35-39  Hispanic       No   \n",
       "319792           0.0          No  Female        45-49  Hispanic       No   \n",
       "319793           0.0          No  Female        25-29  Hispanic       No   \n",
       "319794           0.0          No  Female  80 or older  Hispanic       No   \n",
       "\n",
       "       PhysicalActivity  GenHealth  SleepTime Asthma KidneyDisease SkinCancer  \n",
       "0                   Yes  Very good        5.0    Yes            No        Yes  \n",
       "1                   Yes  Very good        7.0     No            No         No  \n",
       "2                   Yes       Fair        8.0    Yes            No         No  \n",
       "3                    No       Good        6.0     No            No        Yes  \n",
       "4                   Yes  Very good        8.0     No            No         No  \n",
       "...                 ...        ...        ...    ...           ...        ...  \n",
       "319790               No       Fair        6.0    Yes            No         No  \n",
       "319791              Yes  Very good        5.0    Yes            No         No  \n",
       "319792              Yes       Good        6.0     No            No         No  \n",
       "319793               No       Good       12.0     No            No         No  \n",
       "319794              Yes       Good        8.0     No            No         No  \n",
       "\n",
       "[319795 rows x 18 columns]"
      ]
     },
     "execution_count": 4,
     "metadata": {},
     "output_type": "execute_result"
    }
   ],
   "source": [
    "#Loading CSV file \"Dataset\"\n",
    "heart_database = pd.read_csv(\"Resources/heart_2020_cleaned.csv\")\n",
    "heart_database"
   ]
  },
  {
   "cell_type": "markdown",
   "id": "3d7f5a9e-8de5-43fb-9da2-6f9a196bedc6",
   "metadata": {},
   "source": [
    "# <b>3<span style='color:#0386f7de'>|</span> Data Exploration </b>\n"
   ]
  },
  {
   "cell_type": "code",
   "execution_count": 5,
   "id": "724d899e",
   "metadata": {},
   "outputs": [
    {
     "name": "stdout",
     "output_type": "stream",
     "text": [
      "<class 'pandas.core.frame.DataFrame'>\n",
      "RangeIndex: 319795 entries, 0 to 319794\n",
      "Data columns (total 18 columns):\n",
      " #   Column            Non-Null Count   Dtype  \n",
      "---  ------            --------------   -----  \n",
      " 0   HeartDisease      319795 non-null  object \n",
      " 1   BMI               319795 non-null  float64\n",
      " 2   Smoking           319795 non-null  object \n",
      " 3   AlcoholDrinking   319795 non-null  object \n",
      " 4   Stroke            319795 non-null  object \n",
      " 5   PhysicalHealth    319795 non-null  float64\n",
      " 6   MentalHealth      319795 non-null  float64\n",
      " 7   DiffWalking       319795 non-null  object \n",
      " 8   Sex               319795 non-null  object \n",
      " 9   AgeCategory       319795 non-null  object \n",
      " 10  Race              319795 non-null  object \n",
      " 11  Diabetic          319795 non-null  object \n",
      " 12  PhysicalActivity  319795 non-null  object \n",
      " 13  GenHealth         319795 non-null  object \n",
      " 14  SleepTime         319795 non-null  float64\n",
      " 15  Asthma            319795 non-null  object \n",
      " 16  KidneyDisease     319795 non-null  object \n",
      " 17  SkinCancer        319795 non-null  object \n",
      "dtypes: float64(4), object(14)\n",
      "memory usage: 43.9+ MB\n"
     ]
    }
   ],
   "source": [
    "# Explore Data types\n",
    "heart_database.info()"
   ]
  },
  {
   "cell_type": "markdown",
   "id": "f8d743a3-b28e-422d-9f96-be80a3ad4fef",
   "metadata": {},
   "source": [
    "Outcome:\n",
    "\n",
    "We have roughly 319795 records with 18 columns, according to the result. There are no null values, and there are 14 numeric and four categorical features. We can convert the string properties that only have two unique values, but first let's make sure there aren't any aberrant values."
   ]
  },
  {
   "cell_type": "code",
   "execution_count": 6,
   "id": "d726b976",
   "metadata": {},
   "outputs": [
    {
     "name": "stdout",
     "output_type": "stream",
     "text": [
      "(319795, 18)\n"
     ]
    }
   ],
   "source": [
    "# Exploring data sample size\n",
    "print(heart_database.shape)"
   ]
  },
  {
   "cell_type": "code",
   "execution_count": 7,
   "id": "4a55a371",
   "metadata": {},
   "outputs": [
    {
     "name": "stdout",
     "output_type": "stream",
     "text": [
      "Columnn HeartDisease has 0 null values\n",
      "Columnn BMI has 0 null values\n",
      "Columnn Smoking has 0 null values\n",
      "Columnn AlcoholDrinking has 0 null values\n",
      "Columnn Stroke has 0 null values\n",
      "Columnn PhysicalHealth has 0 null values\n",
      "Columnn MentalHealth has 0 null values\n",
      "Columnn DiffWalking has 0 null values\n",
      "Columnn Sex has 0 null values\n",
      "Columnn AgeCategory has 0 null values\n",
      "Columnn Race has 0 null values\n",
      "Columnn Diabetic has 0 null values\n",
      "Columnn PhysicalActivity has 0 null values\n",
      "Columnn GenHealth has 0 null values\n",
      "Columnn SleepTime has 0 null values\n",
      "Columnn Asthma has 0 null values\n",
      "Columnn KidneyDisease has 0 null values\n",
      "Columnn SkinCancer has 0 null values\n"
     ]
    }
   ],
   "source": [
    "# Find null values\n",
    "for column in heart_database.columns:\n",
    "    print(f\"Columnn {column} has {heart_database[column].isnull().sum()} null values\")"
   ]
  },
  {
   "cell_type": "code",
   "execution_count": 8,
   "id": "d07cdfaf",
   "metadata": {},
   "outputs": [
    {
     "data": {
      "text/plain": [
       "HeartDisease           2\n",
       "BMI                 3604\n",
       "Smoking                2\n",
       "AlcoholDrinking        2\n",
       "Stroke                 2\n",
       "PhysicalHealth        31\n",
       "MentalHealth          31\n",
       "DiffWalking            2\n",
       "Sex                    2\n",
       "AgeCategory           13\n",
       "Race                   6\n",
       "Diabetic               4\n",
       "PhysicalActivity       2\n",
       "GenHealth              5\n",
       "SleepTime             24\n",
       "Asthma                 2\n",
       "KidneyDisease          2\n",
       "SkinCancer             2\n",
       "dtype: int64"
      ]
     },
     "execution_count": 8,
     "metadata": {},
     "output_type": "execute_result"
    }
   ],
   "source": [
    "# Checking unique variables\n",
    "heart_database.nunique()"
   ]
  },
  {
   "cell_type": "code",
   "execution_count": 9,
   "id": "9bd11736",
   "metadata": {},
   "outputs": [
    {
     "name": "stdout",
     "output_type": "stream",
     "text": [
      "Unique Values of Heartdisease: ['No' 'Yes']\n",
      "Unique Values of Bmi: [16.6  20.34 26.58 ... 62.42 51.46 46.56]\n",
      "Unique Values of Smoking: ['Yes' 'No']\n",
      "Unique Values of Alcoholdrinking: ['No' 'Yes']\n",
      "Unique Values of Stroke: ['No' 'Yes']\n",
      "Unique Values of Physicalhealth: [ 3.  0. 20. 28.  6. 15.  5. 30.  7.  1.  2. 21.  4. 10. 14. 18.  8. 25.\n",
      " 16. 29. 27. 17. 24. 12. 23. 26. 22. 19.  9. 13. 11.]\n",
      "Unique Values of Mentalhealth: [30.  0.  2.  5. 15.  8.  4.  3. 10. 14. 20.  1.  7. 24.  9. 28. 16. 12.\n",
      "  6. 25. 17. 18. 21. 29. 22. 13. 23. 27. 26. 11. 19.]\n",
      "Unique Values of Diffwalking: ['No' 'Yes']\n",
      "Unique Values of Sex: ['Female' 'Male']\n",
      "Unique Values of Agecategory: ['55-59' '80 or older' '65-69' '75-79' '40-44' '70-74' '60-64' '50-54'\n",
      " '45-49' '18-24' '35-39' '30-34' '25-29']\n",
      "Unique Values of Race: ['White' 'Black' 'Asian' 'American Indian/Alaskan Native' 'Other'\n",
      " 'Hispanic']\n",
      "Unique Values of Diabetic: ['Yes' 'No' 'No, borderline diabetes' 'Yes (during pregnancy)']\n",
      "Unique Values of Physicalactivity: ['Yes' 'No']\n",
      "Unique Values of Genhealth: ['Very good' 'Fair' 'Good' 'Poor' 'Excellent']\n",
      "Unique Values of Sleeptime: [ 5.  7.  8.  6. 12.  4.  9. 10. 15.  3.  2.  1. 16. 18. 14. 20. 11. 13.\n",
      " 17. 24. 19. 21. 22. 23.]\n",
      "Unique Values of Asthma: ['Yes' 'No']\n",
      "Unique Values of Kidneydisease: ['No' 'Yes']\n",
      "Unique Values of Skincancer: ['Yes' 'No']\n"
     ]
    }
   ],
   "source": [
    "for col in heart_database.columns:\n",
    "    print(f'Unique Values of {col.title()}: {heart_database[col].unique()}')"
   ]
  },
  {
   "cell_type": "code",
   "execution_count": 10,
   "id": "f5a5471c",
   "metadata": {},
   "outputs": [
    {
     "data": {
      "text/plain": [
       "No     292422\n",
       "Yes     27373\n",
       "Name: HeartDisease, dtype: int64"
      ]
     },
     "execution_count": 10,
     "metadata": {},
     "output_type": "execute_result"
    }
   ],
   "source": [
    "# Review number of Positive heart disease cases\n",
    "heart_database['HeartDisease'].value_counts()"
   ]
  },
  {
   "cell_type": "markdown",
   "id": "4576b16d-155a-4b0c-9f2e-2f8e2d242c8f",
   "metadata": {},
   "source": [
    " Outcome:\n",
    " Results show that around 9% (27373) suffers from heart disease."
   ]
  },
  {
   "cell_type": "code",
   "execution_count": 11,
   "id": "899a490b",
   "metadata": {},
   "outputs": [
    {
     "data": {
      "text/plain": [
       "No                         269653\n",
       "Yes                         40802\n",
       "No, borderline diabetes      6781\n",
       "Yes (during pregnancy)       2559\n",
       "Name: Diabetic, dtype: int64"
      ]
     },
     "execution_count": 11,
     "metadata": {},
     "output_type": "execute_result"
    }
   ],
   "source": [
    "# Review number of Diabetes\n",
    "heart_database['Diabetic'].value_counts()"
   ]
  },
  {
   "cell_type": "markdown",
   "id": "c0380059-7f80-4fad-861d-5200fca79062",
   "metadata": {},
   "source": [
    "Outcome:\n",
    "Results show that from the total, around 12.7% (40802) suffers from diabetics, and 2.5% was within the borderlines (6781), in addition 0.008% was diagnosed with diabetes during pregnancy."
   ]
  },
  {
   "cell_type": "code",
   "execution_count": 12,
   "id": "a6bc0798",
   "metadata": {},
   "outputs": [
    {
     "data": {
      "text/plain": [
       "65-69          34151\n",
       "60-64          33686\n",
       "70-74          31065\n",
       "55-59          29757\n",
       "50-54          25382\n",
       "80 or older    24153\n",
       "45-49          21791\n",
       "75-79          21482\n",
       "18-24          21064\n",
       "40-44          21006\n",
       "35-39          20550\n",
       "30-34          18753\n",
       "25-29          16955\n",
       "Name: AgeCategory, dtype: int64"
      ]
     },
     "execution_count": 12,
     "metadata": {},
     "output_type": "execute_result"
    }
   ],
   "source": [
    "# Tabulating AgeCatory\n",
    "heart_database[\"AgeCategory\"].value_counts()"
   ]
  },
  {
   "cell_type": "markdown",
   "id": "80dec872-869e-4282-83cb-9175d79d4b0c",
   "metadata": {},
   "source": [
    "Outcome: Results show the age by range or Age Category of the Data Base. "
   ]
  },
  {
   "cell_type": "code",
   "execution_count": 13,
   "id": "d573de3d",
   "metadata": {
    "tags": []
   },
   "outputs": [
    {
     "data": {
      "text/plain": [
       "White                             245212\n",
       "Hispanic                           27446\n",
       "Black                              22939\n",
       "Other                              10928\n",
       "Asian                               8068\n",
       "American Indian/Alaskan Native      5202\n",
       "Name: Race, dtype: int64"
      ]
     },
     "execution_count": 13,
     "metadata": {},
     "output_type": "execute_result"
    }
   ],
   "source": [
    "# Tabulating Race\n",
    "heart_database[\"Race\"].value_counts()"
   ]
  },
  {
   "cell_type": "markdown",
   "id": "2e65c642-b64d-4298-9fe2-249f9b107b47",
   "metadata": {},
   "source": [
    "Outcome: \n",
    "Results show the ratial composition in our study. "
   ]
  },
  {
   "cell_type": "code",
   "execution_count": 14,
   "id": "4b0af340",
   "metadata": {},
   "outputs": [
    {
     "data": {
      "text/plain": [
       "Very good    113858\n",
       "Good          93129\n",
       "Excellent     66842\n",
       "Fair          34677\n",
       "Poor          11289\n",
       "Name: GenHealth, dtype: int64"
      ]
     },
     "execution_count": 14,
     "metadata": {},
     "output_type": "execute_result"
    }
   ],
   "source": [
    "# Tabulating GenHealth\n",
    "heart_database[\"GenHealth\"].value_counts()"
   ]
  },
  {
   "cell_type": "code",
   "execution_count": 15,
   "id": "59556bfa",
   "metadata": {},
   "outputs": [],
   "source": [
    "# # Changing AgeCategory as category\n",
    "heart_database[\"AgeCategory\"]=heart_database[\"AgeCategory\"].astype(\"category\")"
   ]
  },
  {
   "cell_type": "markdown",
   "id": "a57ef031-d495-4f24-ab46-d82c45374bb6",
   "metadata": {},
   "source": [
    "Outcome:\n",
    "Results show the general health condition among the Data.  "
   ]
  },
  {
   "cell_type": "markdown",
   "id": "da8795f7-a21d-44e9-8dad-67f830e1687c",
   "metadata": {},
   "source": [
    "# <b>5<span style='color:#0386f7de'>|</span>Descriptives of Numeric Variables</b>"
   ]
  },
  {
   "cell_type": "code",
   "execution_count": 16,
   "id": "698b4327",
   "metadata": {},
   "outputs": [
    {
     "data": {
      "text/html": [
       "<style type=\"text/css\">\n",
       "#T_51c2a_row0_col0, #T_51c2a_row0_col1, #T_51c2a_row0_col2, #T_51c2a_row0_col3, #T_51c2a_row0_col4, #T_51c2a_row0_col5, #T_51c2a_row0_col6, #T_51c2a_row0_col7, #T_51c2a_row1_col0, #T_51c2a_row1_col1, #T_51c2a_row1_col2, #T_51c2a_row1_col3, #T_51c2a_row1_col4, #T_51c2a_row1_col5, #T_51c2a_row1_col6, #T_51c2a_row1_col7, #T_51c2a_row2_col0, #T_51c2a_row2_col1, #T_51c2a_row2_col2, #T_51c2a_row2_col3, #T_51c2a_row2_col4, #T_51c2a_row2_col5, #T_51c2a_row2_col6, #T_51c2a_row2_col7, #T_51c2a_row3_col0, #T_51c2a_row3_col1, #T_51c2a_row3_col2, #T_51c2a_row3_col3, #T_51c2a_row3_col4, #T_51c2a_row3_col5, #T_51c2a_row3_col6, #T_51c2a_row3_col7 {\n",
       "  background-color: grey;\n",
       "  color: white;\n",
       "  border-color: white;\n",
       "}\n",
       "</style>\n",
       "<table id=\"T_51c2a_\">\n",
       "  <thead>\n",
       "    <tr>\n",
       "      <th class=\"blank level0\" >&nbsp;</th>\n",
       "      <th class=\"col_heading level0 col0\" >count</th>\n",
       "      <th class=\"col_heading level0 col1\" >mean</th>\n",
       "      <th class=\"col_heading level0 col2\" >std</th>\n",
       "      <th class=\"col_heading level0 col3\" >min</th>\n",
       "      <th class=\"col_heading level0 col4\" >25%</th>\n",
       "      <th class=\"col_heading level0 col5\" >50%</th>\n",
       "      <th class=\"col_heading level0 col6\" >75%</th>\n",
       "      <th class=\"col_heading level0 col7\" >max</th>\n",
       "    </tr>\n",
       "  </thead>\n",
       "  <tbody>\n",
       "    <tr>\n",
       "      <th id=\"T_51c2a_level0_row0\" class=\"row_heading level0 row0\" >BMI</th>\n",
       "      <td id=\"T_51c2a_row0_col0\" class=\"data row0 col0\" >319795.000000</td>\n",
       "      <td id=\"T_51c2a_row0_col1\" class=\"data row0 col1\" >28.325399</td>\n",
       "      <td id=\"T_51c2a_row0_col2\" class=\"data row0 col2\" >6.356100</td>\n",
       "      <td id=\"T_51c2a_row0_col3\" class=\"data row0 col3\" >12.020000</td>\n",
       "      <td id=\"T_51c2a_row0_col4\" class=\"data row0 col4\" >24.030000</td>\n",
       "      <td id=\"T_51c2a_row0_col5\" class=\"data row0 col5\" >27.340000</td>\n",
       "      <td id=\"T_51c2a_row0_col6\" class=\"data row0 col6\" >31.420000</td>\n",
       "      <td id=\"T_51c2a_row0_col7\" class=\"data row0 col7\" >94.850000</td>\n",
       "    </tr>\n",
       "    <tr>\n",
       "      <th id=\"T_51c2a_level0_row1\" class=\"row_heading level0 row1\" >PhysicalHealth</th>\n",
       "      <td id=\"T_51c2a_row1_col0\" class=\"data row1 col0\" >319795.000000</td>\n",
       "      <td id=\"T_51c2a_row1_col1\" class=\"data row1 col1\" >3.371710</td>\n",
       "      <td id=\"T_51c2a_row1_col2\" class=\"data row1 col2\" >7.950850</td>\n",
       "      <td id=\"T_51c2a_row1_col3\" class=\"data row1 col3\" >0.000000</td>\n",
       "      <td id=\"T_51c2a_row1_col4\" class=\"data row1 col4\" >0.000000</td>\n",
       "      <td id=\"T_51c2a_row1_col5\" class=\"data row1 col5\" >0.000000</td>\n",
       "      <td id=\"T_51c2a_row1_col6\" class=\"data row1 col6\" >2.000000</td>\n",
       "      <td id=\"T_51c2a_row1_col7\" class=\"data row1 col7\" >30.000000</td>\n",
       "    </tr>\n",
       "    <tr>\n",
       "      <th id=\"T_51c2a_level0_row2\" class=\"row_heading level0 row2\" >MentalHealth</th>\n",
       "      <td id=\"T_51c2a_row2_col0\" class=\"data row2 col0\" >319795.000000</td>\n",
       "      <td id=\"T_51c2a_row2_col1\" class=\"data row2 col1\" >3.898366</td>\n",
       "      <td id=\"T_51c2a_row2_col2\" class=\"data row2 col2\" >7.955235</td>\n",
       "      <td id=\"T_51c2a_row2_col3\" class=\"data row2 col3\" >0.000000</td>\n",
       "      <td id=\"T_51c2a_row2_col4\" class=\"data row2 col4\" >0.000000</td>\n",
       "      <td id=\"T_51c2a_row2_col5\" class=\"data row2 col5\" >0.000000</td>\n",
       "      <td id=\"T_51c2a_row2_col6\" class=\"data row2 col6\" >3.000000</td>\n",
       "      <td id=\"T_51c2a_row2_col7\" class=\"data row2 col7\" >30.000000</td>\n",
       "    </tr>\n",
       "    <tr>\n",
       "      <th id=\"T_51c2a_level0_row3\" class=\"row_heading level0 row3\" >SleepTime</th>\n",
       "      <td id=\"T_51c2a_row3_col0\" class=\"data row3 col0\" >319795.000000</td>\n",
       "      <td id=\"T_51c2a_row3_col1\" class=\"data row3 col1\" >7.097075</td>\n",
       "      <td id=\"T_51c2a_row3_col2\" class=\"data row3 col2\" >1.436007</td>\n",
       "      <td id=\"T_51c2a_row3_col3\" class=\"data row3 col3\" >1.000000</td>\n",
       "      <td id=\"T_51c2a_row3_col4\" class=\"data row3 col4\" >6.000000</td>\n",
       "      <td id=\"T_51c2a_row3_col5\" class=\"data row3 col5\" >7.000000</td>\n",
       "      <td id=\"T_51c2a_row3_col6\" class=\"data row3 col6\" >8.000000</td>\n",
       "      <td id=\"T_51c2a_row3_col7\" class=\"data row3 col7\" >24.000000</td>\n",
       "    </tr>\n",
       "  </tbody>\n",
       "</table>\n"
      ],
      "text/plain": [
       "<pandas.io.formats.style.Styler at 0x7f9c00fed190>"
      ]
     },
     "execution_count": 16,
     "metadata": {},
     "output_type": "execute_result"
    }
   ],
   "source": [
    "numeric = heart_database.select_dtypes(include='float64')\n",
    "numeric.describe().T.style.set_properties(**{'background-color': 'grey','color': 'white','border-color': 'white'})"
   ]
  },
  {
   "cell_type": "markdown",
   "id": "653db5fd",
   "metadata": {},
   "source": [
    "We have validated the average provided by the database with a external source (Stadista as per the graphs below) and the average BMI of our database is coherent with the information of the external soruce."
   ]
  },
  {
   "cell_type": "markdown",
   "id": "4d4e4049",
   "metadata": {},
   "source": [
    "<p align = \"left\">\n",
    "<img src =\"https://github.com/ivn-m/predicting_heartdisease/blob/5a9bfaaaf722890de00fbb112df83975e4ca32e4/Resources/Images/BMI%20Men.png?raw=true\"/>\n",
    "\n",
    "<p align = \"left\">\n",
    "<img src =\"https://github.com/ivn-m/predicting_heartdisease/blob/5a9bfaaaf722890de00fbb112df83975e4ca32e4/Resources/Images/BMI%20Women.png?raw=true\"/>"
   ]
  },
  {
   "cell_type": "code",
   "execution_count": 17,
   "id": "c11408dd",
   "metadata": {},
   "outputs": [
    {
     "data": {
      "image/png": "[encoded data removed]",
      "text/plain": [
       "<Figure size 432x288 with 1 Axes>"
      ]
     },
     "metadata": {
      "needs_background": "light"
     },
     "output_type": "display_data"
    },
    {
     "data": {
      "image/png": "[encoded data removed]",
      "text/plain": [
       "<Figure size 432x288 with 1 Axes>"
      ]
     },
     "metadata": {
      "needs_background": "light"
     },
     "output_type": "display_data"
    },
    {
     "data": {
      "image/png": "[encoded data removed]",
      "text/plain": [
       "<Figure size 432x288 with 1 Axes>"
      ]
     },
     "metadata": {
      "needs_background": "light"
     },
     "output_type": "display_data"
    },
    {
     "data": {
      "image/png": "[encoded data removed]",
      "text/plain": [
       "<Figure size 432x288 with 1 Axes>"
      ]
     },
     "metadata": {
      "needs_background": "light"
     },
     "output_type": "display_data"
    }
   ],
   "source": [
    "# Exploring looking for outliers\n",
    "for i in numeric.columns:\n",
    "    sns.boxplot(x=numeric[i])\n",
    "    plt.show()\n",
    "plt.show()"
   ]
  },
  {
   "cell_type": "markdown",
   "id": "5ba13f64-7825-4d56-b999-ae6580547196",
   "metadata": {},
   "source": [
    "### Outcome\n",
    "\n",
    "BMI: After checking with external source we belive that the outliers detected by the graph are not errors in the database but correct data. We have decided to mantian those cases inside the information.\n",
    "\n",
    "Physical and Mental Health: We understand that the datapoints detected as outliers are not errors in the data, but the result of the way the question to fill out this variable is perform, this are cases of people that have been ill in the last month. We decided to keep the outliers in the data. \n",
    "\n",
    "Sleeptime: We proceed to remove outliers to avoid a misleading representation of the underlying data and relationships. We had individuals with average sleeping time over 12 hrs. Removing them will decrease the error variance and improve the model accuracy."
   ]
  },
  {
   "cell_type": "code",
   "execution_count": 18,
   "id": "d4323703",
   "metadata": {},
   "outputs": [],
   "source": [
    "gen_health = heart_database['GenHealth'].value_counts()\n",
    "sleep_time = heart_database['SleepTime'].value_counts().iloc[:5]"
   ]
  },
  {
   "cell_type": "code",
   "execution_count": 19,
   "id": "ae10ebcd",
   "metadata": {},
   "outputs": [
    {
     "data": {
      "image/png": "[encoded data removed]",
      "text/plain": [
       "<Figure size 864x648 with 2 Axes>"
      ]
     },
     "metadata": {},
     "output_type": "display_data"
    }
   ],
   "source": [
    "# Descriptives of General Health Sharing and Frequency of Sleep Time\n",
    "fig, axes = plt.subplots(1, 2, figsize=(12, 9))\n",
    "color = sns.color_palette('Reds', 5)\n",
    "x_axes = [gen_health, sleep_time]\n",
    "\n",
    "for i, ax in enumerate(axes):\n",
    "    ax.pie(x=x_axes[i].values, labels=x_axes[i].index, autopct='%.2f%%', colors=color, pctdistance=.75)\n",
    "axes[0].set_title('General Health Sharing', fontsize=15, pad=10)\n",
    "axes[1].set_title('Top 5 Frequently Sleep Time', fontsize=15, pad=10)\n",
    "\n",
    "plt.show()"
   ]
  },
  {
   "cell_type": "markdown",
   "id": "f3064433-311a-4300-876e-c60456e3b75e",
   "metadata": {},
   "source": [
    "Outcome:\n",
    "\n",
    "These Pie Graphs show us the percentage composition for two main categories: General Health Sharing and Frequently Sleep Time. In the case of General Health Sharing a 14.37% was concentrated for Poor and Fair levels, while the remaining percentages was concentrated for Good, Very Good, and Excellent. \n",
    "In the case for Frequently Sleep Time we found that more than a 60% of the persons included in the study rest less than 8 hrs.\n"
   ]
  },
  {
   "cell_type": "markdown",
   "id": "5d62fa69",
   "metadata": {},
   "source": [
    "## 5-1<span style='color:#0386f7de'>|</span>Descriptives of BMI, Physical Health, Mental Health, Sleeptime, and Heart Disease by Sex</b>"
   ]
  },
  {
   "cell_type": "code",
   "execution_count": 20,
   "id": "bcbd5b2b",
   "metadata": {},
   "outputs": [
    {
     "data": {
      "text/html": [
       "<div>\n",
       "<style scoped>\n",
       "    .dataframe tbody tr th:only-of-type {\n",
       "        vertical-align: middle;\n",
       "    }\n",
       "\n",
       "    .dataframe tbody tr th {\n",
       "        vertical-align: top;\n",
       "    }\n",
       "\n",
       "    .dataframe thead th {\n",
       "        text-align: right;\n",
       "    }\n",
       "</style>\n",
       "<table border=\"1\" class=\"dataframe\">\n",
       "  <thead>\n",
       "    <tr style=\"text-align: right;\">\n",
       "      <th></th>\n",
       "      <th>count</th>\n",
       "      <th>mean</th>\n",
       "      <th>std</th>\n",
       "      <th>min</th>\n",
       "      <th>25%</th>\n",
       "      <th>50%</th>\n",
       "      <th>75%</th>\n",
       "      <th>max</th>\n",
       "    </tr>\n",
       "    <tr>\n",
       "      <th>Sex</th>\n",
       "      <th></th>\n",
       "      <th></th>\n",
       "      <th></th>\n",
       "      <th></th>\n",
       "      <th></th>\n",
       "      <th></th>\n",
       "      <th></th>\n",
       "      <th></th>\n",
       "    </tr>\n",
       "  </thead>\n",
       "  <tbody>\n",
       "    <tr>\n",
       "      <th>Female</th>\n",
       "      <td>167805.0</td>\n",
       "      <td>28.162436</td>\n",
       "      <td>6.841990</td>\n",
       "      <td>12.02</td>\n",
       "      <td>23.30</td>\n",
       "      <td>26.75</td>\n",
       "      <td>31.62</td>\n",
       "      <td>94.66</td>\n",
       "    </tr>\n",
       "    <tr>\n",
       "      <th>Male</th>\n",
       "      <td>151990.0</td>\n",
       "      <td>28.505317</td>\n",
       "      <td>5.767018</td>\n",
       "      <td>12.02</td>\n",
       "      <td>24.63</td>\n",
       "      <td>27.50</td>\n",
       "      <td>31.32</td>\n",
       "      <td>94.85</td>\n",
       "    </tr>\n",
       "  </tbody>\n",
       "</table>\n",
       "</div>"
      ],
      "text/plain": [
       "           count       mean       std    min    25%    50%    75%    max\n",
       "Sex                                                                     \n",
       "Female  167805.0  28.162436  6.841990  12.02  23.30  26.75  31.62  94.66\n",
       "Male    151990.0  28.505317  5.767018  12.02  24.63  27.50  31.32  94.85"
      ]
     },
     "execution_count": 20,
     "metadata": {},
     "output_type": "execute_result"
    }
   ],
   "source": [
    "# Descriptive statistics BMI by sex\n",
    "heart_database[\"BMI\"].groupby(heart_database['Sex']).describe()"
   ]
  },
  {
   "cell_type": "code",
   "execution_count": 21,
   "id": "c894744b",
   "metadata": {
    "tags": []
   },
   "outputs": [
    {
     "data": {
      "text/html": [
       "<div>\n",
       "<style scoped>\n",
       "    .dataframe tbody tr th:only-of-type {\n",
       "        vertical-align: middle;\n",
       "    }\n",
       "\n",
       "    .dataframe tbody tr th {\n",
       "        vertical-align: top;\n",
       "    }\n",
       "\n",
       "    .dataframe thead th {\n",
       "        text-align: right;\n",
       "    }\n",
       "</style>\n",
       "<table border=\"1\" class=\"dataframe\">\n",
       "  <thead>\n",
       "    <tr style=\"text-align: right;\">\n",
       "      <th></th>\n",
       "      <th>count</th>\n",
       "      <th>mean</th>\n",
       "      <th>std</th>\n",
       "      <th>min</th>\n",
       "      <th>25%</th>\n",
       "      <th>50%</th>\n",
       "      <th>75%</th>\n",
       "      <th>max</th>\n",
       "    </tr>\n",
       "    <tr>\n",
       "      <th>Sex</th>\n",
       "      <th></th>\n",
       "      <th></th>\n",
       "      <th></th>\n",
       "      <th></th>\n",
       "      <th></th>\n",
       "      <th></th>\n",
       "      <th></th>\n",
       "      <th></th>\n",
       "    </tr>\n",
       "  </thead>\n",
       "  <tbody>\n",
       "    <tr>\n",
       "      <th>Female</th>\n",
       "      <td>167805.0</td>\n",
       "      <td>3.681225</td>\n",
       "      <td>8.184823</td>\n",
       "      <td>0.0</td>\n",
       "      <td>0.0</td>\n",
       "      <td>0.0</td>\n",
       "      <td>2.0</td>\n",
       "      <td>30.0</td>\n",
       "    </tr>\n",
       "    <tr>\n",
       "      <th>Male</th>\n",
       "      <td>151990.0</td>\n",
       "      <td>3.029989</td>\n",
       "      <td>7.669794</td>\n",
       "      <td>0.0</td>\n",
       "      <td>0.0</td>\n",
       "      <td>0.0</td>\n",
       "      <td>1.0</td>\n",
       "      <td>30.0</td>\n",
       "    </tr>\n",
       "  </tbody>\n",
       "</table>\n",
       "</div>"
      ],
      "text/plain": [
       "           count      mean       std  min  25%  50%  75%   max\n",
       "Sex                                                           \n",
       "Female  167805.0  3.681225  8.184823  0.0  0.0  0.0  2.0  30.0\n",
       "Male    151990.0  3.029989  7.669794  0.0  0.0  0.0  1.0  30.0"
      ]
     },
     "execution_count": 21,
     "metadata": {},
     "output_type": "execute_result"
    }
   ],
   "source": [
    "# Descriptive statistics Physical Health by sex\n",
    "heart_database[\"PhysicalHealth\"].groupby(heart_database['Sex']).describe()"
   ]
  },
  {
   "cell_type": "code",
   "execution_count": 22,
   "id": "6988c0ac",
   "metadata": {},
   "outputs": [],
   "source": [
    "# Descriptive statistics of Mental Health by sex\n",
    "df = heart_database[\"MentalHealth\"].groupby(heart_database['Sex']).describe()"
   ]
  },
  {
   "cell_type": "code",
   "execution_count": 23,
   "id": "da1e105c",
   "metadata": {
    "tags": []
   },
   "outputs": [
    {
     "data": {
      "text/html": [
       "<div>\n",
       "<style scoped>\n",
       "    .dataframe tbody tr th:only-of-type {\n",
       "        vertical-align: middle;\n",
       "    }\n",
       "\n",
       "    .dataframe tbody tr th {\n",
       "        vertical-align: top;\n",
       "    }\n",
       "\n",
       "    .dataframe thead th {\n",
       "        text-align: right;\n",
       "    }\n",
       "</style>\n",
       "<table border=\"1\" class=\"dataframe\">\n",
       "  <thead>\n",
       "    <tr style=\"text-align: right;\">\n",
       "      <th></th>\n",
       "      <th>count</th>\n",
       "      <th>mean</th>\n",
       "      <th>std</th>\n",
       "      <th>min</th>\n",
       "      <th>25%</th>\n",
       "      <th>50%</th>\n",
       "      <th>75%</th>\n",
       "      <th>max</th>\n",
       "    </tr>\n",
       "    <tr>\n",
       "      <th>Sex</th>\n",
       "      <th></th>\n",
       "      <th></th>\n",
       "      <th></th>\n",
       "      <th></th>\n",
       "      <th></th>\n",
       "      <th></th>\n",
       "      <th></th>\n",
       "      <th></th>\n",
       "    </tr>\n",
       "  </thead>\n",
       "  <tbody>\n",
       "    <tr>\n",
       "      <th>Female</th>\n",
       "      <td>167805.0</td>\n",
       "      <td>7.118536</td>\n",
       "      <td>1.452643</td>\n",
       "      <td>1.0</td>\n",
       "      <td>6.0</td>\n",
       "      <td>7.0</td>\n",
       "      <td>8.0</td>\n",
       "      <td>24.0</td>\n",
       "    </tr>\n",
       "    <tr>\n",
       "      <th>Male</th>\n",
       "      <td>151990.0</td>\n",
       "      <td>7.073380</td>\n",
       "      <td>1.417041</td>\n",
       "      <td>1.0</td>\n",
       "      <td>6.0</td>\n",
       "      <td>7.0</td>\n",
       "      <td>8.0</td>\n",
       "      <td>24.0</td>\n",
       "    </tr>\n",
       "  </tbody>\n",
       "</table>\n",
       "</div>"
      ],
      "text/plain": [
       "           count      mean       std  min  25%  50%  75%   max\n",
       "Sex                                                           \n",
       "Female  167805.0  7.118536  1.452643  1.0  6.0  7.0  8.0  24.0\n",
       "Male    151990.0  7.073380  1.417041  1.0  6.0  7.0  8.0  24.0"
      ]
     },
     "execution_count": 23,
     "metadata": {},
     "output_type": "execute_result"
    }
   ],
   "source": [
    "# Descriptive statistics SleepTime by sex\n",
    "heart_database[\"SleepTime\"].groupby(heart_database['Sex']).describe()"
   ]
  },
  {
   "cell_type": "code",
   "execution_count": 24,
   "id": "7e376f03",
   "metadata": {},
   "outputs": [
    {
     "data": {
      "image/png": "[encoded data removed]",
      "text/plain": [
       "<Figure size 648x576 with 1 Axes>"
      ]
     },
     "metadata": {
      "needs_background": "light"
     },
     "output_type": "display_data"
    }
   ],
   "source": [
    "fig, ax = plt.subplots(figsize=(9, 8))\n",
    "sns.histplot(data=heart_database, y='Sex', hue='HeartDisease', multiple='stack', palette='seismic')\n",
    "\n",
    "ax.set_title('Heart Disease Cases by Sex', fontsize=15)\n",
    "ax.set_ylabel('Sex', fontdict={'fontsize': 12})\n",
    "ax.set_xlabel('Count', fontdict={'fontsize': 12})\n",
    "ax.xaxis.set_major_formatter(lambda x, pos: format(int(x), ','))\n",
    "ax.get_legend().set_title('Heart Disease')\n",
    "\n",
    "plt.show()"
   ]
  },
  {
   "cell_type": "markdown",
   "id": "728635d5-e5c2-49d6-bcff-d23a2cb6b50f",
   "metadata": {},
   "source": [
    "Outcome:\n",
    "\n",
    "In this graph we can confirm that Males have a higher propensity of developing a Heart Disease compare with Females. "
   ]
  },
  {
   "cell_type": "markdown",
   "id": "ce2468fc",
   "metadata": {},
   "source": [
    "# 5-2<span style='color:#0386f7de'>|</span>Descriptives of BMI, Physical Health, Mental Health, Sleeptime, and Heart Disease by Age Category</b>"
   ]
  },
  {
   "cell_type": "code",
   "execution_count": 25,
   "id": "c2ba820d",
   "metadata": {},
   "outputs": [
    {
     "data": {
      "image/png": "[encoded data removed]",
      "text/plain": [
       "<Figure size 648x576 with 1 Axes>"
      ]
     },
     "metadata": {
      "needs_background": "light"
     },
     "output_type": "display_data"
    }
   ],
   "source": [
    "fig, ax = plt.subplots(figsize=(9, 8))\n",
    "sns.histplot(data=heart_database, y='AgeCategory', hue='HeartDisease', multiple='stack', palette='Set3')\n",
    "\n",
    "ax.set_title('Heart Disease Cases by Age Category', fontsize=15)\n",
    "ax.set_ylabel('Age Category', fontdict={'fontsize': 12})\n",
    "ax.set_xlabel('Count', fontdict={'fontsize': 12})\n",
    "ax.xaxis.set_major_formatter(lambda x, pos: format(int(x), ','))\n",
    "ax.get_legend().set_title('Heart Disease')\n",
    "\n",
    "plt.show()"
   ]
  },
  {
   "cell_type": "markdown",
   "id": "ba301394-51b6-4ae9-958e-8d66cda7e14a",
   "metadata": {},
   "source": [
    "Outcome:\n",
    "    \n",
    "This Bar Graph shows the Age Category among different participants, the highest group of participants are from ages from 60-64 and 65-69.\n",
    "In this Graph we can confirm what age group is heart disease most common. As we can visualize adults age 65 and older are more likely than younger people to suffer from cardiovascular disease."
   ]
  },
  {
   "cell_type": "code",
   "execution_count": 26,
   "id": "d4e29519",
   "metadata": {},
   "outputs": [
    {
     "data": {
      "text/html": [
       "<div>\n",
       "<style scoped>\n",
       "    .dataframe tbody tr th:only-of-type {\n",
       "        vertical-align: middle;\n",
       "    }\n",
       "\n",
       "    .dataframe tbody tr th {\n",
       "        vertical-align: top;\n",
       "    }\n",
       "\n",
       "    .dataframe thead th {\n",
       "        text-align: right;\n",
       "    }\n",
       "</style>\n",
       "<table border=\"1\" class=\"dataframe\">\n",
       "  <thead>\n",
       "    <tr style=\"text-align: right;\">\n",
       "      <th></th>\n",
       "      <th>count</th>\n",
       "      <th>mean</th>\n",
       "      <th>std</th>\n",
       "      <th>min</th>\n",
       "      <th>25%</th>\n",
       "      <th>50%</th>\n",
       "      <th>75%</th>\n",
       "      <th>max</th>\n",
       "    </tr>\n",
       "    <tr>\n",
       "      <th>AgeCategory</th>\n",
       "      <th></th>\n",
       "      <th></th>\n",
       "      <th></th>\n",
       "      <th></th>\n",
       "      <th></th>\n",
       "      <th></th>\n",
       "      <th></th>\n",
       "      <th></th>\n",
       "    </tr>\n",
       "  </thead>\n",
       "  <tbody>\n",
       "    <tr>\n",
       "      <th>18-24</th>\n",
       "      <td>21064.0</td>\n",
       "      <td>25.762770</td>\n",
       "      <td>6.022755</td>\n",
       "      <td>12.02</td>\n",
       "      <td>21.70</td>\n",
       "      <td>24.39</td>\n",
       "      <td>28.3700</td>\n",
       "      <td>83.33</td>\n",
       "    </tr>\n",
       "    <tr>\n",
       "      <th>25-29</th>\n",
       "      <td>16955.0</td>\n",
       "      <td>27.688610</td>\n",
       "      <td>6.647318</td>\n",
       "      <td>12.85</td>\n",
       "      <td>23.03</td>\n",
       "      <td>26.39</td>\n",
       "      <td>30.9000</td>\n",
       "      <td>85.91</td>\n",
       "    </tr>\n",
       "    <tr>\n",
       "      <th>30-34</th>\n",
       "      <td>18753.0</td>\n",
       "      <td>28.440007</td>\n",
       "      <td>6.847860</td>\n",
       "      <td>12.08</td>\n",
       "      <td>23.73</td>\n",
       "      <td>27.12</td>\n",
       "      <td>31.5700</td>\n",
       "      <td>87.05</td>\n",
       "    </tr>\n",
       "    <tr>\n",
       "      <th>35-39</th>\n",
       "      <td>20550.0</td>\n",
       "      <td>28.838634</td>\n",
       "      <td>6.864525</td>\n",
       "      <td>12.16</td>\n",
       "      <td>24.21</td>\n",
       "      <td>27.44</td>\n",
       "      <td>32.1100</td>\n",
       "      <td>94.85</td>\n",
       "    </tr>\n",
       "    <tr>\n",
       "      <th>40-44</th>\n",
       "      <td>21006.0</td>\n",
       "      <td>29.199764</td>\n",
       "      <td>6.891979</td>\n",
       "      <td>12.40</td>\n",
       "      <td>24.41</td>\n",
       "      <td>27.98</td>\n",
       "      <td>32.4900</td>\n",
       "      <td>91.55</td>\n",
       "    </tr>\n",
       "    <tr>\n",
       "      <th>45-49</th>\n",
       "      <td>21791.0</td>\n",
       "      <td>29.487189</td>\n",
       "      <td>6.835868</td>\n",
       "      <td>12.88</td>\n",
       "      <td>24.85</td>\n",
       "      <td>28.25</td>\n",
       "      <td>32.8900</td>\n",
       "      <td>82.50</td>\n",
       "    </tr>\n",
       "    <tr>\n",
       "      <th>50-54</th>\n",
       "      <td>25382.0</td>\n",
       "      <td>29.425097</td>\n",
       "      <td>6.681381</td>\n",
       "      <td>12.26</td>\n",
       "      <td>24.96</td>\n",
       "      <td>28.32</td>\n",
       "      <td>32.7675</td>\n",
       "      <td>94.66</td>\n",
       "    </tr>\n",
       "    <tr>\n",
       "      <th>55-59</th>\n",
       "      <td>29757.0</td>\n",
       "      <td>29.098977</td>\n",
       "      <td>6.473161</td>\n",
       "      <td>12.02</td>\n",
       "      <td>24.80</td>\n",
       "      <td>28.13</td>\n",
       "      <td>32.2800</td>\n",
       "      <td>91.55</td>\n",
       "    </tr>\n",
       "    <tr>\n",
       "      <th>60-64</th>\n",
       "      <td>33686.0</td>\n",
       "      <td>28.821778</td>\n",
       "      <td>6.262162</td>\n",
       "      <td>12.13</td>\n",
       "      <td>24.41</td>\n",
       "      <td>27.89</td>\n",
       "      <td>32.0100</td>\n",
       "      <td>84.44</td>\n",
       "    </tr>\n",
       "    <tr>\n",
       "      <th>65-69</th>\n",
       "      <td>34151.0</td>\n",
       "      <td>28.674776</td>\n",
       "      <td>6.098923</td>\n",
       "      <td>12.48</td>\n",
       "      <td>24.41</td>\n",
       "      <td>27.67</td>\n",
       "      <td>31.8000</td>\n",
       "      <td>93.86</td>\n",
       "    </tr>\n",
       "    <tr>\n",
       "      <th>70-74</th>\n",
       "      <td>31065.0</td>\n",
       "      <td>28.175795</td>\n",
       "      <td>5.714183</td>\n",
       "      <td>12.40</td>\n",
       "      <td>24.33</td>\n",
       "      <td>27.40</td>\n",
       "      <td>31.1700</td>\n",
       "      <td>79.10</td>\n",
       "    </tr>\n",
       "    <tr>\n",
       "      <th>75-79</th>\n",
       "      <td>21482.0</td>\n",
       "      <td>27.597632</td>\n",
       "      <td>5.349621</td>\n",
       "      <td>12.20</td>\n",
       "      <td>24.03</td>\n",
       "      <td>26.94</td>\n",
       "      <td>30.4100</td>\n",
       "      <td>67.67</td>\n",
       "    </tr>\n",
       "    <tr>\n",
       "      <th>80 or older</th>\n",
       "      <td>24153.0</td>\n",
       "      <td>26.217710</td>\n",
       "      <td>4.841412</td>\n",
       "      <td>12.48</td>\n",
       "      <td>23.01</td>\n",
       "      <td>25.71</td>\n",
       "      <td>28.8500</td>\n",
       "      <td>88.19</td>\n",
       "    </tr>\n",
       "  </tbody>\n",
       "</table>\n",
       "</div>"
      ],
      "text/plain": [
       "               count       mean       std    min    25%    50%      75%    max\n",
       "AgeCategory                                                                   \n",
       "18-24        21064.0  25.762770  6.022755  12.02  21.70  24.39  28.3700  83.33\n",
       "25-29        16955.0  27.688610  6.647318  12.85  23.03  26.39  30.9000  85.91\n",
       "30-34        18753.0  28.440007  6.847860  12.08  23.73  27.12  31.5700  87.05\n",
       "35-39        20550.0  28.838634  6.864525  12.16  24.21  27.44  32.1100  94.85\n",
       "40-44        21006.0  29.199764  6.891979  12.40  24.41  27.98  32.4900  91.55\n",
       "45-49        21791.0  29.487189  6.835868  12.88  24.85  28.25  32.8900  82.50\n",
       "50-54        25382.0  29.425097  6.681381  12.26  24.96  28.32  32.7675  94.66\n",
       "55-59        29757.0  29.098977  6.473161  12.02  24.80  28.13  32.2800  91.55\n",
       "60-64        33686.0  28.821778  6.262162  12.13  24.41  27.89  32.0100  84.44\n",
       "65-69        34151.0  28.674776  6.098923  12.48  24.41  27.67  31.8000  93.86\n",
       "70-74        31065.0  28.175795  5.714183  12.40  24.33  27.40  31.1700  79.10\n",
       "75-79        21482.0  27.597632  5.349621  12.20  24.03  26.94  30.4100  67.67\n",
       "80 or older  24153.0  26.217710  4.841412  12.48  23.01  25.71  28.8500  88.19"
      ]
     },
     "execution_count": 26,
     "metadata": {},
     "output_type": "execute_result"
    }
   ],
   "source": [
    "# Descriptive statistics of BMI\n",
    "heart_database[\"BMI\"].groupby(heart_database['AgeCategory']).describe()"
   ]
  },
  {
   "cell_type": "code",
   "execution_count": 27,
   "id": "db5fc425",
   "metadata": {},
   "outputs": [
    {
     "data": {
      "image/png": "[encoded data removed]",
      "text/plain": [
       "<Figure size 936x360 with 1 Axes>"
      ]
     },
     "metadata": {
      "needs_background": "light"
     },
     "output_type": "display_data"
    }
   ],
   "source": [
    "fig, ax = plt.subplots(figsize = (13,5))\n",
    "sns.kdeplot(heart_database[heart_database[\"HeartDisease\"]=='Yes'][\"BMI\"], alpha=0.5,shade = True, color=\"red\", label=\"HeartDisease\", ax = ax)\n",
    "sns.kdeplot(heart_database[heart_database[\"HeartDisease\"]=='No'][\"BMI\"], alpha=0.5,shade = True, color=\"#fccc79\", label=\"Normal\", ax = ax)\n",
    "plt.title('Distribution of Body Mass Index', fontsize = 18)\n",
    "ax.set_xlabel(\"BodyMass\")\n",
    "ax.set_ylabel(\"Frequency\")\n",
    "ax.legend();\n",
    "plt.show()"
   ]
  },
  {
   "cell_type": "markdown",
   "id": "60d8fdc2",
   "metadata": {},
   "source": [
    "<p align = \"left\">\n",
    "<img src =\"https://github.com/ivn-m/predicting_heartdisease/blob/c7ced3dbba73b96b0751c859765b386e79886994/Resources/Images/image.png?raw=true\"/>"
   ]
  },
  {
   "cell_type": "markdown",
   "id": "9044a30c-0aa2-4c42-acdd-7e623182fc02",
   "metadata": {},
   "source": [
    "Outcome:\n",
    "\n",
    "The BMI is defined as the body mass divided by the square of the body height, and is expressed in units of kg/m², resulting from mass in kilograms and height in metres. Higher BMI has a stronger association with incident heart failure.\n",
    "\n",
    "We can confirm that that the population that suffer a heartdisiease have on average a higher BMI, which means that there is a positive correlation between the high BMI and the risk of heart disiease."
   ]
  },
  {
   "cell_type": "code",
   "execution_count": 28,
   "id": "4108d506",
   "metadata": {},
   "outputs": [
    {
     "data": {
      "text/html": [
       "<div>\n",
       "<style scoped>\n",
       "    .dataframe tbody tr th:only-of-type {\n",
       "        vertical-align: middle;\n",
       "    }\n",
       "\n",
       "    .dataframe tbody tr th {\n",
       "        vertical-align: top;\n",
       "    }\n",
       "\n",
       "    .dataframe thead th {\n",
       "        text-align: right;\n",
       "    }\n",
       "</style>\n",
       "<table border=\"1\" class=\"dataframe\">\n",
       "  <thead>\n",
       "    <tr style=\"text-align: right;\">\n",
       "      <th></th>\n",
       "      <th>count</th>\n",
       "      <th>mean</th>\n",
       "      <th>std</th>\n",
       "      <th>min</th>\n",
       "      <th>25%</th>\n",
       "      <th>50%</th>\n",
       "      <th>75%</th>\n",
       "      <th>max</th>\n",
       "    </tr>\n",
       "    <tr>\n",
       "      <th>AgeCategory</th>\n",
       "      <th></th>\n",
       "      <th></th>\n",
       "      <th></th>\n",
       "      <th></th>\n",
       "      <th></th>\n",
       "      <th></th>\n",
       "      <th></th>\n",
       "      <th></th>\n",
       "    </tr>\n",
       "  </thead>\n",
       "  <tbody>\n",
       "    <tr>\n",
       "      <th>18-24</th>\n",
       "      <td>21064.0</td>\n",
       "      <td>1.698965</td>\n",
       "      <td>4.793995</td>\n",
       "      <td>0.0</td>\n",
       "      <td>0.0</td>\n",
       "      <td>0.0</td>\n",
       "      <td>1.0</td>\n",
       "      <td>30.0</td>\n",
       "    </tr>\n",
       "    <tr>\n",
       "      <th>25-29</th>\n",
       "      <td>16955.0</td>\n",
       "      <td>1.802241</td>\n",
       "      <td>5.211307</td>\n",
       "      <td>0.0</td>\n",
       "      <td>0.0</td>\n",
       "      <td>0.0</td>\n",
       "      <td>1.0</td>\n",
       "      <td>30.0</td>\n",
       "    </tr>\n",
       "    <tr>\n",
       "      <th>30-34</th>\n",
       "      <td>18753.0</td>\n",
       "      <td>2.018344</td>\n",
       "      <td>5.680184</td>\n",
       "      <td>0.0</td>\n",
       "      <td>0.0</td>\n",
       "      <td>0.0</td>\n",
       "      <td>1.0</td>\n",
       "      <td>30.0</td>\n",
       "    </tr>\n",
       "    <tr>\n",
       "      <th>35-39</th>\n",
       "      <td>20550.0</td>\n",
       "      <td>2.241606</td>\n",
       "      <td>6.098385</td>\n",
       "      <td>0.0</td>\n",
       "      <td>0.0</td>\n",
       "      <td>0.0</td>\n",
       "      <td>1.0</td>\n",
       "      <td>30.0</td>\n",
       "    </tr>\n",
       "    <tr>\n",
       "      <th>40-44</th>\n",
       "      <td>21006.0</td>\n",
       "      <td>2.574836</td>\n",
       "      <td>6.761034</td>\n",
       "      <td>0.0</td>\n",
       "      <td>0.0</td>\n",
       "      <td>0.0</td>\n",
       "      <td>1.0</td>\n",
       "      <td>30.0</td>\n",
       "    </tr>\n",
       "    <tr>\n",
       "      <th>45-49</th>\n",
       "      <td>21791.0</td>\n",
       "      <td>3.020834</td>\n",
       "      <td>7.450552</td>\n",
       "      <td>0.0</td>\n",
       "      <td>0.0</td>\n",
       "      <td>0.0</td>\n",
       "      <td>1.0</td>\n",
       "      <td>30.0</td>\n",
       "    </tr>\n",
       "    <tr>\n",
       "      <th>50-54</th>\n",
       "      <td>25382.0</td>\n",
       "      <td>3.607596</td>\n",
       "      <td>8.228561</td>\n",
       "      <td>0.0</td>\n",
       "      <td>0.0</td>\n",
       "      <td>0.0</td>\n",
       "      <td>2.0</td>\n",
       "      <td>30.0</td>\n",
       "    </tr>\n",
       "    <tr>\n",
       "      <th>55-59</th>\n",
       "      <td>29757.0</td>\n",
       "      <td>4.027422</td>\n",
       "      <td>8.707722</td>\n",
       "      <td>0.0</td>\n",
       "      <td>0.0</td>\n",
       "      <td>0.0</td>\n",
       "      <td>2.0</td>\n",
       "      <td>30.0</td>\n",
       "    </tr>\n",
       "    <tr>\n",
       "      <th>60-64</th>\n",
       "      <td>33686.0</td>\n",
       "      <td>4.317728</td>\n",
       "      <td>9.099901</td>\n",
       "      <td>0.0</td>\n",
       "      <td>0.0</td>\n",
       "      <td>0.0</td>\n",
       "      <td>2.0</td>\n",
       "      <td>30.0</td>\n",
       "    </tr>\n",
       "    <tr>\n",
       "      <th>65-69</th>\n",
       "      <td>34151.0</td>\n",
       "      <td>3.854792</td>\n",
       "      <td>8.586985</td>\n",
       "      <td>0.0</td>\n",
       "      <td>0.0</td>\n",
       "      <td>0.0</td>\n",
       "      <td>2.0</td>\n",
       "      <td>30.0</td>\n",
       "    </tr>\n",
       "    <tr>\n",
       "      <th>70-74</th>\n",
       "      <td>31065.0</td>\n",
       "      <td>3.920071</td>\n",
       "      <td>8.669911</td>\n",
       "      <td>0.0</td>\n",
       "      <td>0.0</td>\n",
       "      <td>0.0</td>\n",
       "      <td>2.0</td>\n",
       "      <td>30.0</td>\n",
       "    </tr>\n",
       "    <tr>\n",
       "      <th>75-79</th>\n",
       "      <td>21482.0</td>\n",
       "      <td>4.177684</td>\n",
       "      <td>8.969020</td>\n",
       "      <td>0.0</td>\n",
       "      <td>0.0</td>\n",
       "      <td>0.0</td>\n",
       "      <td>2.0</td>\n",
       "      <td>30.0</td>\n",
       "    </tr>\n",
       "    <tr>\n",
       "      <th>80 or older</th>\n",
       "      <td>24153.0</td>\n",
       "      <td>4.473854</td>\n",
       "      <td>9.335911</td>\n",
       "      <td>0.0</td>\n",
       "      <td>0.0</td>\n",
       "      <td>0.0</td>\n",
       "      <td>3.0</td>\n",
       "      <td>30.0</td>\n",
       "    </tr>\n",
       "  </tbody>\n",
       "</table>\n",
       "</div>"
      ],
      "text/plain": [
       "               count      mean       std  min  25%  50%  75%   max\n",
       "AgeCategory                                                       \n",
       "18-24        21064.0  1.698965  4.793995  0.0  0.0  0.0  1.0  30.0\n",
       "25-29        16955.0  1.802241  5.211307  0.0  0.0  0.0  1.0  30.0\n",
       "30-34        18753.0  2.018344  5.680184  0.0  0.0  0.0  1.0  30.0\n",
       "35-39        20550.0  2.241606  6.098385  0.0  0.0  0.0  1.0  30.0\n",
       "40-44        21006.0  2.574836  6.761034  0.0  0.0  0.0  1.0  30.0\n",
       "45-49        21791.0  3.020834  7.450552  0.0  0.0  0.0  1.0  30.0\n",
       "50-54        25382.0  3.607596  8.228561  0.0  0.0  0.0  2.0  30.0\n",
       "55-59        29757.0  4.027422  8.707722  0.0  0.0  0.0  2.0  30.0\n",
       "60-64        33686.0  4.317728  9.099901  0.0  0.0  0.0  2.0  30.0\n",
       "65-69        34151.0  3.854792  8.586985  0.0  0.0  0.0  2.0  30.0\n",
       "70-74        31065.0  3.920071  8.669911  0.0  0.0  0.0  2.0  30.0\n",
       "75-79        21482.0  4.177684  8.969020  0.0  0.0  0.0  2.0  30.0\n",
       "80 or older  24153.0  4.473854  9.335911  0.0  0.0  0.0  3.0  30.0"
      ]
     },
     "execution_count": 28,
     "metadata": {},
     "output_type": "execute_result"
    }
   ],
   "source": [
    "# Descriptive statistics Physical Health by sex\n",
    "heart_database[\"PhysicalHealth\"].groupby(heart_database['AgeCategory']).describe()"
   ]
  },
  {
   "cell_type": "code",
   "execution_count": 29,
   "id": "ccc2d86c",
   "metadata": {},
   "outputs": [
    {
     "data": {
      "text/html": [
       "<div>\n",
       "<style scoped>\n",
       "    .dataframe tbody tr th:only-of-type {\n",
       "        vertical-align: middle;\n",
       "    }\n",
       "\n",
       "    .dataframe tbody tr th {\n",
       "        vertical-align: top;\n",
       "    }\n",
       "\n",
       "    .dataframe thead th {\n",
       "        text-align: right;\n",
       "    }\n",
       "</style>\n",
       "<table border=\"1\" class=\"dataframe\">\n",
       "  <thead>\n",
       "    <tr style=\"text-align: right;\">\n",
       "      <th></th>\n",
       "      <th>count</th>\n",
       "      <th>mean</th>\n",
       "      <th>std</th>\n",
       "      <th>min</th>\n",
       "      <th>25%</th>\n",
       "      <th>50%</th>\n",
       "      <th>75%</th>\n",
       "      <th>max</th>\n",
       "    </tr>\n",
       "    <tr>\n",
       "      <th>AgeCategory</th>\n",
       "      <th></th>\n",
       "      <th></th>\n",
       "      <th></th>\n",
       "      <th></th>\n",
       "      <th></th>\n",
       "      <th></th>\n",
       "      <th></th>\n",
       "      <th></th>\n",
       "    </tr>\n",
       "  </thead>\n",
       "  <tbody>\n",
       "    <tr>\n",
       "      <th>18-24</th>\n",
       "      <td>21064.0</td>\n",
       "      <td>6.152535</td>\n",
       "      <td>8.700449</td>\n",
       "      <td>0.0</td>\n",
       "      <td>0.0</td>\n",
       "      <td>2.0</td>\n",
       "      <td>10.0</td>\n",
       "      <td>30.0</td>\n",
       "    </tr>\n",
       "    <tr>\n",
       "      <th>25-29</th>\n",
       "      <td>16955.0</td>\n",
       "      <td>5.729106</td>\n",
       "      <td>8.693158</td>\n",
       "      <td>0.0</td>\n",
       "      <td>0.0</td>\n",
       "      <td>1.0</td>\n",
       "      <td>7.0</td>\n",
       "      <td>30.0</td>\n",
       "    </tr>\n",
       "    <tr>\n",
       "      <th>30-34</th>\n",
       "      <td>18753.0</td>\n",
       "      <td>5.292540</td>\n",
       "      <td>8.590964</td>\n",
       "      <td>0.0</td>\n",
       "      <td>0.0</td>\n",
       "      <td>0.0</td>\n",
       "      <td>7.0</td>\n",
       "      <td>30.0</td>\n",
       "    </tr>\n",
       "    <tr>\n",
       "      <th>35-39</th>\n",
       "      <td>20550.0</td>\n",
       "      <td>5.049781</td>\n",
       "      <td>8.651773</td>\n",
       "      <td>0.0</td>\n",
       "      <td>0.0</td>\n",
       "      <td>0.0</td>\n",
       "      <td>5.0</td>\n",
       "      <td>30.0</td>\n",
       "    </tr>\n",
       "    <tr>\n",
       "      <th>40-44</th>\n",
       "      <td>21006.0</td>\n",
       "      <td>4.675188</td>\n",
       "      <td>8.542309</td>\n",
       "      <td>0.0</td>\n",
       "      <td>0.0</td>\n",
       "      <td>0.0</td>\n",
       "      <td>5.0</td>\n",
       "      <td>30.0</td>\n",
       "    </tr>\n",
       "    <tr>\n",
       "      <th>45-49</th>\n",
       "      <td>21791.0</td>\n",
       "      <td>4.385710</td>\n",
       "      <td>8.307699</td>\n",
       "      <td>0.0</td>\n",
       "      <td>0.0</td>\n",
       "      <td>0.0</td>\n",
       "      <td>5.0</td>\n",
       "      <td>30.0</td>\n",
       "    </tr>\n",
       "    <tr>\n",
       "      <th>50-54</th>\n",
       "      <td>25382.0</td>\n",
       "      <td>4.321763</td>\n",
       "      <td>8.481494</td>\n",
       "      <td>0.0</td>\n",
       "      <td>0.0</td>\n",
       "      <td>0.0</td>\n",
       "      <td>4.0</td>\n",
       "      <td>30.0</td>\n",
       "    </tr>\n",
       "    <tr>\n",
       "      <th>55-59</th>\n",
       "      <td>29757.0</td>\n",
       "      <td>4.055953</td>\n",
       "      <td>8.287960</td>\n",
       "      <td>0.0</td>\n",
       "      <td>0.0</td>\n",
       "      <td>0.0</td>\n",
       "      <td>3.0</td>\n",
       "      <td>30.0</td>\n",
       "    </tr>\n",
       "    <tr>\n",
       "      <th>60-64</th>\n",
       "      <td>33686.0</td>\n",
       "      <td>3.550555</td>\n",
       "      <td>7.871680</td>\n",
       "      <td>0.0</td>\n",
       "      <td>0.0</td>\n",
       "      <td>0.0</td>\n",
       "      <td>2.0</td>\n",
       "      <td>30.0</td>\n",
       "    </tr>\n",
       "    <tr>\n",
       "      <th>65-69</th>\n",
       "      <td>34151.0</td>\n",
       "      <td>2.887587</td>\n",
       "      <td>7.173972</td>\n",
       "      <td>0.0</td>\n",
       "      <td>0.0</td>\n",
       "      <td>0.0</td>\n",
       "      <td>1.0</td>\n",
       "      <td>30.0</td>\n",
       "    </tr>\n",
       "    <tr>\n",
       "      <th>70-74</th>\n",
       "      <td>31065.0</td>\n",
       "      <td>2.562562</td>\n",
       "      <td>6.777678</td>\n",
       "      <td>0.0</td>\n",
       "      <td>0.0</td>\n",
       "      <td>0.0</td>\n",
       "      <td>0.0</td>\n",
       "      <td>30.0</td>\n",
       "    </tr>\n",
       "    <tr>\n",
       "      <th>75-79</th>\n",
       "      <td>21482.0</td>\n",
       "      <td>2.280328</td>\n",
       "      <td>6.512842</td>\n",
       "      <td>0.0</td>\n",
       "      <td>0.0</td>\n",
       "      <td>0.0</td>\n",
       "      <td>0.0</td>\n",
       "      <td>30.0</td>\n",
       "    </tr>\n",
       "    <tr>\n",
       "      <th>80 or older</th>\n",
       "      <td>24153.0</td>\n",
       "      <td>1.902290</td>\n",
       "      <td>5.945330</td>\n",
       "      <td>0.0</td>\n",
       "      <td>0.0</td>\n",
       "      <td>0.0</td>\n",
       "      <td>0.0</td>\n",
       "      <td>30.0</td>\n",
       "    </tr>\n",
       "  </tbody>\n",
       "</table>\n",
       "</div>"
      ],
      "text/plain": [
       "               count      mean       std  min  25%  50%   75%   max\n",
       "AgeCategory                                                        \n",
       "18-24        21064.0  6.152535  8.700449  0.0  0.0  2.0  10.0  30.0\n",
       "25-29        16955.0  5.729106  8.693158  0.0  0.0  1.0   7.0  30.0\n",
       "30-34        18753.0  5.292540  8.590964  0.0  0.0  0.0   7.0  30.0\n",
       "35-39        20550.0  5.049781  8.651773  0.0  0.0  0.0   5.0  30.0\n",
       "40-44        21006.0  4.675188  8.542309  0.0  0.0  0.0   5.0  30.0\n",
       "45-49        21791.0  4.385710  8.307699  0.0  0.0  0.0   5.0  30.0\n",
       "50-54        25382.0  4.321763  8.481494  0.0  0.0  0.0   4.0  30.0\n",
       "55-59        29757.0  4.055953  8.287960  0.0  0.0  0.0   3.0  30.0\n",
       "60-64        33686.0  3.550555  7.871680  0.0  0.0  0.0   2.0  30.0\n",
       "65-69        34151.0  2.887587  7.173972  0.0  0.0  0.0   1.0  30.0\n",
       "70-74        31065.0  2.562562  6.777678  0.0  0.0  0.0   0.0  30.0\n",
       "75-79        21482.0  2.280328  6.512842  0.0  0.0  0.0   0.0  30.0\n",
       "80 or older  24153.0  1.902290  5.945330  0.0  0.0  0.0   0.0  30.0"
      ]
     },
     "execution_count": 29,
     "metadata": {},
     "output_type": "execute_result"
    }
   ],
   "source": [
    "# Descriptive statistics of Mental Health by AgeCategory\n",
    "heart_database[\"MentalHealth\"].groupby(heart_database['AgeCategory']).describe()"
   ]
  },
  {
   "cell_type": "code",
   "execution_count": 30,
   "id": "d6247d15",
   "metadata": {},
   "outputs": [
    {
     "data": {
      "text/html": [
       "<div>\n",
       "<style scoped>\n",
       "    .dataframe tbody tr th:only-of-type {\n",
       "        vertical-align: middle;\n",
       "    }\n",
       "\n",
       "    .dataframe tbody tr th {\n",
       "        vertical-align: top;\n",
       "    }\n",
       "\n",
       "    .dataframe thead th {\n",
       "        text-align: right;\n",
       "    }\n",
       "</style>\n",
       "<table border=\"1\" class=\"dataframe\">\n",
       "  <thead>\n",
       "    <tr style=\"text-align: right;\">\n",
       "      <th></th>\n",
       "      <th>count</th>\n",
       "      <th>mean</th>\n",
       "      <th>std</th>\n",
       "      <th>min</th>\n",
       "      <th>25%</th>\n",
       "      <th>50%</th>\n",
       "      <th>75%</th>\n",
       "      <th>max</th>\n",
       "    </tr>\n",
       "    <tr>\n",
       "      <th>AgeCategory</th>\n",
       "      <th></th>\n",
       "      <th></th>\n",
       "      <th></th>\n",
       "      <th></th>\n",
       "      <th></th>\n",
       "      <th></th>\n",
       "      <th></th>\n",
       "      <th></th>\n",
       "    </tr>\n",
       "  </thead>\n",
       "  <tbody>\n",
       "    <tr>\n",
       "      <th>18-24</th>\n",
       "      <td>21064.0</td>\n",
       "      <td>7.186432</td>\n",
       "      <td>1.428225</td>\n",
       "      <td>1.0</td>\n",
       "      <td>6.0</td>\n",
       "      <td>7.0</td>\n",
       "      <td>8.0</td>\n",
       "      <td>24.0</td>\n",
       "    </tr>\n",
       "    <tr>\n",
       "      <th>25-29</th>\n",
       "      <td>16955.0</td>\n",
       "      <td>6.986435</td>\n",
       "      <td>1.359409</td>\n",
       "      <td>1.0</td>\n",
       "      <td>6.0</td>\n",
       "      <td>7.0</td>\n",
       "      <td>8.0</td>\n",
       "      <td>24.0</td>\n",
       "    </tr>\n",
       "    <tr>\n",
       "      <th>30-34</th>\n",
       "      <td>18753.0</td>\n",
       "      <td>6.872660</td>\n",
       "      <td>1.335672</td>\n",
       "      <td>1.0</td>\n",
       "      <td>6.0</td>\n",
       "      <td>7.0</td>\n",
       "      <td>8.0</td>\n",
       "      <td>24.0</td>\n",
       "    </tr>\n",
       "    <tr>\n",
       "      <th>35-39</th>\n",
       "      <td>20550.0</td>\n",
       "      <td>6.854939</td>\n",
       "      <td>1.363130</td>\n",
       "      <td>1.0</td>\n",
       "      <td>6.0</td>\n",
       "      <td>7.0</td>\n",
       "      <td>8.0</td>\n",
       "      <td>24.0</td>\n",
       "    </tr>\n",
       "    <tr>\n",
       "      <th>40-44</th>\n",
       "      <td>21006.0</td>\n",
       "      <td>6.876940</td>\n",
       "      <td>1.356250</td>\n",
       "      <td>1.0</td>\n",
       "      <td>6.0</td>\n",
       "      <td>7.0</td>\n",
       "      <td>8.0</td>\n",
       "      <td>20.0</td>\n",
       "    </tr>\n",
       "    <tr>\n",
       "      <th>45-49</th>\n",
       "      <td>21791.0</td>\n",
       "      <td>6.904043</td>\n",
       "      <td>1.378228</td>\n",
       "      <td>1.0</td>\n",
       "      <td>6.0</td>\n",
       "      <td>7.0</td>\n",
       "      <td>8.0</td>\n",
       "      <td>24.0</td>\n",
       "    </tr>\n",
       "    <tr>\n",
       "      <th>50-54</th>\n",
       "      <td>25382.0</td>\n",
       "      <td>6.924159</td>\n",
       "      <td>1.423170</td>\n",
       "      <td>1.0</td>\n",
       "      <td>6.0</td>\n",
       "      <td>7.0</td>\n",
       "      <td>8.0</td>\n",
       "      <td>24.0</td>\n",
       "    </tr>\n",
       "    <tr>\n",
       "      <th>55-59</th>\n",
       "      <td>29757.0</td>\n",
       "      <td>6.965487</td>\n",
       "      <td>1.439668</td>\n",
       "      <td>1.0</td>\n",
       "      <td>6.0</td>\n",
       "      <td>7.0</td>\n",
       "      <td>8.0</td>\n",
       "      <td>24.0</td>\n",
       "    </tr>\n",
       "    <tr>\n",
       "      <th>60-64</th>\n",
       "      <td>33686.0</td>\n",
       "      <td>7.059105</td>\n",
       "      <td>1.448716</td>\n",
       "      <td>1.0</td>\n",
       "      <td>6.0</td>\n",
       "      <td>7.0</td>\n",
       "      <td>8.0</td>\n",
       "      <td>24.0</td>\n",
       "    </tr>\n",
       "    <tr>\n",
       "      <th>65-69</th>\n",
       "      <td>34151.0</td>\n",
       "      <td>7.202220</td>\n",
       "      <td>1.395784</td>\n",
       "      <td>1.0</td>\n",
       "      <td>6.0</td>\n",
       "      <td>7.0</td>\n",
       "      <td>8.0</td>\n",
       "      <td>24.0</td>\n",
       "    </tr>\n",
       "    <tr>\n",
       "      <th>70-74</th>\n",
       "      <td>31065.0</td>\n",
       "      <td>7.306744</td>\n",
       "      <td>1.418532</td>\n",
       "      <td>1.0</td>\n",
       "      <td>7.0</td>\n",
       "      <td>7.0</td>\n",
       "      <td>8.0</td>\n",
       "      <td>24.0</td>\n",
       "    </tr>\n",
       "    <tr>\n",
       "      <th>75-79</th>\n",
       "      <td>21482.0</td>\n",
       "      <td>7.412252</td>\n",
       "      <td>1.474755</td>\n",
       "      <td>1.0</td>\n",
       "      <td>7.0</td>\n",
       "      <td>7.0</td>\n",
       "      <td>8.0</td>\n",
       "      <td>24.0</td>\n",
       "    </tr>\n",
       "    <tr>\n",
       "      <th>80 or older</th>\n",
       "      <td>24153.0</td>\n",
       "      <td>7.540802</td>\n",
       "      <td>1.571500</td>\n",
       "      <td>1.0</td>\n",
       "      <td>7.0</td>\n",
       "      <td>8.0</td>\n",
       "      <td>8.0</td>\n",
       "      <td>24.0</td>\n",
       "    </tr>\n",
       "  </tbody>\n",
       "</table>\n",
       "</div>"
      ],
      "text/plain": [
       "               count      mean       std  min  25%  50%  75%   max\n",
       "AgeCategory                                                       \n",
       "18-24        21064.0  7.186432  1.428225  1.0  6.0  7.0  8.0  24.0\n",
       "25-29        16955.0  6.986435  1.359409  1.0  6.0  7.0  8.0  24.0\n",
       "30-34        18753.0  6.872660  1.335672  1.0  6.0  7.0  8.0  24.0\n",
       "35-39        20550.0  6.854939  1.363130  1.0  6.0  7.0  8.0  24.0\n",
       "40-44        21006.0  6.876940  1.356250  1.0  6.0  7.0  8.0  20.0\n",
       "45-49        21791.0  6.904043  1.378228  1.0  6.0  7.0  8.0  24.0\n",
       "50-54        25382.0  6.924159  1.423170  1.0  6.0  7.0  8.0  24.0\n",
       "55-59        29757.0  6.965487  1.439668  1.0  6.0  7.0  8.0  24.0\n",
       "60-64        33686.0  7.059105  1.448716  1.0  6.0  7.0  8.0  24.0\n",
       "65-69        34151.0  7.202220  1.395784  1.0  6.0  7.0  8.0  24.0\n",
       "70-74        31065.0  7.306744  1.418532  1.0  7.0  7.0  8.0  24.0\n",
       "75-79        21482.0  7.412252  1.474755  1.0  7.0  7.0  8.0  24.0\n",
       "80 or older  24153.0  7.540802  1.571500  1.0  7.0  8.0  8.0  24.0"
      ]
     },
     "execution_count": 30,
     "metadata": {},
     "output_type": "execute_result"
    }
   ],
   "source": [
    "# Descriptive statistics SleepTime by AgeCategory\n",
    "heart_database[\"SleepTime\"].groupby(heart_database['AgeCategory']).describe()"
   ]
  },
  {
   "cell_type": "markdown",
   "id": "f37479ce",
   "metadata": {},
   "source": [
    "## <b> 6<span style='color:#0386f7de'>|</span>Analysis of Non-Numeric Variables</b>"
   ]
  },
  {
   "cell_type": "code",
   "execution_count": 31,
   "id": "c67c43c5",
   "metadata": {},
   "outputs": [],
   "source": [
    "non_numeric_a = heart_database.select_dtypes(exclude='float64')\n",
    "non_numeric = non_numeric_a.select_dtypes(exclude='category')"
   ]
  },
  {
   "cell_type": "code",
   "execution_count": 32,
   "id": "45d571a0",
   "metadata": {},
   "outputs": [
    {
     "data": {
      "image/png": "[encoded data removed]",
      "text/plain": [
       "<Figure size 576x252 with 1 Axes>"
      ]
     },
     "metadata": {
      "needs_background": "light"
     },
     "output_type": "display_data"
    },
    {
     "data": {
      "image/png": "[encoded data removed]",
      "text/plain": [
       "<Figure size 576x252 with 1 Axes>"
      ]
     },
     "metadata": {
      "needs_background": "light"
     },
     "output_type": "display_data"
    },
    {
     "data": {
      "image/png": "[encoded data removed]",
      "text/plain": [
       "<Figure size 576x252 with 1 Axes>"
      ]
     },
     "metadata": {
      "needs_background": "light"
     },
     "output_type": "display_data"
    },
    {
     "data": {
      "image/png": "[encoded data removed]",
      "text/plain": [
       "<Figure size 576x252 with 1 Axes>"
      ]
     },
     "metadata": {
      "needs_background": "light"
     },
     "output_type": "display_data"
    },
    {
     "data": {
      "image/png": "[encoded data removed]",
      "text/plain": [
       "<Figure size 576x252 with 1 Axes>"
      ]
     },
     "metadata": {
      "needs_background": "light"
     },
     "output_type": "display_data"
    },
    {
     "data": {
      "image/png": "[encoded data removed]",
      "text/plain": [
       "<Figure size 576x252 with 1 Axes>"
      ]
     },
     "metadata": {
      "needs_background": "light"
     },
     "output_type": "display_data"
    },
    {
     "data": {
      "image/png": "[encoded data removed]",
      "text/plain": [
       "<Figure size 576x252 with 1 Axes>"
      ]
     },
     "metadata": {
      "needs_background": "light"
     },
     "output_type": "display_data"
    },
    {
     "data": {
      "image/png": "[encoded data removed]",
      "text/plain": [
       "<Figure size 576x252 with 1 Axes>"
      ]
     },
     "metadata": {
      "needs_background": "light"
     },
     "output_type": "display_data"
    },
    {
     "data": {
      "image/png": "[encoded data removed]",
      "text/plain": [
       "<Figure size 576x252 with 1 Axes>"
      ]
     },
     "metadata": {
      "needs_background": "light"
     },
     "output_type": "display_data"
    },
    {
     "data": {
      "image/png": "[encoded data removed]",
      "text/plain": [
       "<Figure size 576x252 with 1 Axes>"
      ]
     },
     "metadata": {
      "needs_background": "light"
     },
     "output_type": "display_data"
    },
    {
     "data": {
      "image/png": "[encoded data removed]",
      "text/plain": [
       "<Figure size 576x252 with 1 Axes>"
      ]
     },
     "metadata": {
      "needs_background": "light"
     },
     "output_type": "display_data"
    },
    {
     "data": {
      "image/png": "[encoded data removed]",
      "text/plain": [
       "<Figure size 576x252 with 1 Axes>"
      ]
     },
     "metadata": {
      "needs_background": "light"
     },
     "output_type": "display_data"
    },
    {
     "data": {
      "image/png": "[encoded data removed]",
      "text/plain": [
       "<Figure size 576x252 with 1 Axes>"
      ]
     },
     "metadata": {
      "needs_background": "light"
     },
     "output_type": "display_data"
    }
   ],
   "source": [
    "# Creating the Chart\n",
    "for i in non_numeric.columns:\n",
    "    plt.rcParams[\"figure.figsize\"] = [8.00, 3.50]\n",
    "    plt.rcParams[\"figure.autolayout\"] = True\n",
    "    ax = sns.countplot(x = non_numeric[i],data = non_numeric,hue ='HeartDisease')\n",
    "    ax.set(ylabel='Bar Count', title='Bar Count and Percent of Total')\n",
    "\n",
    "    # Seeting up % on the graphs\n",
    "    for p in ax.patches:\n",
    "        percentage = '{:.1f}' .format(p.get_height())\n",
    "        x = p.get_x() -0.15 + p.get_width()\n",
    "        y = p.get_height()\n",
    "        ax.annotate(percentage , (x, y),ha='right')\n",
    "    plt.show()"
   ]
  },
  {
   "cell_type": "markdown",
   "id": "32f4ef3f",
   "metadata": {},
   "source": [
    "# <b>7<span style='color:#0386f7de'>|</span>Heat Map Correlation Factors Between variables </b>"
   ]
  },
  {
   "cell_type": "code",
   "execution_count": 33,
   "id": "0d23166b",
   "metadata": {},
   "outputs": [],
   "source": [
    "heart_database_cat = heart_database"
   ]
  },
  {
   "cell_type": "code",
   "execution_count": 34,
   "id": "330c4cc9",
   "metadata": {},
   "outputs": [],
   "source": [
    "# #Replacing binary data types for correlation analysis\n",
    "\n",
    "heart_database_cat['HeartDisease'].replace({'No':0,'Yes':1}, inplace=True)\n",
    "heart_database_cat['Smoking'].replace({'No':0,'Yes':1}, inplace=True)\n",
    "heart_database_cat['AlcoholDrinking'].replace({'No':0,'Yes':1}, inplace=True)\n",
    "heart_database_cat['Stroke'].replace({'No':0,'Yes':1}, inplace=True)\n",
    "heart_database_cat['DiffWalking'].replace({'No':0,'Yes':1}, inplace=True)\n",
    "heart_database_cat['Diabetic'].replace({'No':0,'No, borderline diabetes':0,'Yes (during pregnancy)':1,'Yes':1}, inplace=True)\n",
    "heart_database_cat['PhysicalActivity'].replace({'No':0,'Yes':1}, inplace=True)\n",
    "heart_database_cat['Asthma'].replace({'No':0,'Yes':1}, inplace=True)\n",
    "heart_database_cat['KidneyDisease'].replace({'No':0,'Yes':1}, inplace=True)\n",
    "heart_database_cat['SkinCancer'].replace({'No':0,'Yes':1}, inplace=True)\n",
    "heart_database_cat['Sex'].replace({'Male':0,'Female':1}, inplace=True)\n",
    "heart_database_cat['AgeCategory'].replace({'18-24':0,'25-29':1,'30-34':2,'35-39':3,'40-44':4,'45-49':5,'50-54':6,'55-59':7,'60-64':8,'65-69':9,'70-74':10,'75-79':11,'80 or older':12}, inplace=True)\n",
    "heart_database_cat['Race'].replace({'White':0,'Hispanic':1,'Black':2,'Asian':3,'American Indian/Alaskan Native':4,'Other':5}, inplace=True)\n",
    "heart_database_cat['GenHealth'].replace({'Excellent':0,'Very good':1,'Good':2,'Fair':3,'Poor':4}, inplace=True)"
   ]
  },
  {
   "cell_type": "code",
   "execution_count": 35,
   "id": "36737223",
   "metadata": {},
   "outputs": [
    {
     "data": {
      "image/png": "[encoded data removed]",
      "text/plain": [
       "<Figure size 936x576 with 2 Axes>"
      ]
     },
     "metadata": {
      "needs_background": "light"
     },
     "output_type": "display_data"
    }
   ],
   "source": [
    "plt.figure(figsize=(13,8))\n",
    "mask = np.triu(np.ones_like(heart_database_cat.corr(), dtype=bool))\n",
    "cmap = sns.diverging_palette(230, 20, as_cmap=True)\n",
    "sns.heatmap(heart_database_cat.corr(), mask=mask, cmap=cmap, annot=True)\n",
    "plt.show()"
   ]
  },
  {
   "cell_type": "markdown",
   "id": "0fb7bf86-e3cc-43f9-ae0a-e689c547a969",
   "metadata": {},
   "source": [
    "Outcome:\n",
    "    \n",
    "The Heat Map show us the correlation between two variables. If the value is 1, it is said to be a positive correlation between the two variables. \n",
    "Regarding the correlation factor against the HeartDisease Variable, we notice as the variables with higher correlation the one listed below:\n",
    "- GeneralHelath\n",
    "- Age\n",
    "- Stroke\n",
    "- DiffWaking\n",
    "\n",
    "Some other variables have small or even be negative correlation (PhysicalActivity), and we would consider if we have to use them on the model."
   ]
  },
  {
   "cell_type": "markdown",
   "id": "4f55e852-c3e4-4bbf-9c10-5efd86b5eed5",
   "metadata": {},
   "source": [
    "# <b>8<span style='color:#0386f7de'>|</span> ML Data Preprocessing</b>\n"
   ]
  },
  {
   "cell_type": "code",
   "execution_count": 36,
   "id": "bc51ad43",
   "metadata": {},
   "outputs": [
    {
     "data": {
      "text/plain": [
       "<AxesSubplot:xlabel='SleepTime'>"
      ]
     },
     "execution_count": 36,
     "metadata": {},
     "output_type": "execute_result"
    },
    {
     "data": {
      "image/png": "[encoded data removed]",
      "text/plain": [
       "<Figure size 576x252 with 1 Axes>"
      ]
     },
     "metadata": {
      "needs_background": "light"
     },
     "output_type": "display_data"
    }
   ],
   "source": [
    "# Read Sleeptime to find Outliers\n",
    "sns.boxplot(heart_database[\"SleepTime\"])"
   ]
  },
  {
   "cell_type": "code",
   "execution_count": 37,
   "id": "6db74a7c",
   "metadata": {},
   "outputs": [],
   "source": [
    "# Define Quartiles\n",
    "Q1 = heart_database[\"SleepTime\"].quantile(0.25)\n",
    "Q3 = heart_database[\"SleepTime\"].quantile(0.75)\n",
    "\n",
    "IQR = Q3 - Q1\n",
    "\n",
    "lower_limit = Q1 - 1.5 * IQR\n",
    "upper_limit = Q3 + 1.5 * IQR\n",
    "\n",
    "# print(lower_limit)\n",
    "# print(upper_limit)"
   ]
  },
  {
   "cell_type": "code",
   "execution_count": 38,
   "id": "ab4b4fba",
   "metadata": {},
   "outputs": [
    {
     "data": {
      "text/plain": [
       "(315252, 18)"
      ]
     },
     "execution_count": 38,
     "metadata": {},
     "output_type": "execute_result"
    }
   ],
   "source": [
    "heart_database_clean = heart_database[(heart_database['SleepTime'] <= upper_limit) & (heart_database['SleepTime'] >= lower_limit)]\n",
    "heart_database_clean.shape\n",
    "# Removed 4543 data points"
   ]
  },
  {
   "cell_type": "code",
   "execution_count": 39,
   "id": "75b8a1a6",
   "metadata": {},
   "outputs": [
    {
     "data": {
      "text/plain": [
       "<AxesSubplot:xlabel='SleepTime', ylabel='Density'>"
      ]
     },
     "execution_count": 39,
     "metadata": {},
     "output_type": "execute_result"
    },
    {
     "data": {
      "image/png": "[encoded data removed]",
      "text/plain": [
       "<Figure size 576x252 with 1 Axes>"
      ]
     },
     "metadata": {
      "needs_background": "light"
     },
     "output_type": "display_data"
    }
   ],
   "source": [
    "# Generate New Plot\n",
    "sns.distplot(heart_database_clean['SleepTime'])\n",
    "sns.boxplot(heart_database_clean['SleepTime'])"
   ]
  },
  {
   "cell_type": "code",
   "execution_count": 40,
   "id": "8b41abe3-2950-42e6-8172-f76436993a11",
   "metadata": {},
   "outputs": [
    {
     "data": {
      "text/plain": [
       "Text(1, 13300, '26601')"
      ]
     },
     "execution_count": 40,
     "metadata": {},
     "output_type": "execute_result"
    },
    {
     "data": {
      "image/png": "[encoded data removed]",
      "text/plain": [
       "<Figure size 576x252 with 2 Axes>"
      ]
     },
     "metadata": {
      "needs_background": "light"
     },
     "output_type": "display_data"
    }
   ],
   "source": [
    "import matplotlib.pyplot as plt\n",
    "import seaborn as sns\n",
    "plt.subplot(121)\n",
    "plt.pie(x = heart_database_clean.groupby(['HeartDisease']).HeartDisease.count().to_list(),\n",
    "        labels = [\"Left\", \"Right\"], autopct='%1.2f%%', explode = (0, 0.2))\n",
    "\n",
    "plt.subplot(122)\n",
    "sns.countplot(data = heart_database_clean, x = 'HeartDisease')\n",
    "zero, one = heart_database_clean.HeartDisease.value_counts()\n",
    "plt.text(0, zero//2, zero, fontsize = 20,  horizontalalignment='center')\n",
    "plt.text(1, one//2, one, fontsize = 20, horizontalalignment='center')"
   ]
  },
  {
   "cell_type": "markdown",
   "id": "ef1fa8e7-5fc3-4641-9b95-77056fcb42a8",
   "metadata": {},
   "source": [
    "Outcome:\n",
    "\n",
    "After importing dependencies, an unbalanced dataset with two classes is artificially created and plotted, as shown in the resulting charts."
   ]
  },
  {
   "cell_type": "code",
   "execution_count": 41,
   "id": "b88707d2-be14-436a-a231-709176dd82fb",
   "metadata": {},
   "outputs": [],
   "source": [
    "# Standarize and encode the data in order to be ready for building up the Training and testing data sets."
   ]
  },
  {
   "cell_type": "markdown",
   "id": "8d3c184a-6c3c-4a6f-9306-b6375038dab6",
   "metadata": {},
   "source": [
    "# <b>9<span style='color:#0386f7de'>|</span> Split Dataset for Training and Testing</b>"
   ]
  },
  {
   "cell_type": "markdown",
   "id": "6ffe00e6",
   "metadata": {},
   "source": [
    "## 9-1 Whole dataset"
   ]
  },
  {
   "cell_type": "code",
   "execution_count": 42,
   "id": "ca81fcf1",
   "metadata": {},
   "outputs": [],
   "source": [
    "X=heart_database_clean.drop(['HeartDisease'],axis=1)\n",
    "y=heart_database_clean['HeartDisease']"
   ]
  },
  {
   "cell_type": "code",
   "execution_count": 43,
   "id": "507b4112",
   "metadata": {},
   "outputs": [],
   "source": [
    "X_encoded=pd.get_dummies(X)"
   ]
  },
  {
   "cell_type": "code",
   "execution_count": 44,
   "id": "dc3a25ea-0988-415a-bdb1-b20571f62477",
   "metadata": {},
   "outputs": [],
   "source": [
    "from sklearn.preprocessing import StandardScaler\n",
    "\n",
    "scaler = StandardScaler()\n",
    "X_encoded_scaled=(scaler.fit_transform(X_encoded))"
   ]
  },
  {
   "cell_type": "code",
   "execution_count": 45,
   "id": "bea13cb7-ccfe-44eb-a48c-bc8f27274d5f",
   "metadata": {},
   "outputs": [
    {
     "name": "stdout",
     "output_type": "stream",
     "text": [
      "Counter({0: 288651, 1: 26601})\n",
      "Counter({0: 123707, 1: 86595})\n"
     ]
    }
   ],
   "source": [
    "from collections import Counter\n",
    "from imblearn.pipeline import Pipeline\n",
    "from imblearn.over_sampling import RandomOverSampler\n",
    "from imblearn.under_sampling import RandomUnderSampler\n",
    "# summarize class distribution\n",
    "print(Counter(y))\n",
    "# define resampling\n",
    "over = RandomOverSampler(sampling_strategy=0.3)\n",
    "under = RandomUnderSampler(sampling_strategy=0.7)\n",
    "# define pipeline\n",
    "pipeline = Pipeline(steps=[\n",
    "    ('o', over), \n",
    "    ('u', under)\n",
    "])\n",
    "X_encoded_scaled, y = pipeline.fit_resample(X_encoded_scaled, y)\n",
    "# summarize class distribution\n",
    "print(Counter(y))"
   ]
  },
  {
   "cell_type": "markdown",
   "id": "d5d78e6f",
   "metadata": {},
   "source": [
    "## Split Dataset for Training and Testing"
   ]
  },
  {
   "cell_type": "code",
   "execution_count": 46,
   "id": "0549d728-dc64-4545-8fe0-bdb907406d62",
   "metadata": {},
   "outputs": [],
   "source": [
    "# Split the dataset in training and testing to perform then Maching learning process.\n",
    "from sklearn.model_selection import train_test_split\n",
    "from sklearn.metrics import recall_score\n",
    "from sklearn.metrics import accuracy_score\n",
    "from sklearn.metrics import precision_score\n",
    "\n",
    "X_train, X_test, y_train, y_test = train_test_split(X_encoded_scaled,y, test_size=0.2, random_state=42)"
   ]
  },
  {
   "cell_type": "markdown",
   "id": "f497a735-c244-4284-9e47-655ee8c85c0b",
   "metadata": {},
   "source": [
    "### Decision Tree Classifier"
   ]
  },
  {
   "cell_type": "code",
   "execution_count": 47,
   "id": "e920e4cc-081f-4339-aa72-d9c8befeed7f",
   "metadata": {},
   "outputs": [
    {
     "data": {
      "text/plain": [
       "<AxesSubplot:>"
      ]
     },
     "execution_count": 47,
     "metadata": {},
     "output_type": "execute_result"
    },
    {
     "data": {
      "image/png": "[encoded data removed]",
      "text/plain": [
       "<Figure size 576x252 with 2 Axes>"
      ]
     },
     "metadata": {
      "needs_background": "light"
     },
     "output_type": "display_data"
    }
   ],
   "source": [
    "from sklearn.metrics import confusion_matrix\n",
    "from sklearn.tree import DecisionTreeClassifier\n",
    "dt =DecisionTreeClassifier(random_state=1000)\n",
    "dt.fit(X_train, y_train)\n",
    "y_predict_dt = dt.predict(X_test)\n",
    "# confusion_matrix\n",
    "cm = confusion_matrix(y_test, y_predict_dt)\n",
    "sns.heatmap(cm, annot=True, fmt=\"d\")\n",
    "# save the image\n",
    "#plt.savefig(\"./Images/RandomOverSampler_confusion_matrix.png\")"
   ]
  },
  {
   "cell_type": "code",
   "execution_count": 48,
   "id": "9a0131b2-5835-4063-af66-a7c2f2ec1cda",
   "metadata": {},
   "outputs": [
    {
     "name": "stdout",
     "output_type": "stream",
     "text": [
      "accuracy 0.8851905565725969\n",
      "precision 0.8065906086275277\n",
      "recall 0.9493430152143845\n"
     ]
    }
   ],
   "source": [
    "print('accuracy',accuracy_score((y_test), y_predict_dt))\n",
    "print('precision',precision_score(y_test, y_predict_dt))\n",
    "print('recall',recall_score(y_test, y_predict_dt))"
   ]
  },
  {
   "cell_type": "markdown",
   "id": "f9e82356-c435-4379-b995-cadb75856e49",
   "metadata": {},
   "source": [
    "### Logistic Regresion"
   ]
  },
  {
   "cell_type": "code",
   "execution_count": 49,
   "id": "5af56ce5-395a-401c-901d-d48df70577ea",
   "metadata": {},
   "outputs": [
    {
     "data": {
      "text/plain": [
       "<AxesSubplot:>"
      ]
     },
     "execution_count": 49,
     "metadata": {},
     "output_type": "execute_result"
    },
    {
     "data": {
      "image/png": "[encoded data removed]",
      "text/plain": [
       "<Figure size 576x252 with 2 Axes>"
      ]
     },
     "metadata": {
      "needs_background": "light"
     },
     "output_type": "display_data"
    }
   ],
   "source": [
    "from sklearn.linear_model import LogisticRegression\n",
    "lr =LogisticRegression()\n",
    "lr.fit(X_train, y_train)\n",
    "y_predict_lr = lr.predict(X_test)\n",
    "# confusion_matrix\n",
    "cm = confusion_matrix(y_test, y_predict_lr)\n",
    "sns.heatmap(cm, annot=True, fmt=\"d\")"
   ]
  },
  {
   "cell_type": "code",
   "execution_count": 50,
   "id": "e9620511-f76e-487d-9a82-a846216b09bc",
   "metadata": {},
   "outputs": [
    {
     "name": "stdout",
     "output_type": "stream",
     "text": [
      "accuracy 0.7611564156819857\n",
      "precision 0.722689587905389\n",
      "recall 0.6832065467957584\n"
     ]
    }
   ],
   "source": [
    "print('accuracy',accuracy_score((y_test), y_predict_lr))\n",
    "print('precision',precision_score(y_test, y_predict_lr))\n",
    "print('recall',recall_score(y_test, y_predict_lr))"
   ]
  },
  {
   "cell_type": "markdown",
   "id": "29c20032-bb7a-41b3-9c3c-27b1b98c2fad",
   "metadata": {},
   "source": [
    "### Random Forest Classifier"
   ]
  },
  {
   "cell_type": "code",
   "execution_count": 51,
   "id": "c93bb954-7259-4149-bfa7-125e7fd2d034",
   "metadata": {},
   "outputs": [],
   "source": [
    "from sklearn.ensemble import RandomForestClassifier"
   ]
  },
  {
   "cell_type": "code",
   "execution_count": 52,
   "id": "a0ee0086-643e-4ef0-8c4b-716f8c8057a7",
   "metadata": {},
   "outputs": [
    {
     "data": {
      "text/plain": [
       "<AxesSubplot:>"
      ]
     },
     "execution_count": 52,
     "metadata": {},
     "output_type": "execute_result"
    },
    {
     "data": {
      "image/png": "[encoded data removed]",
      "text/plain": [
       "<Figure size 576x252 with 2 Axes>"
      ]
     },
     "metadata": {
      "needs_background": "light"
     },
     "output_type": "display_data"
    }
   ],
   "source": [
    "rf =RandomForestClassifier(random_state=1000) \n",
    "rf.fit(X_train, y_train)\n",
    "y_predict_rf = rf.predict(X_test)\n",
    "# confusion_matrix\n",
    "cm = confusion_matrix(y_test, y_predict_rf)\n",
    "sns.heatmap(cm, annot=True, fmt=\"d\")"
   ]
  },
  {
   "cell_type": "code",
   "execution_count": 53,
   "id": "6ca085fa-ea34-4ed5-b918-d5ffcb551982",
   "metadata": {},
   "outputs": [
    {
     "name": "stdout",
     "output_type": "stream",
     "text": [
      "accuracy 0.9090368750148594\n",
      "precision 0.8431253170979198\n",
      "recall 0.9576994006454588\n"
     ]
    }
   ],
   "source": [
    "print('accuracy',accuracy_score((y_test), y_predict_rf))\n",
    "print('precision',precision_score(y_test, y_predict_rf))\n",
    "print('recall',recall_score(y_test, y_predict_rf))"
   ]
  },
  {
   "cell_type": "code",
   "execution_count": 54,
   "id": "16aef73b-3205-4075-aed5-9542a9cd4aef",
   "metadata": {
    "tags": []
   },
   "outputs": [
    {
     "data": {
      "image/png": "[encoded data removed]",
      "text/plain": [
       "<Figure size 864x864 with 1 Axes>"
      ]
     },
     "metadata": {
      "needs_background": "light"
     },
     "output_type": "display_data"
    }
   ],
   "source": [
    "from sklearn import metrics\n",
    "\n",
    "fpr_dt, tpr_dt, thresholds_dt = metrics.roc_curve(y_test, y_predict_dt)\n",
    "fpr_lr, tpr_lr, thresholds_lr = metrics.roc_curve(y_test, y_predict_lr)\n",
    "fpr_rf, tpr_rf, thresholds_rf = metrics.roc_curve(y_test, y_predict_rf)\n",
    "plt.figure(figsize=(12,12))\n",
    "plt.plot(fpr_dt, tpr_dt, label=\"decision tree\")\n",
    "plt.plot(fpr_lr, tpr_lr, label=\"logistic regression\")\n",
    "plt.plot(fpr_rf, tpr_rf, label=\"Random Forest\")\n",
    "plt.xlim([0.0, 1.0])\n",
    "plt.ylim([0.0, 1.0])\n",
    "plt.rcParams['font.size'] = 12\n",
    "plt.title('ROC curve')\n",
    "plt.xlabel('False Positive Rate (1 - Specificity)')\n",
    "plt.ylabel('True Positive Rate (Sensitivity)')\n",
    "plt.legend(loc=\"lower right\", fontsize=10)\n",
    "plt.grid(True)"
   ]
  },
  {
   "cell_type": "markdown",
   "id": "9ef3ebb2",
   "metadata": {},
   "source": [
    "# 9-2 Feature Selection"
   ]
  },
  {
   "cell_type": "code",
   "execution_count": 55,
   "id": "45ea42ba",
   "metadata": {},
   "outputs": [],
   "source": [
    "# Creating feature matrix\n",
    "X=heart_database_clean.loc[:, [\"Sex\",\"AgeCategory\",\"Race\",\"BMI\",\"Smoking\",\"AlcoholDrinking\",\"Stroke\",\n",
    "                          \"GenHealth\",\n",
    "                          \"PhysicalActivity\",\n",
    "                          \"Diabetic\",\n",
    "                        \"DiffWalking\",\n",
    "                               \"KidneyDisease\",\n",
    "                               \"MentalHealth\"\n",
    "                         ]]\n",
    "y=heart_database_clean['HeartDisease']"
   ]
  },
  {
   "cell_type": "code",
   "execution_count": 56,
   "id": "ed122663",
   "metadata": {},
   "outputs": [
    {
     "data": {
      "text/plain": [
       "(315252, 13)"
      ]
     },
     "execution_count": 56,
     "metadata": {},
     "output_type": "execute_result"
    }
   ],
   "source": [
    "X.shape"
   ]
  },
  {
   "cell_type": "code",
   "execution_count": 57,
   "id": "fed251ad",
   "metadata": {},
   "outputs": [],
   "source": [
    "#X.info()"
   ]
  },
  {
   "cell_type": "code",
   "execution_count": 58,
   "id": "12ba21e8",
   "metadata": {},
   "outputs": [
    {
     "data": {
      "text/plain": [
       "0    288651\n",
       "1     26601\n",
       "Name: HeartDisease, dtype: int64"
      ]
     },
     "execution_count": 58,
     "metadata": {},
     "output_type": "execute_result"
    }
   ],
   "source": [
    "# Check the balance of our target values\n",
    "y.value_counts()"
   ]
  },
  {
   "cell_type": "code",
   "execution_count": 59,
   "id": "6e4e2100",
   "metadata": {},
   "outputs": [],
   "source": [
    "# For some reason the data type changed. Needed to make these adjustments to continue with ML.\n",
    "X[\"Sex\"]=X[\"Sex\"].astype(\"bool\")\n",
    "X[\"AgeCategory\"]=X[\"AgeCategory\"].astype(\"category\")\n",
    "X[\"Race\"]=X[\"Race\"].astype(\"category\")\n",
    "X[\"Smoking\"]=X[\"Smoking\"].astype(\"bool\")\n",
    "X[\"AlcoholDrinking\"]=X[\"AlcoholDrinking\"].astype(\"bool\")\n",
    "X[\"Stroke\"]=X[\"Stroke\"].astype(\"bool\")\n",
    "\n",
    "X[\"GenHealth\"]=X[\"GenHealth\"].astype(\"category\")\n",
    "X[\"PhysicalActivity\"]=X[\"PhysicalActivity\"].astype(\"bool\")\n",
    "X[\"Diabetic\"]=X[\"Diabetic\"].astype(\"bool\")\n",
    "X[\"DiffWalking\"]=X[\"DiffWalking\"].astype(\"bool\")\n",
    "X[\"KidneyDisease\"]=X[\"KidneyDisease\"].astype(\"bool\")"
   ]
  },
  {
   "cell_type": "code",
   "execution_count": 60,
   "id": "90f4f5ea",
   "metadata": {},
   "outputs": [
    {
     "data": {
      "text/plain": [
       "(315252, 34)"
      ]
     },
     "execution_count": 60,
     "metadata": {},
     "output_type": "execute_result"
    }
   ],
   "source": [
    "# Use get_dummies to transform object dtypes\n",
    "X_encoded = pd.get_dummies(X)\n",
    "X_encoded.shape"
   ]
  },
  {
   "cell_type": "code",
   "execution_count": 61,
   "id": "7d47cc3b",
   "metadata": {},
   "outputs": [
    {
     "data": {
      "text/html": [
       "<div>\n",
       "<style scoped>\n",
       "    .dataframe tbody tr th:only-of-type {\n",
       "        vertical-align: middle;\n",
       "    }\n",
       "\n",
       "    .dataframe tbody tr th {\n",
       "        vertical-align: top;\n",
       "    }\n",
       "\n",
       "    .dataframe thead th {\n",
       "        text-align: right;\n",
       "    }\n",
       "</style>\n",
       "<table border=\"1\" class=\"dataframe\">\n",
       "  <thead>\n",
       "    <tr style=\"text-align: right;\">\n",
       "      <th></th>\n",
       "      <th>Sex</th>\n",
       "      <th>BMI</th>\n",
       "      <th>Smoking</th>\n",
       "      <th>AlcoholDrinking</th>\n",
       "      <th>Stroke</th>\n",
       "      <th>PhysicalActivity</th>\n",
       "      <th>Diabetic</th>\n",
       "      <th>DiffWalking</th>\n",
       "      <th>KidneyDisease</th>\n",
       "      <th>MentalHealth</th>\n",
       "      <th>...</th>\n",
       "      <th>Race_1</th>\n",
       "      <th>Race_2</th>\n",
       "      <th>Race_3</th>\n",
       "      <th>Race_4</th>\n",
       "      <th>Race_5</th>\n",
       "      <th>GenHealth_0</th>\n",
       "      <th>GenHealth_1</th>\n",
       "      <th>GenHealth_2</th>\n",
       "      <th>GenHealth_3</th>\n",
       "      <th>GenHealth_4</th>\n",
       "    </tr>\n",
       "  </thead>\n",
       "  <tbody>\n",
       "    <tr>\n",
       "      <th>0</th>\n",
       "      <td>True</td>\n",
       "      <td>16.60</td>\n",
       "      <td>True</td>\n",
       "      <td>False</td>\n",
       "      <td>False</td>\n",
       "      <td>True</td>\n",
       "      <td>True</td>\n",
       "      <td>False</td>\n",
       "      <td>False</td>\n",
       "      <td>30.0</td>\n",
       "      <td>...</td>\n",
       "      <td>0</td>\n",
       "      <td>0</td>\n",
       "      <td>0</td>\n",
       "      <td>0</td>\n",
       "      <td>0</td>\n",
       "      <td>0</td>\n",
       "      <td>1</td>\n",
       "      <td>0</td>\n",
       "      <td>0</td>\n",
       "      <td>0</td>\n",
       "    </tr>\n",
       "    <tr>\n",
       "      <th>1</th>\n",
       "      <td>True</td>\n",
       "      <td>20.34</td>\n",
       "      <td>False</td>\n",
       "      <td>False</td>\n",
       "      <td>True</td>\n",
       "      <td>True</td>\n",
       "      <td>False</td>\n",
       "      <td>False</td>\n",
       "      <td>False</td>\n",
       "      <td>0.0</td>\n",
       "      <td>...</td>\n",
       "      <td>0</td>\n",
       "      <td>0</td>\n",
       "      <td>0</td>\n",
       "      <td>0</td>\n",
       "      <td>0</td>\n",
       "      <td>0</td>\n",
       "      <td>1</td>\n",
       "      <td>0</td>\n",
       "      <td>0</td>\n",
       "      <td>0</td>\n",
       "    </tr>\n",
       "    <tr>\n",
       "      <th>2</th>\n",
       "      <td>False</td>\n",
       "      <td>26.58</td>\n",
       "      <td>True</td>\n",
       "      <td>False</td>\n",
       "      <td>False</td>\n",
       "      <td>True</td>\n",
       "      <td>True</td>\n",
       "      <td>False</td>\n",
       "      <td>False</td>\n",
       "      <td>30.0</td>\n",
       "      <td>...</td>\n",
       "      <td>0</td>\n",
       "      <td>0</td>\n",
       "      <td>0</td>\n",
       "      <td>0</td>\n",
       "      <td>0</td>\n",
       "      <td>0</td>\n",
       "      <td>0</td>\n",
       "      <td>0</td>\n",
       "      <td>1</td>\n",
       "      <td>0</td>\n",
       "    </tr>\n",
       "    <tr>\n",
       "      <th>3</th>\n",
       "      <td>True</td>\n",
       "      <td>24.21</td>\n",
       "      <td>False</td>\n",
       "      <td>False</td>\n",
       "      <td>False</td>\n",
       "      <td>False</td>\n",
       "      <td>False</td>\n",
       "      <td>False</td>\n",
       "      <td>False</td>\n",
       "      <td>0.0</td>\n",
       "      <td>...</td>\n",
       "      <td>0</td>\n",
       "      <td>0</td>\n",
       "      <td>0</td>\n",
       "      <td>0</td>\n",
       "      <td>0</td>\n",
       "      <td>0</td>\n",
       "      <td>0</td>\n",
       "      <td>1</td>\n",
       "      <td>0</td>\n",
       "      <td>0</td>\n",
       "    </tr>\n",
       "    <tr>\n",
       "      <th>4</th>\n",
       "      <td>True</td>\n",
       "      <td>23.71</td>\n",
       "      <td>False</td>\n",
       "      <td>False</td>\n",
       "      <td>False</td>\n",
       "      <td>True</td>\n",
       "      <td>False</td>\n",
       "      <td>True</td>\n",
       "      <td>False</td>\n",
       "      <td>0.0</td>\n",
       "      <td>...</td>\n",
       "      <td>0</td>\n",
       "      <td>0</td>\n",
       "      <td>0</td>\n",
       "      <td>0</td>\n",
       "      <td>0</td>\n",
       "      <td>0</td>\n",
       "      <td>1</td>\n",
       "      <td>0</td>\n",
       "      <td>0</td>\n",
       "      <td>0</td>\n",
       "    </tr>\n",
       "  </tbody>\n",
       "</table>\n",
       "<p>5 rows × 34 columns</p>\n",
       "</div>"
      ],
      "text/plain": [
       "     Sex    BMI  Smoking  AlcoholDrinking  Stroke  PhysicalActivity  Diabetic  \\\n",
       "0   True  16.60     True            False   False              True      True   \n",
       "1   True  20.34    False            False    True              True     False   \n",
       "2  False  26.58     True            False   False              True      True   \n",
       "3   True  24.21    False            False   False             False     False   \n",
       "4   True  23.71    False            False   False              True     False   \n",
       "\n",
       "   DiffWalking  KidneyDisease  MentalHealth  ...  Race_1  Race_2  Race_3  \\\n",
       "0        False          False          30.0  ...       0       0       0   \n",
       "1        False          False           0.0  ...       0       0       0   \n",
       "2        False          False          30.0  ...       0       0       0   \n",
       "3        False          False           0.0  ...       0       0       0   \n",
       "4         True          False           0.0  ...       0       0       0   \n",
       "\n",
       "   Race_4  Race_5  GenHealth_0  GenHealth_1  GenHealth_2  GenHealth_3  \\\n",
       "0       0       0            0            1            0            0   \n",
       "1       0       0            0            1            0            0   \n",
       "2       0       0            0            0            0            1   \n",
       "3       0       0            0            0            1            0   \n",
       "4       0       0            0            1            0            0   \n",
       "\n",
       "   GenHealth_4  \n",
       "0            0  \n",
       "1            0  \n",
       "2            0  \n",
       "3            0  \n",
       "4            0  \n",
       "\n",
       "[5 rows x 34 columns]"
      ]
     },
     "execution_count": 61,
     "metadata": {},
     "output_type": "execute_result"
    }
   ],
   "source": [
    "X_encoded.head()"
   ]
  },
  {
   "cell_type": "code",
   "execution_count": 62,
   "id": "6294cf37",
   "metadata": {},
   "outputs": [],
   "source": [
    "# scale the X_encoded feature matrix\n",
    "data_scaler=StandardScaler()"
   ]
  },
  {
   "cell_type": "code",
   "execution_count": 63,
   "id": "68a3690f",
   "metadata": {},
   "outputs": [],
   "source": [
    "# fit and transform our X_encoded\n",
    "X_encoded_scaled = data_scaler.fit_transform(X_encoded)"
   ]
  },
  {
   "cell_type": "code",
   "execution_count": 64,
   "id": "054de1bd",
   "metadata": {},
   "outputs": [
    {
     "name": "stdout",
     "output_type": "stream",
     "text": [
      "Counter({0: 288651, 1: 26601})\n",
      "Counter({0: 123707, 1: 86595})\n"
     ]
    }
   ],
   "source": [
    "# Re-sampling\n",
    "\n",
    "# summarize class distribution\n",
    "print(Counter(y))\n",
    "# define resampling\n",
    "over = RandomOverSampler(sampling_strategy=0.3)\n",
    "under = RandomUnderSampler(sampling_strategy=0.7)\n",
    "# define pipeline\n",
    "pipeline = Pipeline(steps=[\n",
    "    ('o', over), \n",
    "    ('u', under)\n",
    "])\n",
    "X_encoded_scaled, y = pipeline.fit_resample(X_encoded_scaled, y)\n",
    "# summarize class distribution\n",
    "print(Counter(y))"
   ]
  },
  {
   "cell_type": "code",
   "execution_count": 65,
   "id": "3b7949bb",
   "metadata": {},
   "outputs": [],
   "source": [
    "# from sklearn.model_selection import train_test_split\n",
    "X_train, X_test, y_train, y_test= train_test_split(X_encoded_scaled,y,random_state= 1)"
   ]
  },
  {
   "cell_type": "code",
   "execution_count": 66,
   "id": "f5e93f3f",
   "metadata": {},
   "outputs": [
    {
     "data": {
      "text/plain": [
       "0    92647\n",
       "1    65079\n",
       "Name: HeartDisease, dtype: int64"
      ]
     },
     "execution_count": 66,
     "metadata": {},
     "output_type": "execute_result"
    }
   ],
   "source": [
    "# examine y_train counts\n",
    "y_train.value_counts()"
   ]
  },
  {
   "cell_type": "markdown",
   "id": "65ba2908",
   "metadata": {},
   "source": [
    "# Decision Tree Model"
   ]
  },
  {
   "cell_type": "code",
   "execution_count": 67,
   "id": "d0d46e55",
   "metadata": {},
   "outputs": [],
   "source": [
    "# Creating the decision tree classifier instance\n",
    "model = tree.DecisionTreeClassifier()\n",
    "\n",
    "# Fitting the model\n",
    "model = model.fit(X_train, y_train)"
   ]
  },
  {
   "cell_type": "code",
   "execution_count": 68,
   "id": "ae97054c",
   "metadata": {},
   "outputs": [],
   "source": [
    "# Making predictions using the testing data\n",
    "predictions = model.predict(X_test)\n",
    "\n",
    "# predictions"
   ]
  },
  {
   "cell_type": "code",
   "execution_count": 69,
   "id": "533e13a4",
   "metadata": {},
   "outputs": [
    {
     "data": {
      "text/html": [
       "<div>\n",
       "<style scoped>\n",
       "    .dataframe tbody tr th:only-of-type {\n",
       "        vertical-align: middle;\n",
       "    }\n",
       "\n",
       "    .dataframe tbody tr th {\n",
       "        vertical-align: top;\n",
       "    }\n",
       "\n",
       "    .dataframe thead th {\n",
       "        text-align: right;\n",
       "    }\n",
       "</style>\n",
       "<table border=\"1\" class=\"dataframe\">\n",
       "  <thead>\n",
       "    <tr style=\"text-align: right;\">\n",
       "      <th></th>\n",
       "      <th>Predicted 0</th>\n",
       "      <th>Predicted 1</th>\n",
       "    </tr>\n",
       "  </thead>\n",
       "  <tbody>\n",
       "    <tr>\n",
       "      <th>Actual 0</th>\n",
       "      <td>25916</td>\n",
       "      <td>5144</td>\n",
       "    </tr>\n",
       "    <tr>\n",
       "      <th>Actual 1</th>\n",
       "      <td>1704</td>\n",
       "      <td>19812</td>\n",
       "    </tr>\n",
       "  </tbody>\n",
       "</table>\n",
       "</div>"
      ],
      "text/plain": [
       "          Predicted 0  Predicted 1\n",
       "Actual 0        25916         5144\n",
       "Actual 1         1704        19812"
      ]
     },
     "execution_count": 69,
     "metadata": {},
     "output_type": "execute_result"
    }
   ],
   "source": [
    "# Calculating the confusion matrix\n",
    "cm = confusion_matrix(y_test, predictions)\n",
    "\n",
    "# Create a DataFrame from the confusion matrix.\n",
    "cm_df = pd.DataFrame(\n",
    "    cm, index=[\"Actual 0\", \"Actual 1\"], columns=[\"Predicted 0\", \"Predicted 1\"])\n",
    "\n",
    "cm_df"
   ]
  },
  {
   "cell_type": "code",
   "execution_count": 70,
   "id": "67017190",
   "metadata": {},
   "outputs": [],
   "source": [
    "# Calculating the accuracy score.\n",
    "acc_score = accuracy_score(y_test, predictions)\n",
    "\n",
    "#acc_score"
   ]
  },
  {
   "cell_type": "code",
   "execution_count": 71,
   "id": "6e000d2f",
   "metadata": {},
   "outputs": [
    {
     "name": "stdout",
     "output_type": "stream",
     "text": [
      "Confusion Matrix\n"
     ]
    },
    {
     "data": {
      "text/html": [
       "<div>\n",
       "<style scoped>\n",
       "    .dataframe tbody tr th:only-of-type {\n",
       "        vertical-align: middle;\n",
       "    }\n",
       "\n",
       "    .dataframe tbody tr th {\n",
       "        vertical-align: top;\n",
       "    }\n",
       "\n",
       "    .dataframe thead th {\n",
       "        text-align: right;\n",
       "    }\n",
       "</style>\n",
       "<table border=\"1\" class=\"dataframe\">\n",
       "  <thead>\n",
       "    <tr style=\"text-align: right;\">\n",
       "      <th></th>\n",
       "      <th>Predicted 0</th>\n",
       "      <th>Predicted 1</th>\n",
       "    </tr>\n",
       "  </thead>\n",
       "  <tbody>\n",
       "    <tr>\n",
       "      <th>Actual 0</th>\n",
       "      <td>25916</td>\n",
       "      <td>5144</td>\n",
       "    </tr>\n",
       "    <tr>\n",
       "      <th>Actual 1</th>\n",
       "      <td>1704</td>\n",
       "      <td>19812</td>\n",
       "    </tr>\n",
       "  </tbody>\n",
       "</table>\n",
       "</div>"
      ],
      "text/plain": [
       "          Predicted 0  Predicted 1\n",
       "Actual 0        25916         5144\n",
       "Actual 1         1704        19812"
      ]
     },
     "metadata": {},
     "output_type": "display_data"
    },
    {
     "name": "stdout",
     "output_type": "stream",
     "text": [
      "Accuracy Score : 0.8697504564820451\n",
      "Classification Report\n",
      "              precision    recall  f1-score   support\n",
      "\n",
      "           0       0.94      0.83      0.88     31060\n",
      "           1       0.79      0.92      0.85     21516\n",
      "\n",
      "    accuracy                           0.87     52576\n",
      "   macro avg       0.87      0.88      0.87     52576\n",
      "weighted avg       0.88      0.87      0.87     52576\n",
      "\n"
     ]
    }
   ],
   "source": [
    "# Displaying results\n",
    "print(\"Confusion Matrix\")\n",
    "display(cm_df)\n",
    "print(f\"Accuracy Score : {acc_score}\")\n",
    "print(\"Classification Report\")\n",
    "print(classification_report(y_test, predictions))"
   ]
  },
  {
   "cell_type": "markdown",
   "id": "4bcefd9f",
   "metadata": {},
   "source": [
    "### Random Forest Classifier"
   ]
  },
  {
   "cell_type": "code",
   "execution_count": 72,
   "id": "40912c67",
   "metadata": {},
   "outputs": [
    {
     "data": {
      "text/plain": [
       "<AxesSubplot:>"
      ]
     },
     "execution_count": 72,
     "metadata": {},
     "output_type": "execute_result"
    },
    {
     "data": {
      "image/png": "[encoded data removed]",
      "text/plain": [
       "<Figure size 576x252 with 2 Axes>"
      ]
     },
     "metadata": {
      "needs_background": "light"
     },
     "output_type": "display_data"
    }
   ],
   "source": [
    "rf =RandomForestClassifier(random_state=1000) \n",
    "rf.fit(X_train, y_train)\n",
    "y_predict_rf = rf.predict(X_test)\n",
    "# confusion_matrix\n",
    "cm = confusion_matrix(y_test, y_predict_rf)\n",
    "sns.heatmap(cm, annot=True, fmt=\"d\")"
   ]
  },
  {
   "cell_type": "code",
   "execution_count": 73,
   "id": "c0be6d3e",
   "metadata": {},
   "outputs": [
    {
     "name": "stdout",
     "output_type": "stream",
     "text": [
      "accuracy 0.8802495435179549\n",
      "precision 0.8066569954867827\n",
      "recall 0.9303773935675776\n"
     ]
    }
   ],
   "source": [
    "print('accuracy',accuracy_score((y_test), y_predict_rf))\n",
    "print('precision',precision_score(y_test, y_predict_rf))\n",
    "print('recall',recall_score(y_test, y_predict_rf))"
   ]
  },
  {
   "cell_type": "markdown",
   "id": "272038b7",
   "metadata": {},
   "source": [
    "### Balanced Random Forest Classifier"
   ]
  },
  {
   "cell_type": "code",
   "execution_count": 74,
   "id": "e8e429bd",
   "metadata": {},
   "outputs": [],
   "source": [
    "# Resample the training data with the BalancedRandomForestClassifier\n",
    "#model\n",
    "brf_model = BalancedRandomForestClassifier(n_estimators=100,random_state=1)\n",
    "#fit\n",
    "brf_model = brf_model.fit(X_train, y_train)\n",
    "#predict\n",
    "predictions = brf_model.predict(X_test)"
   ]
  },
  {
   "cell_type": "code",
   "execution_count": 75,
   "id": "b180dd8c",
   "metadata": {},
   "outputs": [
    {
     "name": "stdout",
     "output_type": "stream",
     "text": [
      "The balanced accuracy score is: 0.877\n"
     ]
    }
   ],
   "source": [
    "# Calculated the balanced accuracy score\n",
    "print(f\"The balanced accuracy score is: {balanced_accuracy_score(y_test,predictions):.3f}\")"
   ]
  },
  {
   "cell_type": "code",
   "execution_count": 76,
   "id": "233f8375",
   "metadata": {},
   "outputs": [
    {
     "data": {
      "text/plain": [
       "array([[24914,  6146],\n",
       "       [ 1042, 20474]])"
      ]
     },
     "execution_count": 76,
     "metadata": {},
     "output_type": "execute_result"
    }
   ],
   "source": [
    "# Display the confusion matrix\n",
    "cm = confusion_matrix(y_test, predictions)\n",
    "cm"
   ]
  },
  {
   "cell_type": "code",
   "execution_count": 77,
   "id": "aa81e54f",
   "metadata": {},
   "outputs": [
    {
     "data": {
      "text/plain": [
       "<sklearn.metrics._plot.confusion_matrix.ConfusionMatrixDisplay at 0x7f9c01959750>"
      ]
     },
     "execution_count": 77,
     "metadata": {},
     "output_type": "execute_result"
    },
    {
     "data": {
      "image/png": "[encoded data removed]",
      "text/plain": [
       "<Figure size 576x252 with 2 Axes>"
      ]
     },
     "metadata": {
      "needs_background": "light"
     },
     "output_type": "display_data"
    }
   ],
   "source": [
    "# Confusion Matrix using ConfusionMatrixDisplay\n",
    "disp=ConfusionMatrixDisplay(confusion_matrix=cm,display_labels=brf_model.classes_)\n",
    "disp.plot()\n",
    "\n",
    "# save image\n",
    "#plt.savefig(\"./Images/BalancedRandomForestClassifier_confusion_matrix.png\")"
   ]
  },
  {
   "cell_type": "code",
   "execution_count": 78,
   "id": "cddac3d5",
   "metadata": {},
   "outputs": [
    {
     "name": "stdout",
     "output_type": "stream",
     "text": [
      "BalancedRandomForestClassifier\n",
      "                   pre       rec       spe        f1       geo       iba       sup\n",
      "\n",
      "          0       0.96      0.80      0.95      0.87      0.87      0.75     31060\n",
      "          1       0.77      0.95      0.80      0.85      0.87      0.77     21516\n",
      "\n",
      "avg / total       0.88      0.86      0.89      0.86      0.87      0.76     52576\n",
      "\n"
     ]
    }
   ],
   "source": [
    "# Print the imbalanced classification report\n",
    "report=classification_report_imbalanced(y_test,predictions)\n",
    "print(\"BalancedRandomForestClassifier\")\n",
    "print(report)"
   ]
  },
  {
   "cell_type": "code",
   "execution_count": 79,
   "id": "a1935bc0",
   "metadata": {},
   "outputs": [
    {
     "data": {
      "text/html": [
       "<div>\n",
       "<style scoped>\n",
       "    .dataframe tbody tr th:only-of-type {\n",
       "        vertical-align: middle;\n",
       "    }\n",
       "\n",
       "    .dataframe tbody tr th {\n",
       "        vertical-align: top;\n",
       "    }\n",
       "\n",
       "    .dataframe thead th {\n",
       "        text-align: right;\n",
       "    }\n",
       "</style>\n",
       "<table border=\"1\" class=\"dataframe\">\n",
       "  <thead>\n",
       "    <tr style=\"text-align: right;\">\n",
       "      <th></th>\n",
       "      <th>feature</th>\n",
       "      <th>importance</th>\n",
       "    </tr>\n",
       "  </thead>\n",
       "  <tbody>\n",
       "    <tr>\n",
       "      <th>1</th>\n",
       "      <td>BMI</td>\n",
       "      <td>0.416035</td>\n",
       "    </tr>\n",
       "    <tr>\n",
       "      <th>9</th>\n",
       "      <td>MentalHealth</td>\n",
       "      <td>0.076448</td>\n",
       "    </tr>\n",
       "    <tr>\n",
       "      <th>7</th>\n",
       "      <td>DiffWalking</td>\n",
       "      <td>0.046584</td>\n",
       "    </tr>\n",
       "    <tr>\n",
       "      <th>6</th>\n",
       "      <td>Diabetic</td>\n",
       "      <td>0.035976</td>\n",
       "    </tr>\n",
       "    <tr>\n",
       "      <th>22</th>\n",
       "      <td>AgeCategory_12</td>\n",
       "      <td>0.031954</td>\n",
       "    </tr>\n",
       "    <tr>\n",
       "      <th>4</th>\n",
       "      <td>Stroke</td>\n",
       "      <td>0.030519</td>\n",
       "    </tr>\n",
       "    <tr>\n",
       "      <th>29</th>\n",
       "      <td>GenHealth_0</td>\n",
       "      <td>0.030011</td>\n",
       "    </tr>\n",
       "    <tr>\n",
       "      <th>0</th>\n",
       "      <td>Sex</td>\n",
       "      <td>0.029185</td>\n",
       "    </tr>\n",
       "    <tr>\n",
       "      <th>2</th>\n",
       "      <td>Smoking</td>\n",
       "      <td>0.023081</td>\n",
       "    </tr>\n",
       "    <tr>\n",
       "      <th>32</th>\n",
       "      <td>GenHealth_3</td>\n",
       "      <td>0.021339</td>\n",
       "    </tr>\n",
       "    <tr>\n",
       "      <th>5</th>\n",
       "      <td>PhysicalActivity</td>\n",
       "      <td>0.021095</td>\n",
       "    </tr>\n",
       "    <tr>\n",
       "      <th>21</th>\n",
       "      <td>AgeCategory_11</td>\n",
       "      <td>0.020843</td>\n",
       "    </tr>\n",
       "    <tr>\n",
       "      <th>30</th>\n",
       "      <td>GenHealth_1</td>\n",
       "      <td>0.020495</td>\n",
       "    </tr>\n",
       "    <tr>\n",
       "      <th>20</th>\n",
       "      <td>AgeCategory_10</td>\n",
       "      <td>0.018647</td>\n",
       "    </tr>\n",
       "    <tr>\n",
       "      <th>33</th>\n",
       "      <td>GenHealth_4</td>\n",
       "      <td>0.014598</td>\n",
       "    </tr>\n",
       "    <tr>\n",
       "      <th>8</th>\n",
       "      <td>KidneyDisease</td>\n",
       "      <td>0.013217</td>\n",
       "    </tr>\n",
       "    <tr>\n",
       "      <th>10</th>\n",
       "      <td>AgeCategory_0</td>\n",
       "      <td>0.012808</td>\n",
       "    </tr>\n",
       "    <tr>\n",
       "      <th>19</th>\n",
       "      <td>AgeCategory_9</td>\n",
       "      <td>0.011696</td>\n",
       "    </tr>\n",
       "    <tr>\n",
       "      <th>31</th>\n",
       "      <td>GenHealth_2</td>\n",
       "      <td>0.011333</td>\n",
       "    </tr>\n",
       "    <tr>\n",
       "      <th>13</th>\n",
       "      <td>AgeCategory_3</td>\n",
       "      <td>0.011100</td>\n",
       "    </tr>\n",
       "    <tr>\n",
       "      <th>23</th>\n",
       "      <td>Race_0</td>\n",
       "      <td>0.010495</td>\n",
       "    </tr>\n",
       "    <tr>\n",
       "      <th>3</th>\n",
       "      <td>AlcoholDrinking</td>\n",
       "      <td>0.010011</td>\n",
       "    </tr>\n",
       "    <tr>\n",
       "      <th>12</th>\n",
       "      <td>AgeCategory_2</td>\n",
       "      <td>0.009974</td>\n",
       "    </tr>\n",
       "    <tr>\n",
       "      <th>11</th>\n",
       "      <td>AgeCategory_1</td>\n",
       "      <td>0.009626</td>\n",
       "    </tr>\n",
       "    <tr>\n",
       "      <th>18</th>\n",
       "      <td>AgeCategory_8</td>\n",
       "      <td>0.008777</td>\n",
       "    </tr>\n",
       "    <tr>\n",
       "      <th>14</th>\n",
       "      <td>AgeCategory_4</td>\n",
       "      <td>0.008454</td>\n",
       "    </tr>\n",
       "    <tr>\n",
       "      <th>15</th>\n",
       "      <td>AgeCategory_5</td>\n",
       "      <td>0.007490</td>\n",
       "    </tr>\n",
       "    <tr>\n",
       "      <th>17</th>\n",
       "      <td>AgeCategory_7</td>\n",
       "      <td>0.006941</td>\n",
       "    </tr>\n",
       "    <tr>\n",
       "      <th>24</th>\n",
       "      <td>Race_1</td>\n",
       "      <td>0.006771</td>\n",
       "    </tr>\n",
       "    <tr>\n",
       "      <th>25</th>\n",
       "      <td>Race_2</td>\n",
       "      <td>0.006735</td>\n",
       "    </tr>\n",
       "    <tr>\n",
       "      <th>16</th>\n",
       "      <td>AgeCategory_6</td>\n",
       "      <td>0.006511</td>\n",
       "    </tr>\n",
       "    <tr>\n",
       "      <th>28</th>\n",
       "      <td>Race_5</td>\n",
       "      <td>0.004732</td>\n",
       "    </tr>\n",
       "    <tr>\n",
       "      <th>27</th>\n",
       "      <td>Race_4</td>\n",
       "      <td>0.003578</td>\n",
       "    </tr>\n",
       "    <tr>\n",
       "      <th>26</th>\n",
       "      <td>Race_3</td>\n",
       "      <td>0.002941</td>\n",
       "    </tr>\n",
       "  </tbody>\n",
       "</table>\n",
       "</div>"
      ],
      "text/plain": [
       "             feature  importance\n",
       "1                BMI    0.416035\n",
       "9       MentalHealth    0.076448\n",
       "7        DiffWalking    0.046584\n",
       "6           Diabetic    0.035976\n",
       "22    AgeCategory_12    0.031954\n",
       "4             Stroke    0.030519\n",
       "29       GenHealth_0    0.030011\n",
       "0                Sex    0.029185\n",
       "2            Smoking    0.023081\n",
       "32       GenHealth_3    0.021339\n",
       "5   PhysicalActivity    0.021095\n",
       "21    AgeCategory_11    0.020843\n",
       "30       GenHealth_1    0.020495\n",
       "20    AgeCategory_10    0.018647\n",
       "33       GenHealth_4    0.014598\n",
       "8      KidneyDisease    0.013217\n",
       "10     AgeCategory_0    0.012808\n",
       "19     AgeCategory_9    0.011696\n",
       "31       GenHealth_2    0.011333\n",
       "13     AgeCategory_3    0.011100\n",
       "23            Race_0    0.010495\n",
       "3    AlcoholDrinking    0.010011\n",
       "12     AgeCategory_2    0.009974\n",
       "11     AgeCategory_1    0.009626\n",
       "18     AgeCategory_8    0.008777\n",
       "14     AgeCategory_4    0.008454\n",
       "15     AgeCategory_5    0.007490\n",
       "17     AgeCategory_7    0.006941\n",
       "24            Race_1    0.006771\n",
       "25            Race_2    0.006735\n",
       "16     AgeCategory_6    0.006511\n",
       "28            Race_5    0.004732\n",
       "27            Race_4    0.003578\n",
       "26            Race_3    0.002941"
      ]
     },
     "execution_count": 79,
     "metadata": {},
     "output_type": "execute_result"
    }
   ],
   "source": [
    "# List the features sorted in descending order by feature importance\n",
    "important_features = brf_model.feature_importances_\n",
    "\n",
    "#get column names\n",
    "cols=X_encoded.columns\n",
    "\n",
    "#create the dataframe\n",
    "important_features_df = pd.DataFrame({'feature':cols,'importance':important_features})\n",
    "#important_features_df\n",
    "\n",
    "# Sort in descending order\n",
    "important_features_df.sort_values('importance',ascending=False)"
   ]
  },
  {
   "cell_type": "markdown",
   "id": "8178b624",
   "metadata": {},
   "source": [
    "### Logistic Regression"
   ]
  },
  {
   "cell_type": "code",
   "execution_count": 80,
   "id": "46853eaa",
   "metadata": {},
   "outputs": [
    {
     "data": {
      "text/plain": [
       "<AxesSubplot:>"
      ]
     },
     "execution_count": 80,
     "metadata": {},
     "output_type": "execute_result"
    },
    {
     "data": {
      "image/png": "[encoded data removed]",
      "text/plain": [
       "<Figure size 576x252 with 2 Axes>"
      ]
     },
     "metadata": {
      "needs_background": "light"
     },
     "output_type": "display_data"
    }
   ],
   "source": [
    "lr =LogisticRegression(solver='lbfgs', max_iter=200,random_state=1)\n",
    "lr.fit(X_train, y_train)\n",
    "y_predict_lr = lr.predict(X_test)\n",
    "# confusion_matrix\n",
    "cm = confusion_matrix(y_test, y_predict_lr)\n",
    "sns.heatmap(cm, annot=True, fmt=\"d\")"
   ]
  },
  {
   "cell_type": "code",
   "execution_count": 81,
   "id": "fb0578d3",
   "metadata": {},
   "outputs": [
    {
     "name": "stdout",
     "output_type": "stream",
     "text": [
      "accuracy 0.7613740109555691\n",
      "precision 0.7178241864983002\n",
      "recall 0.6869306562558096\n"
     ]
    }
   ],
   "source": [
    "print('accuracy',accuracy_score((y_test), y_predict_lr))\n",
    "print('precision',precision_score(y_test, y_predict_lr))\n",
    "print('recall',recall_score(y_test, y_predict_lr))"
   ]
  },
  {
   "cell_type": "code",
   "execution_count": 82,
   "id": "10f12a71",
   "metadata": {},
   "outputs": [],
   "source": [
    "# testing for upload"
   ]
  },
  {
   "cell_type": "markdown",
   "id": "594b18f8-93fc-4320-8604-f483c6b89c81",
   "metadata": {},
   "source": [
    "# <b>10<span style='color:#0386f7de'>|</span> Modeling</b>"
   ]
  },
  {
   "cell_type": "code",
   "execution_count": null,
   "id": "9d9a5431",
   "metadata": {},
   "outputs": [],
   "source": []
  },
  {
   "cell_type": "code",
   "execution_count": 83,
   "id": "90b07fd8-a337-4cc0-80b5-08ed55d0cadf",
   "metadata": {
    "tags": []
   },
   "outputs": [],
   "source": [
    "# We are going to perform a Classifier Analysis and a Tree decission Model to evaluate the best model to predict the heart dissiesa variable."
   ]
  },
  {
   "cell_type": "markdown",
   "id": "2d6253fe-c19b-4f33-be3a-c3bd7d297b35",
   "metadata": {
    "tags": []
   },
   "source": [
    "# Logistic Regresion "
   ]
  },
  {
   "cell_type": "markdown",
   "id": "df98b610-8e9e-46f3-93ef-d47213656fd6",
   "metadata": {},
   "source": [
    "# <b>11<span style='color:#0386f7de'>|</span> Modeling Comparison and Conclusions</b>"
   ]
  },
  {
   "cell_type": "code",
   "execution_count": 84,
   "id": "a9ec3101-4a1c-423e-837d-2ff0a69c4576",
   "metadata": {},
   "outputs": [],
   "source": [
    "# We are going to compare the model built in 9 to reach the conclusions. "
   ]
  },
  {
   "cell_type": "markdown",
   "id": "a9493707-9816-453c-9e8f-0953300f5ab5",
   "metadata": {
    "tags": []
   },
   "source": [
    "## Evaluating the Model"
   ]
  },
  {
   "cell_type": "code",
   "execution_count": null,
   "id": "023c05db-5e97-4340-80c3-ba7a494f2062",
   "metadata": {},
   "outputs": [],
   "source": []
  },
  {
   "cell_type": "markdown",
   "id": "65e0754f",
   "metadata": {},
   "source": [
    "# <b>XX<span style='color:#0386f7de'>|</span> Codes to be deleted </b>"
   ]
  },
  {
   "cell_type": "code",
   "execution_count": 85,
   "id": "db549f45",
   "metadata": {},
   "outputs": [],
   "source": [
    "# <b>4<span style='color:#0386f7de'>|</span> Preliminary Data Munging </b>\n",
    "\n",
    "# # Changing AgeCategory as category => This is still in the code!!!\n",
    "## heart_database[\"AgeCategory\"]=heart_database[\"AgeCategory\"].astype(\"category\")\n",
    "\n",
    "# # Assigning enconeded variable to AgeCategory using cat.codes\n",
    "# heart_database[\"AgeCategory_cat\"] = heart_database[\"AgeCategory\"].cat.codes\n",
    "\n",
    "# #changing variable to category\n",
    "# heart_database[\"AgeCategory_cat\"]=heart_database[\"AgeCategory_cat\"].astype(\"category\")\n",
    "# #heart_database.head(10)\n",
    "# # Changing Diabetes as category\n",
    "# heart_database[\"Diabetic\"]=heart_database[\"Diabetic\"].astype(\"category\")\n",
    "\n",
    "# # Assigning enconeded variable to AgeCategory using cat.codes\n",
    "# heart_database[\"Diabetic_cat\"] = heart_database[\"Diabetic\"].cat.codes\n",
    "\n",
    "# #changing variable to category\n",
    "# heart_database[\"Diabetic_cat\"]=heart_database[\"Diabetic_cat\"].astype(\"category\")\n",
    "\n",
    "# #heart_database.head(10)\n",
    "# # Changing Race as category\n",
    "# heart_database[\"Race\"]=heart_database[\"Race\"].astype(\"category\")\n",
    "\n",
    "# # Assigning enconeded variable to AgeCategory using cat.codes\n",
    "# heart_database[\"Race_cat\"] = heart_database[\"Race\"].cat.codes\n",
    "\n",
    "# #changing variable to category\n",
    "# heart_database[\"Race_cat\"]=heart_database[\"Race_cat\"].astype(\"category\")\n",
    "\n",
    "# #heart_database.head(10)\n",
    "# # Changing GenHealth as category\n",
    "# heart_database[\"GenHealth\"]=heart_database[\"GenHealth\"].astype(\"category\")\n",
    "\n",
    "# # Assigning enconeded variable to GenHealth using cat.codes\n",
    "# heart_database[\"GenHealth_cat\"] = heart_database[\"GenHealth\"].cat.codes\n",
    "\n",
    "# #changing variable to category\n",
    "# heart_database[\"GenHealth_cat\"]=heart_database[\"GenHealth_cat\"].astype(\"category\")\n",
    "\n",
    "# #heart_database.head(10)\n",
    "# #Replacing binary data types\n",
    "\n",
    "# heart_database['HeartDisease'].replace({'No':0,'Yes':1}, inplace=True)\n",
    "# heart_database['Smoking'].replace({'No':0,'Yes':1}, inplace=True)\n",
    "# heart_database['AlcoholDrinking'].replace({'No':0,'Yes':1}, inplace=True)\n",
    "# heart_database['Stroke'].replace({'No':0,'Yes':1}, inplace=True)\n",
    "# heart_database['DiffWalking'].replace({'No':0,'Yes':1}, inplace=True)\n",
    "# heart_database['Diabetic'].replace({'No':0,'No, borderline diabetes':0,'Yes (during pregnancy)':1,'Yes':1}, inplace=True)\n",
    "# heart_database['PhysicalActivity'].replace({'No':0,'Yes':1}, inplace=True)\n",
    "# heart_database['Asthma'].replace({'No':0,'Yes':1}, inplace=True)\n",
    "# heart_database['KidneyDisease'].replace({'No':0,'Yes':1}, inplace=True)\n",
    "# heart_database['SkinCancer'].replace({'No':0,'Yes':1}, inplace=True)\n",
    "# heart_database['Sex'].replace({'Male':0,'Female':1}, inplace=True)\n",
    "# heart_database['AgeCategory'].replace({'18-24':0,'25-29':1,'30-34':2,'35-39':3,'40-44':4,'45-49':5,'50-54':6,'55-59':7,'60-64':8,'65-69':9,'70-74':10,'75-79':11,'80 or older':12}, inplace=True)\n",
    "# heart_database['Race'].replace({'White':0,'Hispanic':1,'Black':2,'Asian':3,'American Indian/Alaskan Native':4,'Other':5}, inplace=True)\n",
    "# heart_database['GenHealth'].replace({'Excellent':0,'Very good':1,'Good':2,'Fair':3,'Poor':4}, inplace=True)\n",
    "#We'll utilize OneHotEncoder in the preprocessing stage later for some variables that have more than two unique values."
   ]
  },
  {
   "cell_type": "code",
   "execution_count": 86,
   "id": "a39432c7",
   "metadata": {},
   "outputs": [],
   "source": [
    "# # Age distribution => deleted because it was repeted\n",
    "\n",
    "# fig, ax = plt.subplots(figsize=(9, 8))\n",
    "# sns.histplot(data=heart_database, y='AgeCategory', palette='blue')\n",
    "\n",
    "# ax.set_title('Age Category Distribution', fontsize=15)\n",
    "# ax.set_ylabel('Age Category', fontdict={'fontsize': 12})\n",
    "# ax.set_xlabel('Count', fontdict={'fontsize': 12})\n",
    "# ax.xaxis.set_major_formatter(lambda x, pos: format(int(x), ','))\n",
    "\n",
    "# plt.show()\n",
    "\n",
    "# #labels=['18-24','25-29','30-34','35-39','40-44','45-49','50-54','55-59','60-64','65-69','70-74','75-79','80 or older']\n",
    "# #ax.set_yticklabels(labels)"
   ]
  }
 ],
 "metadata": {
  "interpreter": {
   "hash": "8ffcec68145925edf344ad02754f44c8f1c4f7a4f788b347a0813e09367040b8"
  },
  "kernelspec": {
   "display_name": "mlenv",
   "language": "python",
   "name": "mlenv"
  },
  "language_info": {
   "codemirror_mode": {
    "name": "ipython",
    "version": 3
   },
   "file_extension": ".py",
   "mimetype": "text/x-python",
   "name": "python",
   "nbconvert_exporter": "python",
   "pygments_lexer": "ipython3",
   "version": "3.7.11"
  }
 },
 "nbformat": 4,
 "nbformat_minor": 5
}
